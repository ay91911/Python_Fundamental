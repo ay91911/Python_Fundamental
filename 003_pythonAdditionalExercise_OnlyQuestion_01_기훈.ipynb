{
 "cells": [
  {
   "cell_type": "markdown",
   "metadata": {},
   "source": [
    "# 기본 연습 문제"
   ]
  },
  {
   "cell_type": "markdown",
   "metadata": {},
   "source": [
    "* Q) 4400명의 사람이 모였는데, 이들을 대상으로 20명씩 조를 만들려고 한다. 이 때 생성되는 조의 수는 몇 개인가?"
   ]
  },
  {
   "cell_type": "code",
   "execution_count": 4,
   "metadata": {},
   "outputs": [
    {
     "name": "stdout",
     "output_type": "stream",
     "text": [
      "220.0\n"
     ]
    }
   ],
   "source": [
    "a = 4400\n",
    "b = 20\n",
    "\n",
    "print(a/b)"
   ]
  },
  {
   "cell_type": "markdown",
   "metadata": {},
   "source": [
    "* Q) 4400명의 사람이 모였는데, 이들을 대상으로 30명씩 조를 만들려고 한다. 이 떄 생성되는 조의 수와 조에 편성이 안 되는 사람의 수는?"
   ]
  },
  {
   "cell_type": "code",
   "execution_count": 5,
   "metadata": {},
   "outputs": [
    {
     "name": "stdout",
     "output_type": "stream",
     "text": [
      "146.66666666666666\n",
      "146\n",
      "20\n"
     ]
    }
   ],
   "source": [
    "a = 4400\n",
    "b = 30\n",
    "\n",
    "print(a/b)\n",
    "print(a//b)\n",
    "print(a%b)"
   ]
  },
  {
   "cell_type": "markdown",
   "metadata": {},
   "source": [
    "* Q)  국어 80점, 수학 55점, 영어 75점, 사회 80점 --> 이 사람의 평균을 구하는 코드를 작성하시오"
   ]
  },
  {
   "cell_type": "code",
   "execution_count": null,
   "metadata": {},
   "outputs": [],
   "source": [
    "a = 80\n",
    "b = 55\n",
    "c = 75\n",
    "d = 80\n",
    "\n",
    "print((a+b+c+d)/4)\n"
   ]
  },
  {
   "cell_type": "code",
   "execution_count": 10,
   "metadata": {},
   "outputs": [
    {
     "name": "stdout",
     "output_type": "stream",
     "text": [
      "72.5\n"
     ]
    }
   ],
   "source": [
    "\n",
    "import numpy as np\n",
    "a = np.array([80,55,75,80])\n",
    "avg = np.mean(a)\n",
    "print(avg)"
   ]
  },
  {
   "cell_type": "markdown",
   "metadata": {},
   "source": [
    "* Q)  국어 80점, 수학 55점, 영어 75점, 사회 80점 --> 이 사람의 평균을 구하는 코드를 작성하시오   \n",
    "(단, 이번에는 input을 활용하여 입력받는 점수를 바탕으로 평균을 구하세요!)"
   ]
  },
  {
   "cell_type": "code",
   "execution_count": 22,
   "metadata": {},
   "outputs": [
    {
     "name": "stdout",
     "output_type": "stream",
     "text": [
      "한국어 점수를 입력해주세요!!!1\n",
      "수학 점수를 입력해주세요!!!2\n",
      "영어 점수를 입력해주세요!!!3\n",
      "사회 점수를 입력해주세요!!!4\n",
      "4과목 평균 점수 :  2.5\n"
     ]
    }
   ],
   "source": [
    "korean = int(input(\"한국어 점수를 입력해주세요!!!\"))\n",
    "math = int(input(\"수학 점수를 입력해주세요!!!\"))\n",
    "english = int(input(\"영어 점수를 입력해주세요!!!\"))\n",
    "social = int(input(\"사회 점수를 입력해주세요!!!\"))\n",
    "\n",
    "print(\"4과목 평균 점수 : \", (korean+math+english+social)/4)\n",
    "\n",
    "\n"
   ]
  },
  {
   "cell_type": "markdown",
   "metadata": {},
   "source": [
    "# * Q) 주어진 수가 홀수인지, 아니면 짝수인지 판별할 수 있는 방법을 제시하여라."
   ]
  },
  {
   "cell_type": "code",
   "execution_count": 24,
   "metadata": {},
   "outputs": [
    {
     "name": "stdout",
     "output_type": "stream",
     "text": [
      "홀짝을 판단하고자 하는 수를 입력하세요!!!34\n",
      "True\n"
     ]
    }
   ],
   "source": [
    "x = int(input(\"홀짝을 판단하고자 하는 수를 입력하세요!!!\"))\n",
    "if x % 2 == 0 :\n",
    "    print(\"True\")\n",
    "else :\n",
    "    print(\"False\")"
   ]
  },
  {
   "cell_type": "markdown",
   "metadata": {},
   "source": [
    "* Q) a = [1, 2, 3, 4,5]라는 리스트를 만들고, 여기에다가 append, insert를 활용하여 a= [1,2,\"hello\",4,5,\"Hi\",\"Monday\"]를 만들어라"
   ]
  },
  {
   "cell_type": "code",
   "execution_count": 26,
   "metadata": {},
   "outputs": [
    {
     "name": "stdout",
     "output_type": "stream",
     "text": [
      "[1, 2, 'hello', 3, 4, 5, 'Hi', 'Monday']\n"
     ]
    }
   ],
   "source": [
    "a = [1,2,3,4,5]\n",
    "\n",
    "a.insert(2,\"hello\")\n",
    "a.append(\"Hi\")\n",
    "a.append(\"Monday\")\n",
    "\n",
    "\n",
    "print(a)"
   ]
  },
  {
   "cell_type": "markdown",
   "metadata": {},
   "source": [
    "* Q) 10을 2로 나눈 몫하고 210을 3으로 나눈 몫하고 같은지 비교하시오!"
   ]
  },
  {
   "cell_type": "code",
   "execution_count": 28,
   "metadata": {},
   "outputs": [
    {
     "name": "stdout",
     "output_type": "stream",
     "text": [
      "False\n"
     ]
    }
   ],
   "source": [
    "a = 10//2\n",
    "b = 210//3\n",
    "\n",
    "if a==b :\n",
    "    print(\"True\")\n",
    "else :\n",
    "    print(\"False\")"
   ]
  },
  {
   "cell_type": "markdown",
   "metadata": {},
   "source": [
    "* Q) 12345를 4로 나눈 나머지하고, 54321을 2로 나눈 나머지하고 비교하시오!!!"
   ]
  },
  {
   "cell_type": "code",
   "execution_count": 29,
   "metadata": {},
   "outputs": [
    {
     "name": "stdout",
     "output_type": "stream",
     "text": [
      "True\n"
     ]
    }
   ],
   "source": [
    "a = 12345%4\n",
    "b = 54321%2\n",
    "\n",
    "if a==b :\n",
    "    print(\"True\")\n",
    "else :\n",
    "    print(\"False\")"
   ]
  },
  {
   "cell_type": "markdown",
   "metadata": {},
   "source": [
    "* a = [1, 2, 3, ['aa', 'bb', 'cc', ['hello', 'hi', 'hahaha']]] 에서 i를 접근해보세요. 정수 인덱스를 활용해서.."
   ]
  },
  {
   "cell_type": "code",
   "execution_count": 8,
   "metadata": {},
   "outputs": [
    {
     "name": "stdout",
     "output_type": "stream",
     "text": [
      "1\n",
      "2\n",
      "3\n",
      "['aa', 'bb', 'cc', ['hello', 'hi', 'hahaha']]\n"
     ]
    }
   ],
   "source": [
    "a = [1, 2, 3, ['aa', 'bb', 'cc', ['hello', 'hi', 'hahaha']]]\n",
    "\n",
    "for i in a:\n",
    "    print(i)\n",
    "       "
   ]
  },
  {
   "cell_type": "markdown",
   "metadata": {},
   "source": [
    "* Q) a = [\"a\",\"b\",\"c\",\"d\",\"e\",\"f\",\"g\",\"h\",\"i\",\"j\",\"k\",1,2,3,4,5]  \n",
    "1) :를 사용하여 a의 모든 값을  출력하세요  \n",
    "2) :를 사용하여 a의 처음부터 5번째 까지 값을 출력하세요.  \n",
    "3) :를 사용하여 a의 4번째부터 끝까지 값을 출력하세요.  \n",
    "4) :를 사용하여 a의 2번째부터 6번째까지 값을 출력하세요.  \n",
    "5) :를 사용하여 a의 홀수번째 위치한 값들을 출력하세요.  \n",
    "6) :를 사용하여 a의 1,4,7,10번째 위치한 값들을 출력하세요!!\n"
   ]
  },
  {
   "cell_type": "code",
   "execution_count": 19,
   "metadata": {},
   "outputs": [
    {
     "name": "stdout",
     "output_type": "stream",
     "text": [
      "['a', 'b', 'c', 'd', 'e', 'f', 'g', 'h', 'i', 'j', 'k', 1, 2, 3, 4, 5]\n",
      "['a', 'b', 'c', 'd', 'e']\n",
      "['d', 'e', 'f', 'g', 'h', 'i', 'j', 'k', 1, 2, 3, 4, 5]\n",
      "['b', 'c', 'd', 'e', 'f']\n",
      "['a', 'c', 'e', 'g', 'i', 'k', 2, 4]\n",
      "['a', 'd', 'g', 'j']\n"
     ]
    }
   ],
   "source": [
    "a = [\"a\",\"b\",\"c\",\"d\",\"e\",\"f\",\"g\",\"h\",\"i\",\"j\",\"k\",1,2,3,4,5]\n",
    "\n",
    "print(a[0:])\n",
    "print(a[0:5])\n",
    "print(a[3:])\n",
    "print(a[1:6])\n",
    "print(a[0::2])\n",
    "print(a[0:10:3])\n"
   ]
  },
  {
   "cell_type": "markdown",
   "metadata": {},
   "source": [
    "* Q) a = {\"A\":90, \"B\":80,\"C\":70 } 이 중에서 \"B\"의 점수를 출력해보세요!"
   ]
  },
  {
   "cell_type": "code",
   "execution_count": 21,
   "metadata": {},
   "outputs": [
    {
     "data": {
      "text/plain": [
       "80"
      ]
     },
     "execution_count": 21,
     "metadata": {},
     "output_type": "execute_result"
    }
   ],
   "source": [
    " a = {\"A\":90, \"B\":80,\"C\":70 } \n",
    "    \n",
    "a[\"B\"]"
   ]
  },
  {
   "cell_type": "markdown",
   "metadata": {},
   "source": [
    "Q) a = {\"A\":30, \"B\":50, \"C\":10,\"D\":43, \"E\":85, \"F\":76,\"G\":32} 이 중에서 최고점과 최저점을 찾으세요!!!"
   ]
  },
  {
   "cell_type": "code",
   "execution_count": 51,
   "metadata": {},
   "outputs": [
    {
     "name": "stdout",
     "output_type": "stream",
     "text": [
      "10\n",
      "85\n"
     ]
    }
   ],
   "source": [
    "a = {\"A\":30, \"B\":50, \"C\":10,\"D\":43, \"E\":85, \"F\":76,\"G\":32}\n",
    "\n",
    "max = 0\n",
    "min = 99999\n",
    "\n",
    "for i in a.values() :\n",
    "    if max < i :\n",
    "        max = i\n",
    "        \n",
    "    if min > i :\n",
    "        min = i\n",
    "        \n",
    "print(min)\n",
    "print(max)"
   ]
  },
  {
   "cell_type": "markdown",
   "metadata": {},
   "source": [
    "Q) a = {\"A\":30, \"B\":50, \"C\":10,\"D\":43, \"E\":85, \"F\":76,\"G\":32} 이 중에서 최고점과 최저점이 누구인지 찾으세요!!!"
   ]
  },
  {
   "cell_type": "code",
   "execution_count": 23,
   "metadata": {},
   "outputs": [
    {
     "ename": "TypeError",
     "evalue": "'<' not supported between instances of 'str' and 'int'",
     "output_type": "error",
     "traceback": [
      "\u001b[1;31m---------------------------------------------------------------------------\u001b[0m",
      "\u001b[1;31mTypeError\u001b[0m                                 Traceback (most recent call last)",
      "\u001b[1;32m<ipython-input-23-3d670ba06a28>\u001b[0m in \u001b[0;36m<module>\u001b[1;34m\u001b[0m\n\u001b[0;32m      5\u001b[0m \u001b[1;33m\u001b[0m\u001b[0m\n\u001b[0;32m      6\u001b[0m \u001b[1;32mfor\u001b[0m \u001b[0mi\u001b[0m \u001b[1;32min\u001b[0m \u001b[0mb\u001b[0m\u001b[1;33m.\u001b[0m\u001b[0mkeys\u001b[0m\u001b[1;33m(\u001b[0m\u001b[1;33m)\u001b[0m\u001b[1;33m:\u001b[0m\u001b[1;33m\u001b[0m\u001b[1;33m\u001b[0m\u001b[0m\n\u001b[1;32m----> 7\u001b[1;33m     \u001b[1;32mif\u001b[0m \u001b[0mmax\u001b[0m \u001b[1;33m<\u001b[0m \u001b[0mb\u001b[0m\u001b[1;33m[\u001b[0m\u001b[0mi\u001b[0m\u001b[1;33m]\u001b[0m \u001b[1;33m:\u001b[0m\u001b[1;33m\u001b[0m\u001b[1;33m\u001b[0m\u001b[0m\n\u001b[0m\u001b[0;32m      8\u001b[0m         \u001b[0mmax\u001b[0m \u001b[1;33m=\u001b[0m \u001b[0mi\u001b[0m\u001b[1;33m\u001b[0m\u001b[1;33m\u001b[0m\u001b[0m\n\u001b[0;32m      9\u001b[0m \u001b[1;33m\u001b[0m\u001b[0m\n",
      "\u001b[1;31mTypeError\u001b[0m: '<' not supported between instances of 'str' and 'int'"
     ]
    }
   ],
   "source": [
    "b = {\"A\":30, \"B\":50, \"C\":10,\"D\":43, \"E\":85, \"F\":76,\"G\":32}\n",
    "\n",
    "max = 0\n",
    "min = 99999\n",
    "\n",
    "for i in b.keys():\n",
    "    if max < b[i] :\n",
    "        max = i\n",
    "        \n",
    "    if min > b[i]:\n",
    "        min = i\n",
    "        \n",
    "print(\"최고점 : \",max)\n",
    "print(\"최저점 : \",min)"
   ]
  },
  {
   "cell_type": "markdown",
   "metadata": {},
   "source": [
    "*Q) 1부터 20까지 모든 수를 출력하는 프로그램을 만드세요(for/range)"
   ]
  },
  {
   "cell_type": "code",
   "execution_count": 54,
   "metadata": {},
   "outputs": [
    {
     "name": "stdout",
     "output_type": "stream",
     "text": [
      "1\n",
      "2\n",
      "3\n",
      "4\n",
      "5\n",
      "6\n",
      "7\n",
      "8\n",
      "9\n",
      "10\n",
      "11\n",
      "12\n",
      "13\n",
      "14\n",
      "15\n",
      "16\n",
      "17\n",
      "18\n",
      "19\n",
      "20\n"
     ]
    }
   ],
   "source": [
    "for i in range(1,21) :\n",
    "    print(i)"
   ]
  },
  {
   "cell_type": "markdown",
   "metadata": {},
   "source": [
    "* Q) \"hello_1\", \"hello_2\", ..., \"hello_20\"까지 출력하는 프로그램을 만드세요(for 사용)"
   ]
  },
  {
   "cell_type": "code",
   "execution_count": 67,
   "metadata": {},
   "outputs": [
    {
     "name": "stdout",
     "output_type": "stream",
     "text": [
      "hello_ 1\n",
      "hello_ 2\n",
      "hello_ 3\n",
      "hello_ 4\n",
      "hello_ 5\n",
      "hello_ 6\n",
      "hello_ 7\n",
      "hello_ 8\n",
      "hello_ 9\n",
      "hello_ 10\n",
      "hello_ 11\n",
      "hello_ 12\n",
      "hello_ 13\n",
      "hello_ 14\n",
      "hello_ 15\n",
      "hello_ 16\n",
      "hello_ 17\n",
      "hello_ 18\n",
      "hello_ 19\n",
      "hello_ 20\n"
     ]
    }
   ],
   "source": [
    "for i in range(1,21) :\n",
    "    print(\"hello_\",i)"
   ]
  },
  {
   "cell_type": "markdown",
   "metadata": {},
   "source": [
    "* Q) a = [\"one\",\"two\",\"three\",\"four\"] 과 for문을 이용하여\n",
    "b = ['one1', 'two2', 'three3', 'four4']을 만드세요.  \n",
    "1) for& range 방법   \n",
    "2) for & a 바로 방법   \n",
    "2가지 방식으로 하세요!!!\n"
   ]
  },
  {
   "cell_type": "code",
   "execution_count": 68,
   "metadata": {},
   "outputs": [
    {
     "name": "stdout",
     "output_type": "stream",
     "text": [
      "one\n",
      "two\n",
      "three\n",
      "four\n"
     ]
    }
   ],
   "source": [
    "a = [\"one\",\"two\",\"three\",\"four\"] \n",
    "for i in range(0,len(a)):\n",
    "    print(a[i])"
   ]
  },
  {
   "cell_type": "code",
   "execution_count": 70,
   "metadata": {},
   "outputs": [
    {
     "name": "stdout",
     "output_type": "stream",
     "text": [
      "one\n",
      "two\n",
      "three\n",
      "four\n"
     ]
    }
   ],
   "source": [
    "a = [\"one\",\"two\",\"three\",\"four\"] \n",
    "for i in a :\n",
    "    print(i)"
   ]
  },
  {
   "cell_type": "markdown",
   "metadata": {},
   "source": [
    "* Q) 1번/2번 학생의 시험 점수를 리스트로 만들고, 이에 대한 평균을 구하시오.  \n",
    "예: a = [10,20,30,40], b=[50,20,10,13]에 대해서, 각기 평균을 구하시오!   \n",
    "단, 시험 점수가 변동이 생길 수 있고, 시험 과목도 변동이 생길 수 있으니 a/b 중심으로 코드를 구현하세요!"
   ]
  },
  {
   "cell_type": "code",
   "execution_count": 90,
   "metadata": {},
   "outputs": [
    {
     "name": "stdout",
     "output_type": "stream",
     "text": [
      "25.0\n",
      "23.25\n"
     ]
    }
   ],
   "source": [
    "a = [10,20,30,40]\n",
    "b = [50,20,10,13]\n",
    "sum1 =0\n",
    "\n",
    "for i in range(0,len(a)):\n",
    "    sum1 = sum1+a[i]\n",
    "    \n",
    "sum2 = 0\n",
    "\n",
    "for i in range(0,len(b)) :\n",
    "    sum2 = sum2+b[i]\n",
    "\n",
    "\n",
    "\n",
    "print(sum1/len(a))    \n",
    "print(sum2/len(b))  "
   ]
  },
  {
   "cell_type": "markdown",
   "metadata": {},
   "source": [
    "* Q)  a = [\"Life\", \"is\",\"too\", \"short\", \"you\",\"need\",\"python\"] a 리스트를 화룡해서 yoo too 출력해보기!!!"
   ]
  },
  {
   "cell_type": "code",
   "execution_count": 99,
   "metadata": {},
   "outputs": [
    {
     "name": "stdout",
     "output_type": "stream",
     "text": [
      "you too\n"
     ]
    }
   ],
   "source": [
    "a = [\"Life\", \"is\",\"too\", \"short\", \"you\",\"need\",\"python\"]\n",
    "\n",
    "print(a[a.index(\"you\")],a[a.index(\"too\")])\n",
    "\n"
   ]
  },
  {
   "cell_type": "markdown",
   "metadata": {},
   "source": [
    "* Q) [\"Life\", \"is\", \"too\",\"short\"]라는 리스트를 활용해서 Life is too short 이라는 문장 만들기!!!"
   ]
  },
  {
   "cell_type": "code",
   "execution_count": 101,
   "metadata": {},
   "outputs": [
    {
     "name": "stdout",
     "output_type": "stream",
     "text": [
      "Life is too short\n"
     ]
    }
   ],
   "source": [
    "a= [\"Life\", \"is\", \"too\",\"short\"]\n",
    "\n",
    "result = \" \".join(a)\n",
    "print(result)"
   ]
  },
  {
   "cell_type": "code",
   "execution_count": 100,
   "metadata": {},
   "outputs": [
    {
     "name": "stdout",
     "output_type": "stream",
     "text": [
      "Life is too short 1 2 3 4 5\n"
     ]
    }
   ],
   "source": [
    "# 참고) join은 전체에 대한 것!\n",
    "a = [\"Life\", \"is\", \"too\",\"short\",\"1\",\"2\",\"3\",\"4\",\"5\"]\n",
    "result = \" \".join(a)\n",
    "print(result)"
   ]
  },
  {
   "cell_type": "markdown",
   "metadata": {},
   "source": [
    "* Q)  a = [1,2,3,4,5,6] 이 리스트의 원소의 갯수는?"
   ]
  },
  {
   "cell_type": "code",
   "execution_count": 102,
   "metadata": {},
   "outputs": [
    {
     "name": "stdout",
     "output_type": "stream",
     "text": [
      "6\n"
     ]
    }
   ],
   "source": [
    " a = [1,2,3,4,5,6] \n",
    "print(len(a))"
   ]
  },
  {
   "cell_type": "markdown",
   "metadata": {},
   "source": [
    "* Q) a [ 1,2,3,4,5]라는 리스트를 [1,3,5]로 만들기!!!(remove사용)"
   ]
  },
  {
   "cell_type": "code",
   "execution_count": 103,
   "metadata": {},
   "outputs": [
    {
     "name": "stdout",
     "output_type": "stream",
     "text": [
      "[1, 3, 5]\n"
     ]
    }
   ],
   "source": [
    "a=[1,2,3,4,5]\n",
    "a.remove(2)\n",
    "a.remove(4)\n",
    "\n",
    "print(a)"
   ]
  },
  {
   "cell_type": "markdown",
   "metadata": {},
   "source": [
    "* Q) a = 10 양수, 음수, 0인지 판단을 하고 싶다!! --> 완성 후에는 input을 활용하여 하는 것으로 추가 구현"
   ]
  },
  {
   "cell_type": "code",
   "execution_count": 105,
   "metadata": {},
   "outputs": [
    {
     "name": "stdout",
     "output_type": "stream",
     "text": [
      "0,양수,음수 판단할 수를 입력해 주세요!!!!!1\n",
      "a는 양수다!!!!\n"
     ]
    }
   ],
   "source": [
    "a = int(input(\"0,양수,음수 판단할 수를 입력해 주세요!!!!!\"))\n",
    "if a <0 : \n",
    "    print(\"a는 음수다!!!!\")\n",
    "elif a == 0 :\n",
    "    print(\"a는 0이다!!!!\")\n",
    "else :\n",
    "    print(\"a는 양수다!!!!\")\n"
   ]
  },
  {
   "cell_type": "markdown",
   "metadata": {},
   "source": [
    "* Q1) 입력받은 양의 정수(자연수) 홀수/짝수인지 판단을 하고, 그 결과를 출력해주세요!!"
   ]
  },
  {
   "cell_type": "code",
   "execution_count": 108,
   "metadata": {},
   "outputs": [
    {
     "name": "stdout",
     "output_type": "stream",
     "text": [
      "홀짝을 판단하고자 하는 수를 입력하세요!!!25\n",
      "입력하신 수는 홀수입니다!!!!\n"
     ]
    }
   ],
   "source": [
    "x = int(input(\"홀짝을 판단하고자 하는 수를 입력하세요!!!\"))\n",
    "if x>0 :\n",
    "    if x % 2 == 0 :\n",
    "        print(\"입력하신 수는 짝수입니다!!!!\")\n",
    "    else :\n",
    "        print(\"입력하신 수는 홀수입니다!!!!\")\n",
    "else :\n",
    "    print(\"이상해요!!!!!\")"
   ]
  },
  {
   "cell_type": "markdown",
   "metadata": {},
   "source": [
    "* Q) * Q2) A라는 사람이 5000원의 돈을 가지고 있고, 카드는 없다.  \n",
    "A의 상태는   \n",
    "money = 5000  \n",
    "card = False  \n",
    "이 사람이 목적지까지 택시를 타고 가려고 한다.\n",
    "목적지까지 가기 위해서는 카드를 소유하고 있거나, 4000원 이상의 현금을 가지고 있어야 한다.\n",
    "A 는 이 목적지까지 갈 수 있는지 판단해보세요!!!"
   ]
  },
  {
   "cell_type": "code",
   "execution_count": 112,
   "metadata": {},
   "outputs": [
    {
     "name": "stdout",
     "output_type": "stream",
     "text": [
      "갈 수 있다!!!!\n"
     ]
    }
   ],
   "source": [
    "def des(money,card) :\n",
    "    if card == \"True\":\n",
    "        print(\"갈 수 있다!!!!\")\n",
    "    elif money > 4000:\n",
    "        print(\"갈 수 있다!!!!\")\n",
    "    else :\n",
    "        print(\"갈 수 없다!!!!\")\n",
    "    \n",
    "des(5000,False)\n",
    "    "
   ]
  },
  {
   "cell_type": "markdown",
   "metadata": {},
   "source": [
    "* Q) 입력을 받은 자연수에 대해서 몇 자리 수인지 판단하세요!!!(최대 9999까지)"
   ]
  },
  {
   "cell_type": "code",
   "execution_count": 1,
   "metadata": {},
   "outputs": [
    {
     "name": "stdout",
     "output_type": "stream",
     "text": [
      "9999\n",
      "4 자리수\n"
     ]
    }
   ],
   "source": [
    "x= input()\n",
    "print(len(x),\"자리수\")\n"
   ]
  },
  {
   "cell_type": "markdown",
   "metadata": {},
   "source": [
    "* Q) a = 10, b = 20을 가지고, a=20, b=10이라고 서로 수를 바꾸는 프로그램을 작성하시오!!!"
   ]
  },
  {
   "cell_type": "code",
   "execution_count": 2,
   "metadata": {},
   "outputs": [
    {
     "name": "stdout",
     "output_type": "stream",
     "text": [
      "처음입력 : 20\n",
      "두번째입력 : 30\n",
      "변화된 a값 : 30\n",
      "변화된 b값 : 20\n"
     ]
    }
   ],
   "source": [
    "a = input(\"처음입력 : \")\n",
    "b = input(\"두번째입력 : \")\n",
    "\n",
    "a,b = b,a\n",
    "\n",
    "print(\"변화된 a값 :\",a)\n",
    "print(\"변화된 b값 :\",b)"
   ]
  },
  {
   "cell_type": "markdown",
   "metadata": {},
   "source": [
    "* Q) kg에 대한 값을 g으로 변환하는 프로그램을 작성하시오(예:1.2kg => 1200g)"
   ]
  },
  {
   "cell_type": "code",
   "execution_count": 7,
   "metadata": {},
   "outputs": [
    {
     "name": "stdout",
     "output_type": "stream",
     "text": [
      "입력하세요[kg]!!! : 1.2\n",
      "1200.0\n"
     ]
    }
   ],
   "source": [
    "kg = float(input(\"입력하세요[kg]!!! : \"))\n",
    "g = kg*1000\n",
    "\n",
    "print(g)"
   ]
  },
  {
   "cell_type": "markdown",
   "metadata": {},
   "source": [
    "* Q) g에 대한 값을 kg으로 변환하는 프로그램을 작성하시오!(예:1200g ==> 1.2kg)"
   ]
  },
  {
   "cell_type": "code",
   "execution_count": 8,
   "metadata": {},
   "outputs": [
    {
     "name": "stdout",
     "output_type": "stream",
     "text": [
      "입력하세요[g]!!! : 1234\n",
      "1.234\n"
     ]
    }
   ],
   "source": [
    "g = float(input(\"입력하세요[g]!!! : \"))\n",
    "kg = g/1000\n",
    "\n",
    "print(kg)"
   ]
  },
  {
   "cell_type": "markdown",
   "metadata": {},
   "source": [
    "* Q)  3개의 수에 대해서, 가장 큰 수를 찾는 프로그램을 작성하시오!!!\n",
    "(예를 들면, 10, 20, 17이라는 3개의 수가 있다고 하면, 이 중에서 제일 큰 수 20을 찾는 프로그램)"
   ]
  },
  {
   "cell_type": "code",
   "execution_count": 11,
   "metadata": {},
   "outputs": [
    {
     "name": "stdout",
     "output_type": "stream",
     "text": [
      "20\n"
     ]
    }
   ],
   "source": [
    "def max(a,b,c) :\n",
    "   \n",
    "    if a>b :\n",
    "        big =a\n",
    "    else :\n",
    "        big=b\n",
    "        \n",
    "    if big>c:\n",
    "        return big\n",
    "    else:\n",
    "        return c\n",
    "\n",
    "print(max(10,20,17))"
   ]
  },
  {
   "cell_type": "markdown",
   "metadata": {},
   "source": [
    "* Q) 1부터 100까지 합!!!!"
   ]
  },
  {
   "cell_type": "code",
   "execution_count": 15,
   "metadata": {},
   "outputs": [
    {
     "name": "stdout",
     "output_type": "stream",
     "text": [
      "5050\n"
     ]
    }
   ],
   "source": [
    "sum =0\n",
    "\n",
    "for i in range(1,101):\n",
    "    sum = sum+i\n",
    "    \n",
    "print(sum)    "
   ]
  },
  {
   "cell_type": "markdown",
   "metadata": {},
   "source": [
    "* Q) 1부터 100까지 곱!!"
   ]
  },
  {
   "cell_type": "code",
   "execution_count": 16,
   "metadata": {},
   "outputs": [
    {
     "name": "stdout",
     "output_type": "stream",
     "text": [
      "93326215443944152681699238856266700490715968264381621468592963895217599993229915608941463976156518286253697920827223758251185210916864000000000000000000000000\n"
     ]
    }
   ],
   "source": [
    "mul=1\n",
    "\n",
    "for i in range(1,101):\n",
    "    mul = mul*i\n",
    "    \n",
    "print(mul)    "
   ]
  },
  {
   "cell_type": "markdown",
   "metadata": {},
   "source": [
    "* Q) 시험 성적 점수 [90, 80,35,24,65,74,93]  \n",
    "시험 통과가 60점 이상이라고 할 때,\n",
    "몇 번째 학생이 통과했는지 알려주세요!!!!!"
   ]
  },
  {
   "cell_type": "code",
   "execution_count": 20,
   "metadata": {},
   "outputs": [
    {
     "name": "stdout",
     "output_type": "stream",
     "text": [
      "0\n",
      "1\n",
      "4\n",
      "5\n",
      "6\n"
     ]
    }
   ],
   "source": [
    "score = [90,80,35,24,65,74,93]\n",
    "\n",
    "for i in score :\n",
    "       if i >=60:\n",
    "            print(score.index(i)+)"
   ]
  },
  {
   "cell_type": "markdown",
   "metadata": {},
   "source": [
    "* Q) [\"A\",\"B\",\"A\",\"O\",\"AB\",\"AB\",\"O\",\"A\",\"B\",\"AB\"] 이러한 혈핵형을 가지고 있을 때, for문을 이용해서 각 혈핵형별로 몇 명인지 총 인원을 구하세요!!!!"
   ]
  },
  {
   "cell_type": "code",
   "execution_count": 27,
   "metadata": {},
   "outputs": [
    {
     "name": "stdout",
     "output_type": "stream",
     "text": [
      "A형 :  3  B형 :  2  O형 :  2  AB형 :  3\n"
     ]
    }
   ],
   "source": [
    "blood =[\"A\",\"B\",\"A\",\"O\",\"AB\",\"AB\",\"O\",\"A\",\"B\",\"AB\"]\n",
    "\n",
    "a=0\n",
    "b=0\n",
    "o=0\n",
    "ab=0\n",
    "\n",
    "for i in blood :\n",
    "    if i ==\"A\":\n",
    "        a=a+1\n",
    "    elif i==\"B\":\n",
    "        b=b+1\n",
    "    elif i==\"O\":\n",
    "        o=o+1\n",
    "    else:\n",
    "        ab=ab+1\n",
    "        \n",
    "print(\"A형 : \",a,\" B형 : \",b,\" O형 : \",o,\" AB형 : \",ab)"
   ]
  },
  {
   "cell_type": "markdown",
   "metadata": {},
   "source": [
    "* Q) [1,2,3,4,5,6,7,8,9,10,11,12] 중에서 홀수만 골라서  \n",
    "3을 곱하는 결과를 나타내시오!!!!"
   ]
  },
  {
   "cell_type": "code",
   "execution_count": 28,
   "metadata": {},
   "outputs": [
    {
     "name": "stdout",
     "output_type": "stream",
     "text": [
      "3\n",
      "9\n",
      "15\n",
      "21\n",
      "27\n",
      "33\n"
     ]
    }
   ],
   "source": [
    "num = [1,2,3,4,5,6,7,8,9,10,11,12]\n",
    "\n",
    "for i in num:\n",
    "    if i%2==1:\n",
    "        print(i*3)"
   ]
  },
  {
   "cell_type": "markdown",
   "metadata": {},
   "source": [
    "* Q) 구구단 2단, 3단, ..., 19단까지 결과를 출력하세요!!!"
   ]
  },
  {
   "cell_type": "code",
   "execution_count": 29,
   "metadata": {},
   "outputs": [
    {
     "name": "stdout",
     "output_type": "stream",
     "text": [
      "2  X  1  =  2\n",
      "2  X  2  =  4\n",
      "2  X  3  =  6\n",
      "2  X  4  =  8\n",
      "2  X  5  =  10\n",
      "2  X  6  =  12\n",
      "2  X  7  =  14\n",
      "2  X  8  =  16\n",
      "2  X  9  =  18\n",
      "3  X  1  =  3\n",
      "3  X  2  =  6\n",
      "3  X  3  =  9\n",
      "3  X  4  =  12\n",
      "3  X  5  =  15\n",
      "3  X  6  =  18\n",
      "3  X  7  =  21\n",
      "3  X  8  =  24\n",
      "3  X  9  =  27\n",
      "4  X  1  =  4\n",
      "4  X  2  =  8\n",
      "4  X  3  =  12\n",
      "4  X  4  =  16\n",
      "4  X  5  =  20\n",
      "4  X  6  =  24\n",
      "4  X  7  =  28\n",
      "4  X  8  =  32\n",
      "4  X  9  =  36\n",
      "5  X  1  =  5\n",
      "5  X  2  =  10\n",
      "5  X  3  =  15\n",
      "5  X  4  =  20\n",
      "5  X  5  =  25\n",
      "5  X  6  =  30\n",
      "5  X  7  =  35\n",
      "5  X  8  =  40\n",
      "5  X  9  =  45\n",
      "6  X  1  =  6\n",
      "6  X  2  =  12\n",
      "6  X  3  =  18\n",
      "6  X  4  =  24\n",
      "6  X  5  =  30\n",
      "6  X  6  =  36\n",
      "6  X  7  =  42\n",
      "6  X  8  =  48\n",
      "6  X  9  =  54\n",
      "7  X  1  =  7\n",
      "7  X  2  =  14\n",
      "7  X  3  =  21\n",
      "7  X  4  =  28\n",
      "7  X  5  =  35\n",
      "7  X  6  =  42\n",
      "7  X  7  =  49\n",
      "7  X  8  =  56\n",
      "7  X  9  =  63\n",
      "8  X  1  =  8\n",
      "8  X  2  =  16\n",
      "8  X  3  =  24\n",
      "8  X  4  =  32\n",
      "8  X  5  =  40\n",
      "8  X  6  =  48\n",
      "8  X  7  =  56\n",
      "8  X  8  =  64\n",
      "8  X  9  =  72\n",
      "9  X  1  =  9\n",
      "9  X  2  =  18\n",
      "9  X  3  =  27\n",
      "9  X  4  =  36\n",
      "9  X  5  =  45\n",
      "9  X  6  =  54\n",
      "9  X  7  =  63\n",
      "9  X  8  =  72\n",
      "9  X  9  =  81\n",
      "10  X  1  =  10\n",
      "10  X  2  =  20\n",
      "10  X  3  =  30\n",
      "10  X  4  =  40\n",
      "10  X  5  =  50\n",
      "10  X  6  =  60\n",
      "10  X  7  =  70\n",
      "10  X  8  =  80\n",
      "10  X  9  =  90\n",
      "11  X  1  =  11\n",
      "11  X  2  =  22\n",
      "11  X  3  =  33\n",
      "11  X  4  =  44\n",
      "11  X  5  =  55\n",
      "11  X  6  =  66\n",
      "11  X  7  =  77\n",
      "11  X  8  =  88\n",
      "11  X  9  =  99\n",
      "12  X  1  =  12\n",
      "12  X  2  =  24\n",
      "12  X  3  =  36\n",
      "12  X  4  =  48\n",
      "12  X  5  =  60\n",
      "12  X  6  =  72\n",
      "12  X  7  =  84\n",
      "12  X  8  =  96\n",
      "12  X  9  =  108\n",
      "13  X  1  =  13\n",
      "13  X  2  =  26\n",
      "13  X  3  =  39\n",
      "13  X  4  =  52\n",
      "13  X  5  =  65\n",
      "13  X  6  =  78\n",
      "13  X  7  =  91\n",
      "13  X  8  =  104\n",
      "13  X  9  =  117\n",
      "14  X  1  =  14\n",
      "14  X  2  =  28\n",
      "14  X  3  =  42\n",
      "14  X  4  =  56\n",
      "14  X  5  =  70\n",
      "14  X  6  =  84\n",
      "14  X  7  =  98\n",
      "14  X  8  =  112\n",
      "14  X  9  =  126\n",
      "15  X  1  =  15\n",
      "15  X  2  =  30\n",
      "15  X  3  =  45\n",
      "15  X  4  =  60\n",
      "15  X  5  =  75\n",
      "15  X  6  =  90\n",
      "15  X  7  =  105\n",
      "15  X  8  =  120\n",
      "15  X  9  =  135\n",
      "16  X  1  =  16\n",
      "16  X  2  =  32\n",
      "16  X  3  =  48\n",
      "16  X  4  =  64\n",
      "16  X  5  =  80\n",
      "16  X  6  =  96\n",
      "16  X  7  =  112\n",
      "16  X  8  =  128\n",
      "16  X  9  =  144\n",
      "17  X  1  =  17\n",
      "17  X  2  =  34\n",
      "17  X  3  =  51\n",
      "17  X  4  =  68\n",
      "17  X  5  =  85\n",
      "17  X  6  =  102\n",
      "17  X  7  =  119\n",
      "17  X  8  =  136\n",
      "17  X  9  =  153\n",
      "18  X  1  =  18\n",
      "18  X  2  =  36\n",
      "18  X  3  =  54\n",
      "18  X  4  =  72\n",
      "18  X  5  =  90\n",
      "18  X  6  =  108\n",
      "18  X  7  =  126\n",
      "18  X  8  =  144\n",
      "18  X  9  =  162\n",
      "19  X  1  =  19\n",
      "19  X  2  =  38\n",
      "19  X  3  =  57\n",
      "19  X  4  =  76\n",
      "19  X  5  =  95\n",
      "19  X  6  =  114\n",
      "19  X  7  =  133\n",
      "19  X  8  =  152\n",
      "19  X  9  =  171\n"
     ]
    }
   ],
   "source": [
    "for i in range(2,20):\n",
    "    for j in range(1,10):\n",
    "        print(i,\" X \",j,\" = \",i*j)"
   ]
  },
  {
   "cell_type": "markdown",
   "metadata": {},
   "source": [
    "* Q) 100 까지 소수를 모두 찾아보세요!!!!"
   ]
  },
  {
   "cell_type": "code",
   "execution_count": 32,
   "metadata": {},
   "outputs": [
    {
     "name": "stdout",
     "output_type": "stream",
     "text": [
      "2\n",
      "3\n",
      "5\n",
      "7\n",
      "11\n",
      "13\n",
      "17\n",
      "19\n",
      "23\n",
      "29\n",
      "31\n",
      "37\n",
      "41\n",
      "43\n",
      "47\n",
      "53\n",
      "59\n",
      "61\n",
      "67\n",
      "71\n",
      "73\n",
      "79\n",
      "83\n",
      "89\n",
      "97\n"
     ]
    }
   ],
   "source": [
    "for i in range(2,101):\n",
    "    chk = True\n",
    "    for j in range(2,i):\n",
    "        if i%j==0:\n",
    "            chk=False\n",
    "            break\n",
    "    if(chk):\n",
    "        print(i)"
   ]
  },
  {
   "cell_type": "markdown",
   "metadata": {},
   "source": [
    "* Q) 두 수 54, 24의 최대공약수, 공약수를 구해보세요!!!"
   ]
  },
  {
   "cell_type": "code",
   "execution_count": 40,
   "metadata": {},
   "outputs": [
    {
     "name": "stdout",
     "output_type": "stream",
     "text": [
      "최대공약수:  6\n",
      "[1, 2, 3, 6]\n"
     ]
    }
   ],
   "source": [
    "a = 54\n",
    "b = 24\n",
    "def gcd(a,b):\n",
    "    if a<b :\n",
    "        (a,b)=(b,a)\n",
    "    while b!=0:\n",
    "        (a,b)=(b,a%b)\n",
    "    return a\n",
    "\n",
    "print(\"최대공약수: \",gcd(a,b))\n",
    "\n",
    "\n",
    "c=[]\n",
    "d=[]\n",
    "\n",
    "for i in range(1,a+1):\n",
    "    if a%i==0:\n",
    "        c.append(i)\n",
    "        \n",
    "for j in range(1,b+1):\n",
    "    if b%j==0:\n",
    "        d.append(j)\n",
    "        \n",
    "print(list(set(c).intersection(d)))\n"
   ]
  },
  {
   "cell_type": "markdown",
   "metadata": {},
   "source": [
    "*Q) @@@@@ 을 출력하세요!!!"
   ]
  },
  {
   "cell_type": "code",
   "execution_count": 50,
   "metadata": {},
   "outputs": [
    {
     "name": "stdout",
     "output_type": "stream",
     "text": [
      "@@@@@\n"
     ]
    }
   ],
   "source": [
    "print(\"@\"+\"@\"+\"@\"+\"@\"+\"@\")"
   ]
  },
  {
   "cell_type": "code",
   "execution_count": 51,
   "metadata": {},
   "outputs": [
    {
     "name": "stdout",
     "output_type": "stream",
     "text": [
      "@@@@@\n"
     ]
    }
   ],
   "source": [
    "print(\"@\"*5)"
   ]
  },
  {
   "cell_type": "code",
   "execution_count": 52,
   "metadata": {},
   "outputs": [
    {
     "name": "stdout",
     "output_type": "stream",
     "text": [
      "*****"
     ]
    }
   ],
   "source": [
    "for i in range(5):\n",
    "    print(\"*\",end=\"\")"
   ]
  },
  {
   "cell_type": "code",
   "execution_count": 53,
   "metadata": {},
   "outputs": [
    {
     "name": "stdout",
     "output_type": "stream",
     "text": [
      "@@@@@"
     ]
    }
   ],
   "source": [
    "for i in range(5):\n",
    "    print(\"@\", end=\"\")"
   ]
  },
  {
   "cell_type": "code",
   "execution_count": 54,
   "metadata": {},
   "outputs": [
    {
     "name": "stdout",
     "output_type": "stream",
     "text": [
      "반복할 수를 입력하세요!!!!7\n",
      "@@@@@@@"
     ]
    }
   ],
   "source": [
    "num = int(input(\"반복할 수를 입력하세요!!!!\"))\n",
    "\n",
    "for i in range(num):\n",
    "    print(\"@\", end=\"\")"
   ]
  },
  {
   "cell_type": "code",
   "execution_count": 44,
   "metadata": {},
   "outputs": [
    {
     "name": "stdout",
     "output_type": "stream",
     "text": [
      "@@@@@ \n",
      "@@@@@ \n",
      "@@@@@ \n",
      "@@@@@ \n"
     ]
    }
   ],
   "source": [
    "for i in range(4):\n",
    "    for j in range(5):\n",
    "        print(\"@\",end=\"\")\n",
    "    print(\" \")"
   ]
  },
  {
   "cell_type": "markdown",
   "metadata": {},
   "source": [
    "* Q)   \n",
    "@@@@@  \n",
    "@@@@@  \n",
    "@@@@@  \n",
    "@@@@@  "
   ]
  },
  {
   "cell_type": "code",
   "execution_count": 45,
   "metadata": {},
   "outputs": [
    {
     "name": "stdout",
     "output_type": "stream",
     "text": [
      "@@@@@ \n",
      "@@@@@ \n",
      "@@@@@ \n",
      "@@@@@ \n",
      "@@@@@ \n"
     ]
    }
   ],
   "source": [
    "for i in range(5):\n",
    "    for j in range(5):\n",
    "        print(\"@\",end=\"\")\n",
    "    print(\" \")"
   ]
  },
  {
   "cell_type": "code",
   "execution_count": 53,
   "metadata": {},
   "outputs": [
    {
     "name": "stdout",
     "output_type": "stream",
     "text": [
      "@ \n",
      "@@ \n",
      "@@@ \n",
      "@@@@ \n",
      "@@@@@ \n"
     ]
    }
   ],
   "source": [
    "for i in range(5):\n",
    "    for j in range(i+1):\n",
    "        print(\"@\",end=\"\")\n",
    "    print(\" \")"
   ]
  },
  {
   "cell_type": "markdown",
   "metadata": {},
   "source": [
    "* Q) 위의 그림을 만드세요"
   ]
  },
  {
   "cell_type": "code",
   "execution_count": 54,
   "metadata": {},
   "outputs": [
    {
     "name": "stdout",
     "output_type": "stream",
     "text": [
      "@ \n",
      "@@ \n",
      "@@@ \n",
      "@@@@ \n",
      "@@@@@ \n"
     ]
    }
   ],
   "source": [
    "for i in range(5):\n",
    "    for j in range(i+1):\n",
    "        print(\"@\",end=\"\")\n",
    "    print(\" \")"
   ]
  },
  {
   "cell_type": "code",
   "execution_count": 70,
   "metadata": {},
   "outputs": [
    {
     "name": "stdout",
     "output_type": "stream",
     "text": [
      "@@@@@ \n",
      " @@@@ \n",
      "  @@@ \n",
      "   @@ \n",
      "    @ \n"
     ]
    }
   ],
   "source": [
    "for i in range(5):\n",
    "    for j in range(5):\n",
    "            if j<i:\n",
    "                print(end=\" \")\n",
    "            else :\n",
    "                print(\"@\",end=\"\")\n",
    "    print(\" \")"
   ]
  },
  {
   "cell_type": "markdown",
   "metadata": {},
   "source": [
    "* Q) 위의 그림을 만드세요!!!"
   ]
  },
  {
   "cell_type": "code",
   "execution_count": null,
   "metadata": {},
   "outputs": [],
   "source": [
    "1줄 : 5개 찍기\n",
    "2줄 : 4개 찍기\n",
    "3줄 : 3개 찍기\n",
    "4줄 : 2개 찍기\n",
    "5중 : 1개 찍기"
   ]
  },
  {
   "cell_type": "code",
   "execution_count": null,
   "metadata": {},
   "outputs": [],
   "source": [
    "힌트   \n",
    "\n",
    "@@@@*\n",
    "@@@**\n",
    "@@***\n",
    "@****\n",
    "*****"
   ]
  },
  {
   "cell_type": "code",
   "execution_count": 61,
   "metadata": {},
   "outputs": [
    {
     "name": "stdout",
     "output_type": "stream",
     "text": [
      "@@@@@\n",
      " @@@@\n",
      "  @@@\n",
      "   @@\n",
      "    @\n"
     ]
    }
   ],
   "source": []
  },
  {
   "cell_type": "code",
   "execution_count": null,
   "metadata": {},
   "outputs": [],
   "source": []
  },
  {
   "cell_type": "code",
   "execution_count": 62,
   "metadata": {},
   "outputs": [
    {
     "name": "stdout",
     "output_type": "stream",
     "text": [
      "    @\n",
      "   @@@\n",
      "  @@@@@\n",
      " @@@@@@@\n",
      "@@@@@@@@@\n"
     ]
    }
   ],
   "source": []
  },
  {
   "cell_type": "markdown",
   "metadata": {},
   "source": [
    "* Q) 위의 그림을 만드세요!"
   ]
  },
  {
   "cell_type": "code",
   "execution_count": 78,
   "metadata": {},
   "outputs": [
    {
     "name": "stdout",
     "output_type": "stream",
     "text": [
      "     @\n",
      "    @@@\n",
      "   @@@@@\n",
      "  @@@@@@@\n",
      " @@@@@@@@@\n"
     ]
    }
   ],
   "source": [
    "for i in range(5):\n",
    "    for j in range(5-i):\n",
    "        print(\" \",end=\"\")\n",
    "    for j in range(2*i+1):\n",
    "        print(\"@\",end=\"\")\n",
    "    \n",
    "    print()"
   ]
  },
  {
   "cell_type": "code",
   "execution_count": null,
   "metadata": {},
   "outputs": [],
   "source": []
  },
  {
   "cell_type": "code",
   "execution_count": 64,
   "metadata": {},
   "outputs": [
    {
     "name": "stdout",
     "output_type": "stream",
     "text": [
      "@@@@@@@@@\n",
      " @@@@@@@\n",
      "  @@@@@\n",
      "   @@@\n",
      "    @\n"
     ]
    }
   ],
   "source": []
  },
  {
   "cell_type": "markdown",
   "metadata": {},
   "source": [
    "* Q) 위의 그림을 만드세요"
   ]
  },
  {
   "cell_type": "code",
   "execution_count": 106,
   "metadata": {},
   "outputs": [
    {
     "name": "stdout",
     "output_type": "stream",
     "text": [
      "@@@@@@@@@\n",
      " @@@@@@@\n",
      "  @@@@@\n",
      "   @@@\n",
      "    @\n"
     ]
    }
   ],
   "source": [
    "for i in range(5):\n",
    "    for j in range(i):\n",
    "        print(\" \",end=\"\")\n",
    "    for j in range(2*(4-i)+1):\n",
    "        print(\"@\",end=\"\")\n",
    "   \n",
    "    print()\n",
    "    "
   ]
  },
  {
   "cell_type": "code",
   "execution_count": null,
   "metadata": {},
   "outputs": [],
   "source": []
  },
  {
   "cell_type": "code",
   "execution_count": 112,
   "metadata": {},
   "outputs": [
    {
     "name": "stdout",
     "output_type": "stream",
     "text": [
      " \n",
      "1 \n",
      "22 \n",
      "333 \n",
      "4444 \n",
      "55555 \n",
      "666666 \n",
      "7777777 \n",
      "88888888 \n",
      "999999999 \n"
     ]
    }
   ],
   "source": [
    "for i in range(10):\n",
    "    for j in range(i):\n",
    "        print(i,end=\"\")\n",
    "    print(\" \")"
   ]
  },
  {
   "cell_type": "markdown",
   "metadata": {},
   "source": [
    "* 위와 같은 결과를 만드세요"
   ]
  },
  {
   "cell_type": "code",
   "execution_count": 113,
   "metadata": {},
   "outputs": [
    {
     "name": "stdout",
     "output_type": "stream",
     "text": [
      " \n",
      "1 \n",
      "22 \n",
      "333 \n",
      "4444 \n",
      "55555 \n",
      "666666 \n",
      "7777777 \n",
      "88888888 \n",
      "999999999 \n"
     ]
    }
   ],
   "source": [
    "for i in range(10):\n",
    "    for j in range(i):\n",
    "        print(i,end=\"\")\n",
    "    print(\" \")"
   ]
  },
  {
   "cell_type": "code",
   "execution_count": null,
   "metadata": {},
   "outputs": [],
   "source": []
  },
  {
   "cell_type": "markdown",
   "metadata": {},
   "source": [
    "* Q) * Q) 1부터 50까지에서 3의 배수에는 three, 5의 배수에는 five, 3과 5의 공배수에는 three-five를 출력하세요   \n",
    "1  \n",
    "2  \n",
    "three  \n",
    "4  \n",
    "five  \n",
    "...\n",
    "14  \n",
    "three-five\n",
    "16\n",
    "..."
   ]
  },
  {
   "cell_type": "code",
   "execution_count": 115,
   "metadata": {},
   "outputs": [
    {
     "name": "stdout",
     "output_type": "stream",
     "text": [
      "1\n",
      "2\n",
      "three\n",
      "4\n",
      "five\n",
      "three\n",
      "7\n",
      "8\n",
      "three\n",
      "five\n",
      "11\n",
      "three\n",
      "13\n",
      "14\n",
      "three-five\n",
      "16\n",
      "17\n",
      "three\n",
      "19\n",
      "five\n",
      "three\n",
      "22\n",
      "23\n",
      "three\n",
      "five\n",
      "26\n",
      "three\n",
      "28\n",
      "29\n",
      "three-five\n",
      "31\n",
      "32\n",
      "three\n",
      "34\n",
      "five\n",
      "three\n",
      "37\n",
      "38\n",
      "three\n",
      "five\n",
      "41\n",
      "three\n",
      "43\n",
      "44\n",
      "three-five\n",
      "46\n",
      "47\n",
      "three\n",
      "49\n",
      "five\n"
     ]
    }
   ],
   "source": [
    "for i in range(1,51):\n",
    "    if i%3 == 0 and i%5==0:\n",
    "        print(\"three-five\")\n",
    "    elif i%3==0:\n",
    "        print(\"three\")\n",
    "    elif i%5==0:\n",
    "        print(\"five\")\n",
    "    else:\n",
    "        print(i)"
   ]
  },
  {
   "cell_type": "markdown",
   "metadata": {},
   "source": [
    "* Q) 입력 : 월/일 의 2개의 정보를 받아서, 어느 계절인지 나타내어라!!\n",
    "(예 : 3월 12일 --> 봄, 12월 24일 --> 겨울)\n",
    "(단, 봄:3~5, 여름:6~8, 가을 9~11, 겨울 12~2)"
   ]
  },
  {
   "cell_type": "code",
   "execution_count": 117,
   "metadata": {},
   "outputs": [
    {
     "name": "stdout",
     "output_type": "stream",
     "text": [
      "월 : 11\n",
      "일 : 15\n",
      "가을\n"
     ]
    }
   ],
   "source": [
    "x = int(input(\"월 : \"))\n",
    "y = int(input(\"일 : \"))\n",
    "\n",
    "if x>=3 and x<=5:\n",
    "    print(\"봄\")\n",
    "elif x>=6 and x<=8:\n",
    "    print(\"여름\")\n",
    "elif x>=9 and x<=11:\n",
    "    print(\"가을\")\n",
    "else:\n",
    "    print(\"겨울\")\n",
    "\n"
   ]
  },
  {
   "cell_type": "markdown",
   "metadata": {},
   "source": [
    "* Q) 학생의 점수을 입력을 받아서, 그 점수에 해당하는 학점을 출력을 하고, 그 학점이 A는 \"참 잘했습니다\", B는 \"잘 했습니다.\", C는 \"좀 더 노력하세요\", D는 \"재수강을 권장합니다\", F는 \"꼭 다시 들으세요!!!\"로 판별해주기.  \n",
    "단, F: 40점 미만, D:40점 이상~60점 미만, C : 60이상~80점 미만, B:80이상~90점 미만, A:90점 이상 이상"
   ]
  },
  {
   "cell_type": "code",
   "execution_count": 119,
   "metadata": {},
   "outputs": [
    {
     "name": "stdout",
     "output_type": "stream",
     "text": [
      "점수를 입력하세요 : 50\n",
      "재수강을 권장합니다\n"
     ]
    }
   ],
   "source": [
    "score = int(input(\"점수를 입력하세요 : \"))\n",
    "\n",
    "if score >= 90:\n",
    "    print(\"참 잘했습니다\")\n",
    "elif score>=80:\n",
    "    print(\"잘 했습니다\")\n",
    "elif score>=60:\n",
    "    print(\"좀 더 노력하세요\")\n",
    "elif score>=40:\n",
    "    print(\"재수강을 권장합니다\")\n",
    "else:\n",
    "    print(\"꼭 다시 들으세요!!!\")"
   ]
  },
  {
   "cell_type": "markdown",
   "metadata": {},
   "source": [
    "* 한 점을 구성하는 (x,y)의 좌표를 입력받고, 이 점이 (50,40), (50,80), (100,40), (100,80)을 꼭지점으로 하는 사각형 안에 있는지 판단하세요!!!"
   ]
  },
  {
   "cell_type": "code",
   "execution_count": 121,
   "metadata": {},
   "outputs": [
    {
     "name": "stdout",
     "output_type": "stream",
     "text": [
      "x의 값을 입력하세요 : 60\n",
      "y의 값을 입력하세요 : 70\n",
      "안에 있습니다\n"
     ]
    }
   ],
   "source": [
    "x = int(input(\"x의 값을 입력하세요 : \"))\n",
    "y = int(input(\"y의 값을 입력하세요 : \"))\n",
    "\n",
    "if (x>=50 and x<=100) and (y>=40 and y<=80):\n",
    "    print(\"안에 있습니다\")\n",
    "else:\n",
    "    print(\"밖에 있습니다\")"
   ]
  },
  {
   "cell_type": "markdown",
   "metadata": {},
   "source": [
    "* Q) 입력한 수의 각 자리수를 더하는 프로그램을 작성하시오.  \n",
    "예 : 12345--> 1+2+3+4+5=15"
   ]
  },
  {
   "cell_type": "code",
   "execution_count": 1,
   "metadata": {},
   "outputs": [
    {
     "name": "stdout",
     "output_type": "stream",
     "text": [
      "입력하세요!!! : 2345\n",
      "14\n"
     ]
    }
   ],
   "source": [
    "x = int(input(\"입력하세요!!! : \"))\n",
    "\n",
    "sum = 0\n",
    "\n",
    "for i in str(x):\n",
    "    sum+=int(i)\n",
    "\n",
    "print(sum)"
   ]
  },
  {
   "cell_type": "markdown",
   "metadata": {},
   "source": [
    "* Q) a,b,c가 자연수 일때, a + b + c = 100을 만족하는 중복되지 않는 세 자연수의 개수를 구하는 프로그램을 작성하시오. 예를 들어서(30,40,30)은 (40,30,30)과 같은 경우라고 한다!!!!"
   ]
  },
  {
   "cell_type": "code",
   "execution_count": 4,
   "metadata": {},
   "outputs": [
    {
     "name": "stdout",
     "output_type": "stream",
     "text": [
      "833\n"
     ]
    }
   ],
   "source": [
    "for i in range(1,98):\n",
    "    for j in range(1,98):\n",
    "        \n",
    "    "
   ]
  },
  {
   "cell_type": "markdown",
   "metadata": {},
   "source": [
    "* Q) 1부터 100까지의 나열 할 때 1~9까지 숫자는 각각 몇 번 나타나는지를 세어 보세요!!!"
   ]
  },
  {
   "cell_type": "code",
   "execution_count": 5,
   "metadata": {},
   "outputs": [
    {
     "name": "stdout",
     "output_type": "stream",
     "text": [
      "0  :  11\n",
      "1  :  21\n",
      "2  :  20\n",
      "3  :  20\n",
      "4  :  20\n",
      "5  :  20\n",
      "6  :  20\n",
      "7  :  20\n",
      "8  :  20\n",
      "9  :  20\n"
     ]
    }
   ],
   "source": [
    "num=\"\"\n",
    "\n",
    "for i in range(1,101):\n",
    "    num+=str(i)\n",
    "\n",
    "for i in range(10):\n",
    "    \n",
    "    print(i,\" : \",num.count(str(i)))\n",
    "    "
   ]
  },
  {
   "cell_type": "markdown",
   "metadata": {},
   "source": [
    "* Q) a = [20,55,67,82,45,33,90,87,100,25]점수일 때, 50점 이상인 점수들의 합!!!!!   \n",
    "방법 1 : for/ range사용,  \n",
    "방법 2 : for/ 직접 값 사용,  \n",
    "방법 3 : while사용"
   ]
  },
  {
   "cell_type": "code",
   "execution_count": 22,
   "metadata": {},
   "outputs": [],
   "source": [
    "a = [20,55,67,82,45,33,90,87,100,25]"
   ]
  },
  {
   "cell_type": "code",
   "execution_count": 16,
   "metadata": {},
   "outputs": [
    {
     "name": "stdout",
     "output_type": "stream",
     "text": [
      "481\n",
      "481\n",
      "481\n"
     ]
    }
   ],
   "source": [
    "a = [20,55,67,82,45,33,90,87,100,25]\n",
    "sum = 0\n",
    "for i in range(0,len(a)):\n",
    "    if a[i]>=50 :\n",
    "         sum+=a[i]\n",
    "\n",
    "print(sum)\n",
    "\n",
    "sum = 0\n",
    "for i in a:\n",
    "    if i>=50 :\n",
    "         sum+=i\n",
    "\n",
    "print(sum)\n",
    "\n",
    "sum = 0\n",
    "i=0\n",
    "while i<len(a):\n",
    "    if a[i]>=50:\n",
    "        sum+=a[i]\n",
    "    i+=1\n",
    "print(sum)"
   ]
  },
  {
   "cell_type": "markdown",
   "metadata": {},
   "source": [
    "* Q) 1부터 100까지 3의 배수들의 합!!!!! for"
   ]
  },
  {
   "cell_type": "code",
   "execution_count": 17,
   "metadata": {},
   "outputs": [
    {
     "name": "stdout",
     "output_type": "stream",
     "text": [
      "1683\n"
     ]
    }
   ],
   "source": [
    "sum=0\n",
    "\n",
    "for i in range(1,101):\n",
    "    if i%3==0:\n",
    "        sum+=i\n",
    "        \n",
    "        \n",
    "print(sum)        "
   ]
  },
  {
   "cell_type": "markdown",
   "metadata": {},
   "source": [
    "* Q)1부터 100까지 3의 배수들의 합!!!!! while"
   ]
  },
  {
   "cell_type": "code",
   "execution_count": 20,
   "metadata": {},
   "outputs": [
    {
     "name": "stdout",
     "output_type": "stream",
     "text": [
      "1683\n"
     ]
    }
   ],
   "source": [
    "sum=0\n",
    "i=0\n",
    "while i<101:\n",
    "    if i%3==0:\n",
    "        sum+=i\n",
    "    i+=1    \n",
    "        \n",
    "print(sum)     "
   ]
  },
  {
   "cell_type": "markdown",
   "metadata": {},
   "source": [
    "* 야구 게임 : 1S 1B 1O에 대한 것을 만들어 보시오. 다만 처음에 하기 위해서는 random으로 시작을 해야함!!!"
   ]
  },
  {
   "cell_type": "code",
   "execution_count": 2,
   "metadata": {},
   "outputs": [
    {
     "ename": "NameError",
     "evalue": "name 'random' is not defined",
     "output_type": "error",
     "traceback": [
      "\u001b[1;31m---------------------------------------------------------------------------\u001b[0m",
      "\u001b[1;31mNameError\u001b[0m                                 Traceback (most recent call last)",
      "\u001b[1;32m<ipython-input-2-12eeef6c570c>\u001b[0m in \u001b[0;36m<module>\u001b[1;34m\u001b[0m\n\u001b[0;32m      2\u001b[0m \u001b[1;33m\u001b[0m\u001b[0m\n\u001b[0;32m      3\u001b[0m \u001b[0mrn\u001b[0m \u001b[1;33m=\u001b[0m \u001b[1;33m[\u001b[0m\u001b[1;34m\"0\"\u001b[0m\u001b[1;33m,\u001b[0m\u001b[1;34m\"0\"\u001b[0m\u001b[1;33m,\u001b[0m\u001b[1;34m\"0\"\u001b[0m\u001b[1;33m]\u001b[0m\u001b[1;33m\u001b[0m\u001b[1;33m\u001b[0m\u001b[0m\n\u001b[1;32m----> 4\u001b[1;33m \u001b[0mrn\u001b[0m\u001b[1;33m[\u001b[0m\u001b[1;36m0\u001b[0m\u001b[1;33m]\u001b[0m \u001b[1;33m=\u001b[0m \u001b[0mstr\u001b[0m\u001b[1;33m(\u001b[0m\u001b[0mrandom\u001b[0m\u001b[1;33m.\u001b[0m\u001b[0mrandrange\u001b[0m\u001b[1;33m(\u001b[0m\u001b[1;36m1\u001b[0m\u001b[1;33m,\u001b[0m \u001b[1;36m9\u001b[0m\u001b[1;33m,\u001b[0m \u001b[1;36m1\u001b[0m\u001b[1;33m)\u001b[0m\u001b[1;33m)\u001b[0m\u001b[1;33m\u001b[0m\u001b[1;33m\u001b[0m\u001b[0m\n\u001b[0m\u001b[0;32m      5\u001b[0m \u001b[0mrn\u001b[0m\u001b[1;33m[\u001b[0m\u001b[1;36m1\u001b[0m\u001b[1;33m]\u001b[0m \u001b[1;33m=\u001b[0m \u001b[0mstr\u001b[0m\u001b[1;33m(\u001b[0m\u001b[0mrandom\u001b[0m\u001b[1;33m.\u001b[0m\u001b[0mrandrange\u001b[0m\u001b[1;33m(\u001b[0m\u001b[1;36m1\u001b[0m\u001b[1;33m,\u001b[0m \u001b[1;36m9\u001b[0m\u001b[1;33m,\u001b[0m \u001b[1;36m1\u001b[0m\u001b[1;33m)\u001b[0m\u001b[1;33m)\u001b[0m\u001b[1;33m\u001b[0m\u001b[1;33m\u001b[0m\u001b[0m\n\u001b[0;32m      6\u001b[0m \u001b[0mrn\u001b[0m\u001b[1;33m[\u001b[0m\u001b[1;36m2\u001b[0m\u001b[1;33m]\u001b[0m \u001b[1;33m=\u001b[0m \u001b[0mstr\u001b[0m\u001b[1;33m(\u001b[0m\u001b[0mrandom\u001b[0m\u001b[1;33m.\u001b[0m\u001b[0mrandrange\u001b[0m\u001b[1;33m(\u001b[0m\u001b[1;36m1\u001b[0m\u001b[1;33m,\u001b[0m \u001b[1;36m9\u001b[0m\u001b[1;33m,\u001b[0m \u001b[1;36m1\u001b[0m\u001b[1;33m)\u001b[0m\u001b[1;33m)\u001b[0m\u001b[1;33m\u001b[0m\u001b[1;33m\u001b[0m\u001b[0m\n",
      "\u001b[1;31mNameError\u001b[0m: name 'random' is not defined"
     ]
    }
   ],
   "source": [
    "from random import randint\n",
    "\n",
    "rn = [\"0\",\"0\",\"0\"]\n",
    "rn[0] = str(random.randrange(1, 9, 1))\n",
    "rn[1] = str(random.randrange(1, 9, 1))\n",
    "rn[2] = str(random.randrange(1, 9, 1))\n",
    "\n",
    "\n",
    "s_cnt=0\n",
    "b_cnt=0\n",
    "\n",
    "while s_cnt<3 :\n",
    "    x = int(input(\"첫번째 숫자를 입력하세요 : \"))\n",
    "    y = int(input(\"두번째 숫자를 입력하세요 : \"))\n",
    "    z = int(input(\"세번째 숫자를 입력하세요 : \"))\n",
    "    \n",
    "    s_cnt=0\n",
    "    b_cnt=0\n",
    "    \n",
    "    \n",
    "    \n",
    "    "
   ]
  },
  {
   "cell_type": "markdown",
   "metadata": {},
   "source": [
    "* Q)숫자 up/down으로 1~100까지 수 중에서 알아 맞추기!!! random이용!!!"
   ]
  },
  {
   "cell_type": "code",
   "execution_count": 4,
   "metadata": {},
   "outputs": [
    {
     "name": "stdout",
     "output_type": "stream",
     "text": [
      "1~100 숫자 Up & Down 게임을 시작합니다 !!!\n",
      "---------------------------\n",
      "1 ~ 100 사이의 숫자를 입력하세요 : 30\n",
      "Down\n",
      "1 ~ 100 사이의 숫자를 입력하세요 : 155\n",
      "Down\n",
      "1 ~ 100 사이의 숫자를 입력하세요 : 15\n",
      "Down\n",
      "1 ~ 100 사이의 숫자를 입력하세요 : 8\n",
      "Down\n",
      "1 ~ 100 사이의 숫자를 입력하세요 : 4\n",
      "Down\n",
      "1 ~ 100 사이의 숫자를 입력하세요 : 2\n",
      "---------------------------\n",
      "6 번 만에 정답을 맞추셨습니다.\n"
     ]
    }
   ],
   "source": [
    "import random\n",
    "\n",
    "# 게임을 위한 랜덤 숫자 생성\n",
    "rn = random.randrange(1, 101, 1)\n"
   ]
  },
  {
   "cell_type": "markdown",
   "metadata": {},
   "source": [
    "* Q) 1부터 입력받은 수까지 \"합의 제곱\"의 결과와 \"제곱의 합\"과의 차이를 구하시오!!!    \n",
    "합의 제곱 : 1^2 + 2^2 + ... + 10^2 = 385   \n",
    "제곱의 합 : (1+2+3..+10)^2 = 3025"
   ]
  },
  {
   "cell_type": "code",
   "execution_count": 6,
   "metadata": {},
   "outputs": [
    {
     "name": "stdout",
     "output_type": "stream",
     "text": [
      "입력하세요!!!10\n",
      "2640\n"
     ]
    }
   ],
   "source": [
    "   "
   ]
  },
  {
   "cell_type": "code",
   "execution_count": null,
   "metadata": {},
   "outputs": [],
   "source": []
  },
  {
   "cell_type": "markdown",
   "metadata": {},
   "source": [
    "* Q)  핸드폰 번호 뒤에 4자리만 남기고, 앞의 7자리에 대한 것을 *로 지워보세요!!! (함수 만들어서!!!)"
   ]
  },
  {
   "cell_type": "code",
   "execution_count": 1,
   "metadata": {},
   "outputs": [],
   "source": []
  },
  {
   "cell_type": "code",
   "execution_count": 2,
   "metadata": {},
   "outputs": [
    {
     "data": {
      "text/plain": [
       "'*********5678'"
      ]
     },
     "execution_count": 2,
     "metadata": {},
     "output_type": "execute_result"
    }
   ],
   "source": [
    "encryfunc(\"010-1234-5678\")"
   ]
  },
  {
   "cell_type": "code",
   "execution_count": 3,
   "metadata": {},
   "outputs": [
    {
     "data": {
      "text/plain": [
       "'*******5678'"
      ]
     },
     "execution_count": 3,
     "metadata": {},
     "output_type": "execute_result"
    }
   ],
   "source": [
    "encryfunc(\"01034565678\")"
   ]
  },
  {
   "cell_type": "markdown",
   "metadata": {},
   "source": [
    "* Q) 연습문제 : computepay라는 함수를 만들어서, 근무 시간과 초과근무 시 비율을 입력하고, 월급을 계산하는 함수를 만드세요!!(월 기준으로 8시간 * 5일 * 4주 =160시간이 기준, 160시간까지는 1시간당 월급이 1만원, 초과 근무 시 비율이 만약에 50%라면 1.5만원, 초과 근무 시 비율이 30%라면 1.3만원)     \n",
    "예 : computpay(170, 50) --> 160 X 1 + 10 X 1 X 1.5 (원)"
   ]
  },
  {
   "cell_type": "code",
   "execution_count": 4,
   "metadata": {},
   "outputs": [],
   "source": []
  },
  {
   "cell_type": "code",
   "execution_count": 5,
   "metadata": {},
   "outputs": [
    {
     "name": "stdout",
     "output_type": "stream",
     "text": [
      "2240000.0\n"
     ]
    }
   ],
   "source": [
    "tom = computepay(200, 60)\n",
    "print(tom)"
   ]
  },
  {
   "cell_type": "code",
   "execution_count": null,
   "metadata": {},
   "outputs": [],
   "source": []
  },
  {
   "cell_type": "code",
   "execution_count": null,
   "metadata": {},
   "outputs": [],
   "source": []
  },
  {
   "cell_type": "code",
   "execution_count": null,
   "metadata": {},
   "outputs": [],
   "source": []
  },
  {
   "cell_type": "code",
   "execution_count": null,
   "metadata": {},
   "outputs": [],
   "source": []
  },
  {
   "cell_type": "code",
   "execution_count": null,
   "metadata": {},
   "outputs": [],
   "source": []
  }
 ],
 "metadata": {
  "kernelspec": {
   "display_name": "Python 3",
   "language": "python",
   "name": "python3"
  },
  "language_info": {
   "codemirror_mode": {
    "name": "ipython",
    "version": 3
   },
   "file_extension": ".py",
   "mimetype": "text/x-python",
   "name": "python",
   "nbconvert_exporter": "python",
   "pygments_lexer": "ipython3",
   "version": "3.7.6"
  },
  "toc": {
   "base_numbering": 1,
   "nav_menu": {},
   "number_sections": true,
   "sideBar": true,
   "skip_h1_title": false,
   "title_cell": "Table of Contents",
   "title_sidebar": "Contents",
   "toc_cell": false,
   "toc_position": {},
   "toc_section_display": true,
   "toc_window_display": false
  },
  "varInspector": {
   "cols": {
    "lenName": 16,
    "lenType": 16,
    "lenVar": 40
   },
   "kernels_config": {
    "python": {
     "delete_cmd_postfix": "",
     "delete_cmd_prefix": "del ",
     "library": "var_list.py",
     "varRefreshCmd": "print(var_dic_list())"
    },
    "r": {
     "delete_cmd_postfix": ") ",
     "delete_cmd_prefix": "rm(",
     "library": "var_list.r",
     "varRefreshCmd": "cat(var_dic_list()) "
    }
   },
   "types_to_exclude": [
    "module",
    "function",
    "builtin_function_or_method",
    "instance",
    "_Feature"
   ],
   "window_display": false
  },
  "widgets": {
   "state": {},
   "version": "1.1.2"
  }
 },
 "nbformat": 4,
 "nbformat_minor": 2
}
