{
 "cells": [
  {
   "cell_type": "code",
   "execution_count": 1,
   "metadata": {},
   "outputs": [
    {
     "data": {
      "text/plain": [
       "4"
      ]
     },
     "execution_count": 1,
     "metadata": {},
     "output_type": "execute_result"
    }
   ],
   "source": [
    "#파이썬이 기본적으로 가지고 있는 더하기 함수\n",
    "sum([1,3])"
   ]
  },
  {
   "cell_type": "code",
   "execution_count": 3,
   "metadata": {},
   "outputs": [
    {
     "data": {
      "text/plain": [
       "15"
      ]
     },
     "execution_count": 3,
     "metadata": {},
     "output_type": "execute_result"
    }
   ],
   "source": [
    "sum([1,3,5,6])"
   ]
  },
  {
   "cell_type": "code",
   "execution_count": 4,
   "metadata": {},
   "outputs": [],
   "source": [
    "#더하기 함수 만들기\n",
    "def sum2(a,b):\n",
    "    result = a+b\n",
    "    return(result)"
   ]
  },
  {
   "cell_type": "code",
   "execution_count": 5,
   "metadata": {},
   "outputs": [
    {
     "name": "stdout",
     "output_type": "stream",
     "text": [
      "40\n",
      "40\n"
     ]
    }
   ],
   "source": [
    "print(sum2(10,30))\n",
    "print(10+30)"
   ]
  },
  {
   "cell_type": "code",
   "execution_count": 7,
   "metadata": {},
   "outputs": [],
   "source": [
    "#곱하는 함수 만들기\n",
    "def multiple2(a,b):\n",
    "    result = a*b\n",
    "    return(result)"
   ]
  },
  {
   "cell_type": "code",
   "execution_count": 9,
   "metadata": {},
   "outputs": [
    {
     "name": "stdout",
     "output_type": "stream",
     "text": [
      "21\n",
      "550\n"
     ]
    }
   ],
   "source": [
    "#참고) args: =>입력값이 여러개일때 사용\n",
    "def sumrandom(*args):\n",
    "    result = 0\n",
    "    for i in args:\n",
    "        result = result +i\n",
    "    return result\n",
    "\n",
    "print(sumrandom(1,2,3,4,5,6))\n",
    "print(sumrandom(10,20,30,40,50,60,70,80,90,100))"
   ]
  },
  {
   "cell_type": "code",
   "execution_count": 17,
   "metadata": {},
   "outputs": [
    {
     "name": "stdout",
     "output_type": "stream",
     "text": [
      "150\n",
      "5\n",
      "No Function!\n"
     ]
    }
   ],
   "source": [
    "def myfunction(func, *args):\n",
    "    if func==\"sum\":\n",
    "        result = 0\n",
    "        for i in args:\n",
    "            result = result +i\n",
    "        return result\n",
    "    elif func ==\"count\":\n",
    "        return(len(args))\n",
    "    else:\n",
    "        return(\"No Function!\")\n",
    "    \n",
    "a= myfunction(\"sum\",10,20,30,40,50)\n",
    "b= myfunction(\"count\", 10,20,30,40,50)\n",
    "c= myfunction(\"nono\",10,20,30,40,50 )\n",
    "print(a)\n",
    "print(b)\n",
    "print(c)\n",
    "#여러 함수를 함쳐놓은 함수"
   ]
  },
  {
   "cell_type": "code",
   "execution_count": 18,
   "metadata": {},
   "outputs": [
    {
     "name": "stdout",
     "output_type": "stream",
     "text": [
      "(40, 300, 0.3333333333333333, 50)\n"
     ]
    }
   ],
   "source": [
    "#결과값이 여러개일 경우\n",
    "def multifunc(a,b):\n",
    "    return a+b, a*b, a/b, a+b+10\n",
    "print(multifunc(10,30))#튜플형식으로 값을 나옴/ 하여 바로 값을 받아서 핸들링 못함"
   ]
  },
  {
   "cell_type": "code",
   "execution_count": 23,
   "metadata": {},
   "outputs": [
    {
     "data": {
      "text/plain": [
       "21"
      ]
     },
     "execution_count": 23,
     "metadata": {},
     "output_type": "execute_result"
    }
   ],
   "source": [
    "#a+b의 기존의 함수 형식으로 정의하여 사용\n",
    "def sum2(a,b):\n",
    "    return a+b\n",
    "sum2(1,20)"
   ]
  },
  {
   "cell_type": "code",
   "execution_count": 24,
   "metadata": {},
   "outputs": [
    {
     "data": {
      "text/plain": [
       "300"
      ]
     },
     "execution_count": 24,
     "metadata": {},
     "output_type": "execute_result"
    }
   ],
   "source": [
    "sum2(100,200)"
   ]
  },
  {
   "cell_type": "code",
   "execution_count": 25,
   "metadata": {},
   "outputs": [
    {
     "data": {
      "text/plain": [
       "30"
      ]
     },
     "execution_count": 25,
     "metadata": {},
     "output_type": "execute_result"
    }
   ],
   "source": [
    "#lamda 형식으로 지정하여 사용하고, 한 번 사용하였기에,\n",
    "#다시 사용하기 위해서는 동일한 코드를 다시 작성해야함.\n",
    "(lambda x,y:x+y)(10,20)"
   ]
  },
  {
   "cell_type": "code",
   "execution_count": 26,
   "metadata": {},
   "outputs": [
    {
     "data": {
      "text/plain": [
       "300"
      ]
     },
     "execution_count": 26,
     "metadata": {},
     "output_type": "execute_result"
    }
   ],
   "source": [
    "#일반함수와 달리 다시 쓸경우 다시 작성\n",
    "(lambda x,y:x+y)(100,200)"
   ]
  },
  {
   "cell_type": "markdown",
   "metadata": {},
   "source": [
    "[과제] 함수의 입력인자는 2개가 있습니다.\n",
    "\n",
    "1)입력인자1: sel1, sel2(sel1은 임의의 입력인자 2에 대한 모든 +,*를 수행한다.\n",
    "            sel2는 입력인자 2 중에서 가장 처음 수와 가장 마지막수를 결과로 준다.\n",
    "                    \n",
    "2)입력인자2: 입력하는 숫자가 정해지지 않은 숫자들(단, 2개 이상)\n",
    "\n",
    "입력인자1이 지정한 것 이외의 것이 들어가면 \"Check sel parameter!\"라는 메시지로 출력하기"
   ]
  },
  {
   "cell_type": "markdown",
   "metadata": {},
   "source": [
    "아래의 결과들을 테스트하여 하단의 [결과]와 동일한 결과가 나타나는지 확인하세요.\n",
    "\n",
    "[테스트]\n",
    "\n",
    "print myfunction(\"sel1\",1,2,3,4,5)   \n",
    "print myfunction(\"sel2\", 1,2,3,4)    \n",
    "print myfunction(\"sel\", 1,2,3,4,5)    \n",
    "\n",
    "[결과]\n",
    "\n",
    "(15,120) #1+2+3+4+5=15, 1*2*3*4*5=120\n",
    "(1,4) #1,2,3,4 중에서 가장 처음의 수는 1, 가장 마지막의 수는 4\n",
    "Check sel parameter!!!"
   ]
  },
  {
   "cell_type": "code",
   "execution_count": 63,
   "metadata": {},
   "outputs": [],
   "source": [
    "def myfunction(func,*args):\n",
    "    if func==\"sel1\":\n",
    "        result=0\n",
    "        result2=1\n",
    "        for i in args:\n",
    "            result=result+i\n",
    "            result2= result2*i\n",
    "        return (result,result2)\n",
    "    elif func==\"sel2\":\n",
    "        return args[0],args[len(args)-1]\n",
    "    else:\n",
    "        return (\"Check sel parameter!!!\")"
   ]
  },
  {
   "cell_type": "code",
   "execution_count": 65,
   "metadata": {},
   "outputs": [
    {
     "name": "stdout",
     "output_type": "stream",
     "text": [
      "(15, 120)\n",
      "(1, 4)\n",
      "Check sel parameter!!!\n"
     ]
    }
   ],
   "source": [
    "print(myfunction(\"sel1\",1,2,3,4,5)) \n",
    "print(myfunction(\"sel2\",1,2,3,4)) \n",
    "print(myfunction(\"sel\",1,2,3,4,5))"
   ]
  },
  {
   "cell_type": "code",
   "execution_count": null,
   "metadata": {},
   "outputs": [],
   "source": []
  },
  {
   "cell_type": "code",
   "execution_count": null,
   "metadata": {},
   "outputs": [],
   "source": []
  },
  {
   "cell_type": "code",
   "execution_count": null,
   "metadata": {},
   "outputs": [],
   "source": []
  }
 ],
 "metadata": {
  "kernelspec": {
   "display_name": "Python 3",
   "language": "python",
   "name": "python3"
  },
  "language_info": {
   "codemirror_mode": {
    "name": "ipython",
    "version": 3
   },
   "file_extension": ".py",
   "mimetype": "text/x-python",
   "name": "python",
   "nbconvert_exporter": "python",
   "pygments_lexer": "ipython3",
   "version": "3.7.6"
  }
 },
 "nbformat": 4,
 "nbformat_minor": 4
}
