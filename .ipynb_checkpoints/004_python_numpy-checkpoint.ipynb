{
 "cells": [
  {
   "cell_type": "markdown",
   "metadata": {},
   "source": [
    "NumPy"
   ]
  },
  {
   "cell_type": "code",
   "execution_count": 2,
   "metadata": {},
   "outputs": [],
   "source": [
    "#NumPy구성요소? 아무것들이나 하나로 묶어둔 것, 타입이 서로 달라도 괜찮\n",
    "\n",
    "import numpy"
   ]
  },
  {
   "cell_type": "code",
   "execution_count": 3,
   "metadata": {},
   "outputs": [
    {
     "data": {
      "text/plain": [
       "array([1, 2, 3])"
      ]
     },
     "execution_count": 3,
     "metadata": {},
     "output_type": "execute_result"
    }
   ],
   "source": [
    "numpy.array([1,2,3])"
   ]
  },
  {
   "cell_type": "code",
   "execution_count": null,
   "metadata": {},
   "outputs": [],
   "source": []
  },
  {
   "cell_type": "code",
   "execution_count": 4,
   "metadata": {},
   "outputs": [],
   "source": [
    "#최신에서는 지정한 것만 사용이 가능함.\n",
    "#커널을 restart하고...\n",
    "import numpy as np"
   ]
  },
  {
   "cell_type": "code",
   "execution_count": 5,
   "metadata": {},
   "outputs": [
    {
     "data": {
      "text/plain": [
       "array([1, 2, 3, 4])"
      ]
     },
     "execution_count": 5,
     "metadata": {},
     "output_type": "execute_result"
    }
   ],
   "source": [
    "np.array([1,2,3,4])"
   ]
  },
  {
   "cell_type": "code",
   "execution_count": 7,
   "metadata": {},
   "outputs": [
    {
     "ename": "NameError",
     "evalue": "name 'numpy' is not defined",
     "output_type": "error",
     "traceback": [
      "\u001b[1;31m---------------------------------------------------------------------------\u001b[0m",
      "\u001b[1;31mNameError\u001b[0m                                 Traceback (most recent call last)",
      "\u001b[1;32m<ipython-input-7-2112201a766f>\u001b[0m in \u001b[0;36m<module>\u001b[1;34m\u001b[0m\n\u001b[0;32m      1\u001b[0m \u001b[1;31m#예전 버전을 되는데, 어느 버전 이후에서는 안됨; 지정한것만.\u001b[0m\u001b[1;33m\u001b[0m\u001b[1;33m\u001b[0m\u001b[1;33m\u001b[0m\u001b[0m\n\u001b[0;32m      2\u001b[0m \u001b[1;31m#np로 선언하면 numpy하면 안됨\u001b[0m\u001b[1;33m\u001b[0m\u001b[1;33m\u001b[0m\u001b[1;33m\u001b[0m\u001b[0m\n\u001b[1;32m----> 3\u001b[1;33m \u001b[0mnumpy\u001b[0m\u001b[1;33m.\u001b[0m\u001b[0marray\u001b[0m\u001b[1;33m(\u001b[0m\u001b[1;33m[\u001b[0m\u001b[1;36m1\u001b[0m\u001b[1;33m,\u001b[0m\u001b[1;36m2\u001b[0m\u001b[1;33m,\u001b[0m\u001b[1;36m3\u001b[0m\u001b[1;33m,\u001b[0m\u001b[1;36m4\u001b[0m\u001b[1;33m]\u001b[0m\u001b[1;33m)\u001b[0m\u001b[1;33m\u001b[0m\u001b[1;33m\u001b[0m\u001b[0m\n\u001b[0m",
      "\u001b[1;31mNameError\u001b[0m: name 'numpy' is not defined"
     ]
    }
   ],
   "source": [
    "#예전 버전을 되는데, 어느 버전 이후에서는 안됨; 지정한것만.\n",
    "#np로 선언하면 numpy하면 안됨\n",
    "numpy.array([1,2,3,4])"
   ]
  },
  {
   "cell_type": "code",
   "execution_count": null,
   "metadata": {},
   "outputs": [],
   "source": []
  },
  {
   "cell_type": "code",
   "execution_count": 8,
   "metadata": {},
   "outputs": [
    {
     "data": {
      "text/plain": [
       "[1, 2, 3, 4, 5]"
      ]
     },
     "execution_count": 8,
     "metadata": {},
     "output_type": "execute_result"
    }
   ],
   "source": [
    "#파이썬 기본 자료 구조: 리스트\n",
    "a = [1,2,3,4,5]\n",
    "a"
   ]
  },
  {
   "cell_type": "markdown",
   "metadata": {},
   "source": [
    "아래와 같은 결과를 얻고 싶음!!           \n",
    "a->[16,17,18,19,20]:a의 모든 원소에 \"일괄적으로\" +15"
   ]
  },
  {
   "cell_type": "code",
   "execution_count": 12,
   "metadata": {},
   "outputs": [
    {
     "name": "stdout",
     "output_type": "stream",
     "text": [
      "[31, 32, 33, 34, 35]\n"
     ]
    }
   ],
   "source": [
    "a=[16,17,18,19,20]\n",
    "b=[]\n",
    "for i in range(0, len(a)):\n",
    "    b.append(a[i]+15)\n",
    "print(b)"
   ]
  },
  {
   "cell_type": "code",
   "execution_count": 13,
   "metadata": {},
   "outputs": [],
   "source": [
    "import numpy as np"
   ]
  },
  {
   "cell_type": "code",
   "execution_count": 15,
   "metadata": {},
   "outputs": [
    {
     "name": "stdout",
     "output_type": "stream",
     "text": [
      "[16 17 18 19 20]\n"
     ]
    }
   ],
   "source": [
    "a = np.array(a)\n",
    "print(a)"
   ]
  },
  {
   "cell_type": "code",
   "execution_count": 18,
   "metadata": {},
   "outputs": [
    {
     "data": {
      "text/plain": [
       "array([16, 17, 18, 19, 20])"
      ]
     },
     "execution_count": 18,
     "metadata": {},
     "output_type": "execute_result"
    }
   ],
   "source": [
    "a\n",
    "#리스트인지, 넘파이어레이인지 확인하려면 그냥 변수만 출력"
   ]
  },
  {
   "cell_type": "code",
   "execution_count": 17,
   "metadata": {},
   "outputs": [
    {
     "data": {
      "text/plain": [
       "array([31, 32, 33, 34, 35])"
      ]
     },
     "execution_count": 17,
     "metadata": {},
     "output_type": "execute_result"
    }
   ],
   "source": [
    "a+15"
   ]
  },
  {
   "cell_type": "markdown",
   "metadata": {},
   "source": [
    "a=[1,2,3,4,5,6,7,8,9,10]           \n",
    "b=[11,12,13,14,15,16,17,18,19,20]    \n",
    "c=[1+11,...,10+20]"
   ]
  },
  {
   "cell_type": "code",
   "execution_count": 21,
   "metadata": {},
   "outputs": [],
   "source": [
    "a=[1,2,3,4,5,6,7,8,9,10]\n",
    "b=[11,12,13,14,15,16,17,18,19,20]\n",
    "c=[]"
   ]
  },
  {
   "cell_type": "code",
   "execution_count": 22,
   "metadata": {},
   "outputs": [
    {
     "name": "stdout",
     "output_type": "stream",
     "text": [
      "[12, 14, 16, 18, 20, 22, 24, 26, 28, 30]\n"
     ]
    }
   ],
   "source": [
    "for i in range(0,len(a)):\n",
    "    c.append(a[i]+b[i])\n",
    "print(c)\n",
    "    "
   ]
  },
  {
   "cell_type": "code",
   "execution_count": 23,
   "metadata": {},
   "outputs": [
    {
     "data": {
      "text/plain": [
       "[1, 2, 3, 4, 5, 6, 7, 8, 9, 10, 11, 12, 13, 14, 15, 16, 17, 18, 19, 20]"
      ]
     },
     "execution_count": 23,
     "metadata": {},
     "output_type": "execute_result"
    }
   ],
   "source": [
    "a+b"
   ]
  },
  {
   "cell_type": "code",
   "execution_count": 24,
   "metadata": {},
   "outputs": [
    {
     "name": "stdout",
     "output_type": "stream",
     "text": [
      "[12 14 16 18 20 22 24 26 28 30]\n"
     ]
    }
   ],
   "source": [
    "#Numpy로 벡터적인 연산 수행\n",
    "arr_a = np.array(a)\n",
    "arr_b = np.array(b)\n",
    "\n",
    "c = arr_a+arr_b\n",
    "print(c)"
   ]
  },
  {
   "cell_type": "markdown",
   "metadata": {},
   "source": [
    "참고) 벡터 스카라 연산"
   ]
  },
  {
   "cell_type": "code",
   "execution_count": 27,
   "metadata": {},
   "outputs": [
    {
     "name": "stdout",
     "output_type": "stream",
     "text": [
      "[[1 2 3]\n",
      " [4 5 6]]\n",
      "\n",
      "\n",
      "[[ 1  4  9]\n",
      " [16 25 36]]\n",
      "\n",
      "\n",
      "[[0 0 0]\n",
      " [0 0 0]]\n",
      "\n",
      "\n",
      "[[10 20 30]\n",
      " [40 50 60]]\n",
      "\n",
      "\n",
      "[[21 22 23]\n",
      " [24 25 26]]\n"
     ]
    }
   ],
   "source": [
    "#벡터/스칼라 연산\n",
    "arr = np.array([[1,2,3],[4,5,6]])\n",
    "print(arr)\n",
    "print(\"\\n\")\n",
    "print(arr*arr)\n",
    "print(\"\\n\")\n",
    "print(arr-arr)\n",
    "print(\"\\n\")\n",
    "print(arr*10)\n",
    "print(\"\\n\")\n",
    "print(arr+20)"
   ]
  },
  {
   "cell_type": "markdown",
   "metadata": {},
   "source": [
    "ndArray 생성하기"
   ]
  },
  {
   "cell_type": "code",
   "execution_count": 30,
   "metadata": {},
   "outputs": [
    {
     "data": {
      "text/plain": [
       "array([6. , 7.5, 8. , 0. , 1. ])"
      ]
     },
     "execution_count": 30,
     "metadata": {},
     "output_type": "execute_result"
    }
   ],
   "source": [
    "#ndarray 생성\n",
    "data1=[6,7.5,8,0,1]\n",
    "arr1=np.array(data1)\n",
    "arr1"
   ]
  },
  {
   "cell_type": "markdown",
   "metadata": {},
   "source": [
    " 기본정보확인: 차원,모습,타입 등"
   ]
  },
  {
   "cell_type": "code",
   "execution_count": 29,
   "metadata": {},
   "outputs": [
    {
     "name": "stdout",
     "output_type": "stream",
     "text": [
      "1\n",
      "(5,)\n",
      "float64\n"
     ]
    }
   ],
   "source": [
    "print(arr1.ndim)#몇차원의 데이터냐\n",
    "print(arr1.shape)#*******( , )\n",
    "print(arr1.dtype)#형식(타입)"
   ]
  },
  {
   "cell_type": "markdown",
   "metadata": {},
   "source": [
    "개별 원소 접근 방식: 기본적인 파이썬의 리스트와 동일-> 정수 인덱스 활용"
   ]
  },
  {
   "cell_type": "code",
   "execution_count": 31,
   "metadata": {},
   "outputs": [
    {
     "data": {
      "text/plain": [
       "array([6. , 7.5, 8. , 0. , 1. ])"
      ]
     },
     "execution_count": 31,
     "metadata": {},
     "output_type": "execute_result"
    }
   ],
   "source": [
    "arr1"
   ]
  },
  {
   "cell_type": "code",
   "execution_count": 33,
   "metadata": {},
   "outputs": [
    {
     "data": {
      "text/plain": [
       "6.0"
      ]
     },
     "execution_count": 33,
     "metadata": {},
     "output_type": "execute_result"
    }
   ],
   "source": [
    "arr1[0]"
   ]
  },
  {
   "cell_type": "code",
   "execution_count": 34,
   "metadata": {},
   "outputs": [
    {
     "data": {
      "text/plain": [
       "0.0"
      ]
     },
     "execution_count": 34,
     "metadata": {},
     "output_type": "execute_result"
    }
   ],
   "source": [
    "arr1[3]"
   ]
  },
  {
   "cell_type": "code",
   "execution_count": 35,
   "metadata": {},
   "outputs": [
    {
     "data": {
      "text/plain": [
       "1.0"
      ]
     },
     "execution_count": 35,
     "metadata": {},
     "output_type": "execute_result"
    }
   ],
   "source": [
    "arr1[len(arr1)-1]"
   ]
  },
  {
   "cell_type": "markdown",
   "metadata": {},
   "source": [
    "어레이 원소에도 다른 형식도 가능한가?"
   ]
  },
  {
   "cell_type": "code",
   "execution_count": 36,
   "metadata": {},
   "outputs": [
    {
     "data": {
      "text/plain": [
       "array([list([1, 2, 3, 4]), list([5, 6, 7, 8, [9, 10, 11]])], dtype=object)"
      ]
     },
     "execution_count": 36,
     "metadata": {},
     "output_type": "execute_result"
    }
   ],
   "source": [
    "data2 = [[1,2,3,4],[5,6,7,8,[9,10,11]]]\n",
    "arr2 =np.array(data2)\n",
    "arr2"
   ]
  },
  {
   "cell_type": "code",
   "execution_count": 38,
   "metadata": {},
   "outputs": [
    {
     "name": "stdout",
     "output_type": "stream",
     "text": [
      "1\n",
      "(2,)\n",
      "object\n"
     ]
    }
   ],
   "source": [
    "print(arr2.ndim)\n",
    "print(arr2.shape)\n",
    "print(arr2.dtype)"
   ]
  },
  {
   "cell_type": "code",
   "execution_count": 40,
   "metadata": {},
   "outputs": [
    {
     "data": {
      "text/plain": [
       "dtype('int32')"
      ]
     },
     "execution_count": 40,
     "metadata": {},
     "output_type": "execute_result"
    }
   ],
   "source": [
    "data3=[[1,2,3,4],[5,6,7,8]]\n",
    "arr3=  np.array(data3)\n",
    "arr3.dtype"
   ]
  },
  {
   "cell_type": "code",
   "execution_count": 41,
   "metadata": {},
   "outputs": [
    {
     "name": "stdout",
     "output_type": "stream",
     "text": [
      "2\n",
      "(2, 4)\n",
      "int32\n"
     ]
    }
   ],
   "source": [
    "print(arr3.ndim)\n",
    "print(arr3.shape)\n",
    "print(arr3.dtype)"
   ]
  },
  {
   "cell_type": "code",
   "execution_count": 44,
   "metadata": {},
   "outputs": [
    {
     "data": {
      "text/plain": [
       "array([list([1, 2, 3, 4]), list([5, 6, 7, 8, 9])], dtype=object)"
      ]
     },
     "execution_count": 44,
     "metadata": {},
     "output_type": "execute_result"
    }
   ],
   "source": [
    "data4=[[1,2,3,4],[5,6,7,8,9]]\n",
    "arr4=  np.array(data4)\n",
    "arr4"
   ]
  },
  {
   "cell_type": "code",
   "execution_count": 43,
   "metadata": {},
   "outputs": [
    {
     "name": "stdout",
     "output_type": "stream",
     "text": [
      "1\n",
      "(2,)\n",
      "object\n"
     ]
    }
   ],
   "source": [
    "print(arr4.ndim)\n",
    "print(arr4.shape)\n",
    "print(arr4.dtype)"
   ]
  },
  {
   "cell_type": "markdown",
   "metadata": {},
   "source": [
    "어레이의 원소 타입 변경 부분"
   ]
  },
  {
   "cell_type": "code",
   "execution_count": 45,
   "metadata": {},
   "outputs": [
    {
     "data": {
      "text/plain": [
       "array([b'1', b'2', b'3'], dtype='|S1')"
      ]
     },
     "execution_count": 45,
     "metadata": {},
     "output_type": "execute_result"
    }
   ],
   "source": [
    "arr3 = np.array([1,2,3],dtype=np.string_)#numpy타입종류\n",
    "arr3"
   ]
  },
  {
   "cell_type": "markdown",
   "metadata": {},
   "source": [
    "## 속도 관련 비교 \n",
    "단, 모든 경우라기 보다는 일반적인 경우에 대해서 이야기를 하는 것임. 주어진 조건 및 상황에 따라서는 달라질 수 있음."
   ]
  },
  {
   "cell_type": "markdown",
   "metadata": {},
   "source": [
    "### 속도비교(2개 여러개의 값들을 가지는 자료들의 모든 원소들의 합 - [1,2,3] + [4,5,6] = [5,7,9] ): python의 리스트  vs numpy array"
   ]
  },
  {
   "cell_type": "code",
   "execution_count": 46,
   "metadata": {},
   "outputs": [
    {
     "name": "stdout",
     "output_type": "stream",
     "text": [
      " size_vector : 100000\n",
      "python list Load Time : 0.0\n",
      "python list for loop : 0.023936033248901367\n",
      " Python List Total :0.023936033248901367\n",
      "numpy array1 Load Time : 0.0\n",
      "numpy array1 for loop : 0.0\n",
      " numpy array1 Total :0.0\n",
      "numpy array2 Load Time : 0.0009975433349609375\n",
      "numpy array2 for loop : 0.03296399116516113\n",
      " numpy array2 Total :0.03396153450012207\n",
      "------------------------------\n",
      " size_vector : 100\n",
      "python list Load Time : 0.0\n",
      "python list for loop : 0.0009746551513671875\n",
      " Python List Total :0.0009746551513671875\n",
      "numpy array1 Load Time : 0.0\n",
      "numpy array1 for loop : 0.0\n",
      " numpy array1 Total :0.0\n",
      "numpy array2 Load Time : 0.0\n",
      "numpy array2 for loop : 0.0\n",
      " numpy array2 Total :0.0\n",
      "------------------------------\n"
     ]
    }
   ],
   "source": [
    "# numpy array vs Python Lsit speed\n",
    "# 물론 조건 및 여러 상황에 따라서 조금 다를 수 있으니 참고!\n",
    "\n",
    "# 01) 아래는 두 개의 리스트에서 각기 리스트의 합을 구하는 경우\n",
    "# ( 코드 상 차이가 발생하는 부분들 : range, 리스트에서 +는 리스트 연결이나, numpy에서는 각기 원소들의 합\n",
    "# 따라서 동일한 역할을 위해서는 리스트에서는for가 필요함\n",
    "\n",
    "import time\n",
    "size_vector = 100000\n",
    "\n",
    "def pythonlist(size_vector):\n",
    "    t1 = time.time()\n",
    "    x = range(size_vector)\n",
    "    y = range(size_vector)\n",
    "    t2 = time.time()\n",
    "    print (\"python list Load Time : \" + str(t2-t1))\n",
    "    z = []\n",
    "    \n",
    "    t3 = time.time()\n",
    "    for i in range(len(x)):   #쌩 파이썬 리스트\n",
    "        z.append(x[i] + y[i])\n",
    "    t4 = time.time()\n",
    "    print (\"python list for loop : \" + str(t4- t3))\n",
    "    \n",
    "    print (\" Python List Total :\" + str(t4 - t1))\n",
    "\n",
    "    \n",
    "def numpyarray1(size_vector):\n",
    "    t1 = time.time()\n",
    "    x = np.arange(size_vector)\n",
    "    y = np.arange(size_vector)\n",
    "    t2 = time.time()\n",
    "    print (\"numpy array1 Load Time : \"+str(t2-t1))\n",
    "    \n",
    "    t3 = time.time()\n",
    "    z = x + y                 #넘파이 어레이(제일 빠름!!!!)\n",
    "    t4 = time.time()\n",
    "    print (\"numpy array1 for loop : \" + str(t4- t3))\n",
    "\n",
    "    print (\" numpy array1 Total :\" + str(t4 - t1))\n",
    "\n",
    "def numpyarray2(size_vector):\n",
    "    t1 = time.time()\n",
    "    x = np.arange(size_vector)\n",
    "    y = np.arange(size_vector)\n",
    "    t2 = time.time()\n",
    "    print (\"numpy array2 Load Time : \"+str(t2-t1))\n",
    "    \n",
    "    t3 = time.time()\n",
    "    z = np.ndarray(size_vector)\n",
    "    for i in range(len(x)):\n",
    "        z[i] = x[i] + y[i]        #리스트 어레이 짬뽕(오히려 성능떨어짐)\n",
    "    t4 = time.time()\n",
    "    print (\"numpy array2 for loop : \" + str(t4- t3))\n",
    "    print (\" numpy array2 Total :\" + str(t4 - t1))\n",
    "\n",
    "print (\" size_vector : 100000\")\n",
    "pythonlist(size_vector)\n",
    "numpyarray1(size_vector)\n",
    "numpyarray2(size_vector)\n",
    "print (\"------------------------------\")\n",
    "\n",
    "print (\" size_vector : 100\")\n",
    "size_vector = 100\n",
    "pythonlist(size_vector)\n",
    "numpyarray1(size_vector)\n",
    "numpyarray2(size_vector)\n",
    "print (\"------------------------------\")\n",
    "\n",
    "\n",
    "#  샘플 결과 \n",
    "# -->기본적으로 일반적인 list로 생성하는 것이 array로 생성하는 것에 비해서 많은 속도가 소욧된다.\n",
    "# --> numpy의 백터 연산이 기본적인 for에서 append보다 속도가 빠른 것을 볼 수 있음.\n",
    "# --> 동잉한 for에 대해서도 상당히 속도가 빠른 것을 볼 수 있다. \n",
    "# --> 작은 숫자에서는 큰 차이가 없거나 경우에 따라서 List가 빠를 수도 있음.\n",
    "\n",
    "\n",
    "# 하나의 예시 결과\n",
    "\n",
    "#  size_vector : 100000\n",
    "# python list Load Time : 2.86102294921875e-06\n",
    "# python list for loop : 0.05470418930053711\n",
    "#  Python List Total :0.05480003356933594\n",
    "# numpy array1 Load Time : 0.0014030933380126953\n",
    "# numpy array1 for loop : 0.0006737709045410156\n",
    "#  numpy array1 Total :0.002165079116821289\n",
    "# numpy array2 Load Time : 0.00037980079650878906\n",
    "# numpy array2 for loop : 1.0013580322265625e-05\n",
    "#  numpy array2 Total :0.0004830360412597656\n",
    "# ------------------------------\n",
    "#  size_vector : 100\n",
    "# python list Load Time : 3.0994415283203125e-06\n",
    "# python list for loop : 4.7206878662109375e-05\n",
    "#  Python List Total :0.00010013580322265625\n",
    "# numpy array1 Load Time : 5.125999450683594e-05\n",
    "# numpy array1 for loop : 1.621246337890625e-05\n",
    "#  numpy array1 Total :0.0001232624053955078\n",
    "# numpy array2 Load Time : 1.2159347534179688e-05\n",
    "# numpy array2 for loop : 6.9141387939453125e-06\n",
    "#  numpy array2 Total :6.818771362304688e-05\n",
    "# ------------------------------"
   ]
  },
  {
   "cell_type": "markdown",
   "metadata": {},
   "source": [
    "### 속도 비교 : 각기 원소들의 제곱들로 만드는 것."
   ]
  },
  {
   "cell_type": "code",
   "execution_count": 47,
   "metadata": {},
   "outputs": [
    {
     "name": "stdout",
     "output_type": "stream",
     "text": [
      "Number : 100\n",
      "List0-Try :  0.0\n",
      "List1-Try :  0.0\n",
      "List2-Try :  0.0\n",
      "List3-Try :  0.0\n",
      "Array-Try :  0.0\n",
      "---------------\n",
      "Number : 100000\n",
      "List0-Try :  10.956039190292358\n",
      "List1-Try :  0.030925989151000977\n",
      "List2-Try :  0.027926206588745117\n",
      "List3-Try :  0.024880170822143555\n",
      "Array-Try :  0.00031256675720214844\n"
     ]
    }
   ],
   "source": [
    "# 02) 속도 비교\n",
    "# 제곱 결과들\n",
    "\n",
    "def square_list0(N):\n",
    "    squares = []\n",
    "    for n in range(N):\n",
    "        squares = squares + [n**2]\n",
    "    return squares\n",
    "\n",
    "\n",
    "def square_list1(N):\n",
    "    squares = []\n",
    "    for n in range(N):\n",
    "        # 일반적으로 생성해서 더하는 방법\n",
    "        squares += [n**2]\n",
    "    return squares\n",
    "    \n",
    "\n",
    "def square_list2(N):\n",
    "    squares = []\n",
    "    for n in range(N):\n",
    "        # append 라고 이미 정의된 메소드 이용하는 방법\n",
    "        squares.append(n**2)\n",
    "    return squares\n",
    "    \n",
    "\n",
    "def square_list3(N):\n",
    "    # 동일한 방법이나 벡터연산으로 처리 ==> for루프 빨리 돌릴때 사용\n",
    "    return [n**2 for n in range(N)]\n",
    "    \n",
    "#넘파이어레이 사용하는 방법!\n",
    "def square_array(N): \n",
    "    # Vectorize the entire operation.\n",
    "    #from numpy import arange\n",
    "    #return arange(N)**2\n",
    "    return np.arange(N)**2\n",
    "\n",
    "\n",
    "n = 100\n",
    "print(\"Number :\" ,n)\n",
    "t1 = time.time()\n",
    "square_list0(n)\n",
    "t2 = time.time()\n",
    "print (\"List0-Try : \",t2-t1)\n",
    "\n",
    "t1 = time.time()\n",
    "square_list1(n)\n",
    "t2 = time.time()\n",
    "print (\"List1-Try : \",t2-t1)\n",
    "\n",
    "t1 = time.time()\n",
    "square_list2(n)\n",
    "t2 = time.time()\n",
    "print (\"List2-Try : \",t2-t1)\n",
    "\n",
    "t1 = time.time()\n",
    "square_list3(n)\n",
    "t2 = time.time()\n",
    "print (\"List3-Try : \",t2-t1)\n",
    "\n",
    "t1 = time.time()\n",
    "square_array(n)\n",
    "t2 = time.time()\n",
    "print (\"Array-Try : \",t2-t1)\n",
    "print (\"---------------\")\n",
    "\n",
    "n = 100000\n",
    "print(\"Number :\", n)\n",
    "t1 = time.time()\n",
    "square_list0(n)\n",
    "t2 = time.time()\n",
    "print (\"List0-Try : \",t2-t1)\n",
    "\n",
    "t1 = time.time()\n",
    "square_list1(n)\n",
    "t2 = time.time()\n",
    "print (\"List1-Try : \",t2-t1)\n",
    "\n",
    "t1 = time.time()\n",
    "square_list2(n)\n",
    "t2 = time.time()\n",
    "print (\"List2-Try : \",t2-t1)\n",
    "\n",
    "t1 = time.time()\n",
    "square_list3(n)\n",
    "t2 = time.time()\n",
    "print (\"List3-Try : \",t2-t1)\n",
    "\n",
    "t1 = time.time()\n",
    "square_array(n)\n",
    "t2 = time.time()\n",
    "print (\"Array-Try : \",t2-t1)\n",
    "\n",
    "\n",
    "\n",
    "# 결과 \n",
    "# ---> 리스트를 사용할 것이라면 그래도 내부적으로 정의된 append가 빠르며\n",
    "# ---> 리스트를 사용할 때 이보다더 더 빠르게 사용하려면 \"벡터연산\"으로 코드를 변경할 것\n",
    "# ---> 이보다도 numpy가 더 빠르다. 특히 n이 작으면 차이가 별로 없으나, 커질수록 많이 차이가 남!!!\n",
    "\n",
    "# ------------------------------------------------------------\n",
    "# Number : 100\n",
    "# List0-Try :  0.00013494491577148438\n",
    "# List1-Try :  9.608268737792969e-05\n",
    "# List2-Try :  9.298324584960938e-05\n",
    "# List3-Try :  8.702278137207031e-05\n",
    "# Array-Try :  0.00011014938354492188\n",
    "# ---------------\n",
    "# Number : 100000\n",
    "# List0-Try :  33.61902904510498\n",
    "# List1-Try :  0.049868106842041016\n",
    "# List2-Try :  0.04886770248413086\n",
    "# List3-Try :  0.03975033760070801\n",
    "# Array-Try :  0.0006237030029296875\n",
    "\n"
   ]
  },
  {
   "cell_type": "markdown",
   "metadata": {},
   "source": [
    "이미 있는 것이 무엇인지 확인"
   ]
  },
  {
   "cell_type": "code",
   "execution_count": null,
   "metadata": {},
   "outputs": [],
   "source": [
    "#기존 타입 확인/ 변경할 타입 확인/ 타입변경\n",
    "arr??????????????????"
   ]
  },
  {
   "cell_type": "markdown",
   "metadata": {},
   "source": [
    "기본적인 색인: 파이썬의 리스트와 동일"
   ]
  },
  {
   "cell_type": "code",
   "execution_count": 48,
   "metadata": {},
   "outputs": [
    {
     "name": "stdout",
     "output_type": "stream",
     "text": [
      "[1, 2, 3, 4, 5, 6]\n",
      "[1 2 3 4 5 6]\n"
     ]
    }
   ],
   "source": [
    "list1=[1,2,3,4,5,6]\n",
    "arr1 = np.array(list1)\n",
    "print(list1)\n",
    "print(arr1)"
   ]
  },
  {
   "cell_type": "code",
   "execution_count": 49,
   "metadata": {},
   "outputs": [
    {
     "name": "stdout",
     "output_type": "stream",
     "text": [
      "1\n",
      "1\n",
      "\n",
      "\n",
      "[2, 3]\n",
      "[2 3]\n",
      "\n",
      "\n",
      "[1, 2, 3, 4, 5, 6]\n",
      "[1 2 3 4 5 6]\n"
     ]
    }
   ],
   "source": [
    "#정수 인덱스로 리스트와 1차원 numpy배열 접근 -> 참고)원본은 변경되지 않음\n",
    "print(list1[0])\n",
    "print(arr1[0])\n",
    "print(\"\\n\")\n",
    "print(list1[1:3])\n",
    "print(arr1[1:3])\n",
    "print(\"\\n\")\n",
    "print(list1[:])\n",
    "print(arr1[:])\n",
    "\n"
   ]
  },
  {
   "cell_type": "code",
   "execution_count": 51,
   "metadata": {},
   "outputs": [
    {
     "data": {
      "text/plain": [
       "array([0, 1, 2, 3, 4, 5])"
      ]
     },
     "execution_count": 51,
     "metadata": {},
     "output_type": "execute_result"
    }
   ],
   "source": [
    "np.arange(0,6,1)"
   ]
  },
  {
   "cell_type": "code",
   "execution_count": 56,
   "metadata": {},
   "outputs": [
    {
     "data": {
      "text/plain": [
       "array([[ 0,  1,  2,  3,  4,  5],\n",
       "       [10, 11, 12, 13, 14, 15],\n",
       "       [20, 21, 22, 23, 24, 25],\n",
       "       [30, 31, 32, 33, 34, 35],\n",
       "       [40, 41, 42, 43, 44, 45],\n",
       "       [50, 51, 52, 53, 54, 55]])"
      ]
     },
     "execution_count": 56,
     "metadata": {},
     "output_type": "execute_result"
    }
   ],
   "source": [
    "a= np.arange(0,51,10)[:,np.newaxis]+np.arange(0,6,1)\n",
    "a"
   ]
  },
  {
   "cell_type": "markdown",
   "metadata": {},
   "source": [
    "a[가로,세로]"
   ]
  },
  {
   "cell_type": "code",
   "execution_count": 72,
   "metadata": {
    "scrolled": true
   },
   "outputs": [
    {
     "data": {
      "text/plain": [
       "array([3, 4])"
      ]
     },
     "execution_count": 72,
     "metadata": {},
     "output_type": "execute_result"
    }
   ],
   "source": [
    "a[0,3:5]"
   ]
  },
  {
   "cell_type": "code",
   "execution_count": 58,
   "metadata": {},
   "outputs": [
    {
     "data": {
      "text/plain": [
       "0"
      ]
     },
     "execution_count": 58,
     "metadata": {},
     "output_type": "execute_result"
    }
   ],
   "source": [
    "a[0,0]"
   ]
  },
  {
   "cell_type": "code",
   "execution_count": 70,
   "metadata": {},
   "outputs": [
    {
     "data": {
      "text/plain": [
       "array([[ 2],\n",
       "       [12],\n",
       "       [22],\n",
       "       [32],\n",
       "       [42],\n",
       "       [52]])"
      ]
     },
     "execution_count": 70,
     "metadata": {},
     "output_type": "execute_result"
    }
   ],
   "source": [
    "a[:,2][:,np.newaxis]"
   ]
  },
  {
   "cell_type": "code",
   "execution_count": 71,
   "metadata": {},
   "outputs": [
    {
     "data": {
      "text/plain": [
       "array([ 2, 12, 22, 32, 42, 52])"
      ]
     },
     "execution_count": 71,
     "metadata": {},
     "output_type": "execute_result"
    }
   ],
   "source": [
    "a[:,2]"
   ]
  },
  {
   "cell_type": "code",
   "execution_count": 73,
   "metadata": {},
   "outputs": [
    {
     "data": {
      "text/plain": [
       "array([[20, 22, 24],\n",
       "       [40, 42, 44]])"
      ]
     },
     "execution_count": 73,
     "metadata": {},
     "output_type": "execute_result"
    }
   ],
   "source": [
    "a[2::2,0::2]"
   ]
  },
  {
   "cell_type": "code",
   "execution_count": 74,
   "metadata": {},
   "outputs": [
    {
     "data": {
      "text/plain": [
       "array([[44, 45],\n",
       "       [54, 55]])"
      ]
     },
     "execution_count": 74,
     "metadata": {},
     "output_type": "execute_result"
    }
   ],
   "source": [
    "a[4:,4:]"
   ]
  },
  {
   "cell_type": "markdown",
   "metadata": {},
   "source": [
    "Blooean Indexting 중요!!!!!!!!->의미: 조건 검색이 가능함!"
   ]
  },
  {
   "cell_type": "markdown",
   "metadata": {},
   "source": [
    "기본적인 기능"
   ]
  },
  {
   "cell_type": "code",
   "execution_count": 1,
   "metadata": {},
   "outputs": [],
   "source": [
    "import numpy as np"
   ]
  },
  {
   "cell_type": "code",
   "execution_count": 2,
   "metadata": {
    "scrolled": true
   },
   "outputs": [
    {
     "name": "stdout",
     "output_type": "stream",
     "text": [
      "[0 1 2 3 4 5 6 7 8 9]\n",
      "[ True  True  True  True  True False False False False False]\n",
      "[0 1 2 3 4]\n"
     ]
    }
   ],
   "source": [
    "arr1= np.arange(10)\n",
    "print(arr1)\n",
    "print(arr1<5)\n",
    "print(arr1[arr1<5])\n"
   ]
  },
  {
   "cell_type": "code",
   "execution_count": 5,
   "metadata": {},
   "outputs": [
    {
     "data": {
      "text/plain": [
       "3"
      ]
     },
     "execution_count": 5,
     "metadata": {},
     "output_type": "execute_result"
    }
   ],
   "source": [
    "len(arr1[arr1<3])"
   ]
  },
  {
   "cell_type": "markdown",
   "metadata": {},
   "source": [
    "예제: 학생 이름에서 성이 누락되어 있음. 과목 성적: 국어/영어/수학/과학 성적 순이라고 가정"
   ]
  },
  {
   "cell_type": "markdown",
   "metadata": {},
   "source": [
    "자료만들기"
   ]
  },
  {
   "cell_type": "code",
   "execution_count": 13,
   "metadata": {},
   "outputs": [
    {
     "name": "stdout",
     "output_type": "stream",
     "text": [
      "['Bob' 'Joe' 'Will' 'Bob' 'Will' 'Joe' 'Joe']\n",
      "[[32 80 58 65]\n",
      " [83 53 95 49]\n",
      " [80 92 73 42]\n",
      " [71 99 35 74]\n",
      " [95 82 61 91]\n",
      " [55 96 55 71]\n",
      " [64 37 65 91]]\n"
     ]
    }
   ],
   "source": [
    "#p.128: names-학생이름, data-국어,영어,수학,과학 성적이라고 생각하면 됨. (순서는\n",
    "names=np.array([\"Bob\",\"Joe\",\"Will\",\"Bob\",\"Will\",\"Joe\",\"Joe\"])      \n",
    "#참고) numpy.random.randint(low, high=None, size=None, dtype=\"I\")     \n",
    "data = np.random.randint(low=30,high=100,size=(7,4))      \n",
    "print(names)\n",
    "print(data)"
   ]
  },
  {
   "cell_type": "markdown",
   "metadata": {},
   "source": [
    "이름이 Bob인 사람들만 찾기"
   ]
  },
  {
   "cell_type": "code",
   "execution_count": 14,
   "metadata": {},
   "outputs": [
    {
     "data": {
      "text/plain": [
       "array([ True, False, False,  True, False, False, False])"
      ]
     },
     "execution_count": 14,
     "metadata": {},
     "output_type": "execute_result"
    }
   ],
   "source": [
    "#주의! names=\"Bob\"아님!!\n",
    "names==\"Bob\""
   ]
  },
  {
   "cell_type": "code",
   "execution_count": 15,
   "metadata": {},
   "outputs": [
    {
     "data": {
      "text/plain": [
       "array(['Bob', 'Bob'], dtype='<U4')"
      ]
     },
     "execution_count": 15,
     "metadata": {},
     "output_type": "execute_result"
    }
   ],
   "source": [
    "names[names==\"Bob\"]"
   ]
  },
  {
   "cell_type": "code",
   "execution_count": 17,
   "metadata": {},
   "outputs": [
    {
     "data": {
      "text/plain": [
       "2"
      ]
     },
     "execution_count": 17,
     "metadata": {},
     "output_type": "execute_result"
    }
   ],
   "source": [
    "len(names[names==\"Bob\"])"
   ]
  },
  {
   "cell_type": "code",
   "execution_count": 36,
   "metadata": {},
   "outputs": [
    {
     "data": {
      "text/plain": [
       "array([[32, 80, 58, 65],\n",
       "       [71, 99, 35, 74]])"
      ]
     },
     "execution_count": 36,
     "metadata": {},
     "output_type": "execute_result"
    }
   ],
   "source": [
    "data[[0,3]]"
   ]
  },
  {
   "cell_type": "code",
   "execution_count": 21,
   "metadata": {},
   "outputs": [
    {
     "data": {
      "text/plain": [
       "array([[32, 80, 58, 65],\n",
       "       [71, 99, 35, 74]])"
      ]
     },
     "execution_count": 21,
     "metadata": {},
     "output_type": "execute_result"
    }
   ],
   "source": [
    "data[names==\"Bob\"]"
   ]
  },
  {
   "cell_type": "code",
   "execution_count": 32,
   "metadata": {},
   "outputs": [
    {
     "data": {
      "text/plain": [
       "array([[32, 80],\n",
       "       [71, 99]])"
      ]
     },
     "execution_count": 32,
     "metadata": {},
     "output_type": "execute_result"
    }
   ],
   "source": [
    "data[names==\"Bob\",:2]"
   ]
  },
  {
   "cell_type": "code",
   "execution_count": 34,
   "metadata": {},
   "outputs": [
    {
     "data": {
      "text/plain": [
       "array([32, 80, 58, 65])"
      ]
     },
     "execution_count": 34,
     "metadata": {},
     "output_type": "execute_result"
    }
   ],
   "source": [
    "data[names==\"Bob\", :][0]"
   ]
  },
  {
   "cell_type": "code",
   "execution_count": 37,
   "metadata": {},
   "outputs": [
    {
     "name": "stdout",
     "output_type": "stream",
     "text": [
      "['Bob' 'Bob']\n",
      "2\n"
     ]
    }
   ],
   "source": [
    "print(names[names==\"Bob\"])\n",
    "print(len(names[names==\"Bob\"]))"
   ]
  },
  {
   "cell_type": "code",
   "execution_count": 46,
   "metadata": {},
   "outputs": [
    {
     "data": {
      "text/plain": [
       "array([[32, 80, 58, 65],\n",
       "       [80, 92, 73, 42],\n",
       "       [71, 99, 35, 74],\n",
       "       [95, 82, 61, 91]])"
      ]
     },
     "execution_count": 46,
     "metadata": {},
     "output_type": "execute_result"
    }
   ],
   "source": [
    "#\"Bob\",\"Will\"\n",
    "data[(names==\"Bob\") | (names==\"Will\")]"
   ]
  },
  {
   "cell_type": "code",
   "execution_count": 47,
   "metadata": {},
   "outputs": [
    {
     "data": {
      "text/plain": [
       "array([[32, 80],\n",
       "       [80, 92],\n",
       "       [71, 99],\n",
       "       [95, 82]])"
      ]
     },
     "execution_count": 47,
     "metadata": {},
     "output_type": "execute_result"
    }
   ],
   "source": [
    "data[(names==\"Bob\") | (names==\"Will\"), :2]"
   ]
  },
  {
   "cell_type": "markdown",
   "metadata": {},
   "source": [
    "95점 초과해야지 그 과목 통과, 아니면 통과 못함\n",
    "그리고 그 학기를 이수하기 위해서 통과한 과목이 1과목 이상이여야 함\n",
    "그러면 누가 이번 학기를 이수할 수 있을까?"
   ]
  },
  {
   "cell_type": "code",
   "execution_count": 48,
   "metadata": {},
   "outputs": [
    {
     "data": {
      "text/plain": [
       "array([[32, 80, 58, 65],\n",
       "       [83, 53, 95, 49],\n",
       "       [80, 92, 73, 42],\n",
       "       [71, 99, 35, 74],\n",
       "       [95, 82, 61, 91],\n",
       "       [55, 96, 55, 71],\n",
       "       [64, 37, 65, 91]])"
      ]
     },
     "execution_count": 48,
     "metadata": {},
     "output_type": "execute_result"
    }
   ],
   "source": [
    "data"
   ]
  },
  {
   "cell_type": "code",
   "execution_count": 54,
   "metadata": {},
   "outputs": [
    {
     "data": {
      "text/plain": [
       "array([[0, 0, 0, 0],\n",
       "       [0, 0, 1, 0],\n",
       "       [0, 0, 0, 0],\n",
       "       [0, 1, 0, 0],\n",
       "       [1, 0, 0, 0],\n",
       "       [0, 1, 0, 0],\n",
       "       [0, 0, 0, 0]])"
      ]
     },
     "execution_count": 54,
     "metadata": {},
     "output_type": "execute_result"
    }
   ],
   "source": [
    "data[data<95]=0\n",
    "data[data>=95]=1\n",
    "data"
   ]
  },
  {
   "cell_type": "code",
   "execution_count": 61,
   "metadata": {},
   "outputs": [
    {
     "data": {
      "text/plain": [
       "(array([1, 3, 4, 5], dtype=int64), array([2, 1, 0, 1], dtype=int64))"
      ]
     },
     "execution_count": 61,
     "metadata": {},
     "output_type": "execute_result"
    }
   ],
   "source": [
    "#원하는 값의 위치를 찾고자 할때 np.where사용\n",
    "np.where(data>0)"
   ]
  },
  {
   "cell_type": "code",
   "execution_count": 62,
   "metadata": {},
   "outputs": [
    {
     "data": {
      "text/plain": [
       "array([1, 3, 4, 5], dtype=int64)"
      ]
     },
     "execution_count": 62,
     "metadata": {},
     "output_type": "execute_result"
    }
   ],
   "source": [
    "np.where(data>0)[0]"
   ]
  },
  {
   "cell_type": "code",
   "execution_count": 63,
   "metadata": {},
   "outputs": [
    {
     "data": {
      "text/plain": [
       "array([1, 3, 4, 5], dtype=int64)"
      ]
     },
     "execution_count": 63,
     "metadata": {},
     "output_type": "execute_result"
    }
   ],
   "source": [
    "#중복된 값 제거(지금 예제는 중복된 값이 없어 값이 같아 보임)\n",
    "np.unique(np.where(data>0)[0])"
   ]
  },
  {
   "cell_type": "code",
   "execution_count": 64,
   "metadata": {},
   "outputs": [
    {
     "data": {
      "text/plain": [
       "array(['Joe', 'Bob', 'Will', 'Joe'], dtype='<U4')"
      ]
     },
     "execution_count": 64,
     "metadata": {},
     "output_type": "execute_result"
    }
   ],
   "source": [
    "names[np.unique(np.where(data>0)[0])]"
   ]
  },
  {
   "cell_type": "markdown",
   "metadata": {},
   "source": [
    "#이미지 데이터들은 머신러닝으로 돌리기 어려움\n",
    "#이미지 데이터 핸들링은 numpy로 핸들링"
   ]
  },
  {
   "cell_type": "code",
   "execution_count": null,
   "metadata": {},
   "outputs": [],
   "source": []
  }
 ],
 "metadata": {
  "kernelspec": {
   "display_name": "Python 3",
   "language": "python",
   "name": "python3"
  },
  "language_info": {
   "codemirror_mode": {
    "name": "ipython",
    "version": 3
   },
   "file_extension": ".py",
   "mimetype": "text/x-python",
   "name": "python",
   "nbconvert_exporter": "python",
   "pygments_lexer": "ipython3",
   "version": "3.7.6"
  }
 },
 "nbformat": 4,
 "nbformat_minor": 4
}
