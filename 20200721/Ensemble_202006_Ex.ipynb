{
 "cells": [
  {
   "cell_type": "markdown",
   "metadata": {
    "ExecuteTime": {
     "end_time": "2020-07-19T18:58:05.958417Z",
     "start_time": "2020-07-19T18:58:05.956373Z"
    }
   },
   "source": [
    "# ensemble"
   ]
  },
  {
   "cell_type": "markdown",
   "metadata": {
    "ExecuteTime": {
     "end_time": "2020-07-19T19:02:09.806647Z",
     "start_time": "2020-07-19T19:02:09.803072Z"
    }
   },
   "source": [
    ">* 머리좀 모아보자!!!!<br>\n",
    "> 1.Voting : 다수결 해보자!!!(모델을 여러개!)<br>\n",
    "> 2.Bagging : 다양한 데이터에서 해보자!!(데이터셋이 여러개!)<br>\n",
    "> 3.Boosting : 못하는 놈들 대리고 각자 장점 살려보자!!!<br>\n",
    "> 4.Stacking : 나온 것으로 다시 또 돌려보자!!"
   ]
  },
  {
   "cell_type": "markdown",
   "metadata": {
    "ExecuteTime": {
     "end_time": "2020-07-19T18:58:44.254229Z",
     "start_time": "2020-07-19T18:58:44.250639Z"
    }
   },
   "source": [
    "<img src=\"img/01.png\">"
   ]
  },
  {
   "cell_type": "markdown",
   "metadata": {},
   "source": [
    "## voting"
   ]
  },
  {
   "cell_type": "markdown",
   "metadata": {},
   "source": [
    "<img src=\"img/03.png\">\n",
    "<img src=\"img/02.png\">"
   ]
  },
  {
   "cell_type": "markdown",
   "metadata": {},
   "source": [
    "<img src=\"img/08.png\">\n",
    "<img src=\"img/09.png\">"
   ]
  },
  {
   "cell_type": "markdown",
   "metadata": {},
   "source": [
    "### Voting의 종류"
   ]
  },
  {
   "cell_type": "markdown",
   "metadata": {},
   "source": [
    ">- Hard : 1인 1표제<br>\n",
    ">- Soft : 잘 하는 의견 반영하자"
   ]
  },
  {
   "cell_type": "markdown",
   "metadata": {},
   "source": [
    "<img src=\"img/04.png\">"
   ]
  },
  {
   "cell_type": "markdown",
   "metadata": {},
   "source": [
    "### Why Voting?"
   ]
  },
  {
   "cell_type": "markdown",
   "metadata": {},
   "source": [
    "* [ 상황 ] 우선 분류를 하는 학습기 A,B,C가 존재하고, 이들은 각기 70%의 정확도를 보이고 있다.  \n",
    "이러한 상황에서 이들을 모두 사용해서 다수결의 법칙으로 결정하고자 한다.  \n"
   ]
  },
  {
   "cell_type": "code",
   "execution_count": 1,
   "metadata": {
    "ExecuteTime": {
     "end_time": "2020-07-19T19:08:36.457130Z",
     "start_time": "2020-07-19T19:08:36.445811Z"
    }
   },
   "outputs": [
    {
     "name": "stdout",
     "output_type": "stream",
     "text": [
      "0.3429999999999999\n"
     ]
    }
   ],
   "source": [
    "#01) 3개의 분류기가 모두 다 맞출 확률 : \n",
    "case1 = 0.7*0.7*0.7\n",
    "print (case1)"
   ]
  },
  {
   "cell_type": "code",
   "execution_count": 7,
   "metadata": {
    "ExecuteTime": {
     "end_time": "2020-07-19T19:08:40.561103Z",
     "start_time": "2020-07-19T19:08:40.558037Z"
    }
   },
   "outputs": [
    {
     "name": "stdout",
     "output_type": "stream",
     "text": [
      "0.44099999999999995\n"
     ]
    }
   ],
   "source": [
    "# 02 ) 2개의 분류기가 맞추고, 1개가 틀릴 확률:\n",
    "case2 = 0.7*0.7*0.3+0.7*0.3*0.7+0.3*0.7*0.7\n",
    "print (case2)"
   ]
  },
  {
   "cell_type": "code",
   "execution_count": 8,
   "metadata": {
    "ExecuteTime": {
     "end_time": "2020-07-19T19:08:45.827198Z",
     "start_time": "2020-07-19T19:08:45.824078Z"
    }
   },
   "outputs": [
    {
     "name": "stdout",
     "output_type": "stream",
     "text": [
      "0.189\n"
     ]
    }
   ],
   "source": [
    "# 03) 1개의 분류기가 맞추고, 2개가 틀릴 확률:\n",
    "case3 = 0.7*0.3*0.3+0.3*0.7*0.3+0.3*0.3*0.7\n",
    "print (case3)"
   ]
  },
  {
   "cell_type": "code",
   "execution_count": 9,
   "metadata": {
    "ExecuteTime": {
     "end_time": "2020-07-19T19:08:50.902951Z",
     "start_time": "2020-07-19T19:08:50.899886Z"
    }
   },
   "outputs": [
    {
     "name": "stdout",
     "output_type": "stream",
     "text": [
      "0.027\n"
     ]
    }
   ],
   "source": [
    "# 04) 3개의 분류기 모두 틀리는 확률:\n",
    "case4 = 0.3*0.3*0.3\n",
    "print (case4)"
   ]
  },
  {
   "cell_type": "code",
   "execution_count": 10,
   "metadata": {
    "ExecuteTime": {
     "end_time": "2020-07-19T19:09:00.081598Z",
     "start_time": "2020-07-19T19:09:00.078516Z"
    }
   },
   "outputs": [
    {
     "name": "stdout",
     "output_type": "stream",
     "text": [
      "0.9999999999999999\n"
     ]
    }
   ],
   "source": [
    "# 모든 경우가 위의 4가지의 경우로 분할이 된다.!!!\n",
    "print (case1 + case2 + case3 + case4)"
   ]
  },
  {
   "cell_type": "markdown",
   "metadata": {},
   "source": [
    "* 위의 경우에서 살펴보면 다수결의 법칙(3개이니, 2개 이상이 맞는 경우)으로 생각을 하면 case1 + case2 가 되어서 0.784로 1개의 부류기의 0.7보다 높은 정확도를 보이는 것을 알 수 있다!!!!"
   ]
  },
  {
   "cell_type": "code",
   "execution_count": 11,
   "metadata": {
    "ExecuteTime": {
     "end_time": "2020-07-19T19:09:12.307032Z",
     "start_time": "2020-07-19T19:09:12.304463Z"
    }
   },
   "outputs": [
    {
     "name": "stdout",
     "output_type": "stream",
     "text": [
      "0.7839999999999998\n"
     ]
    }
   ],
   "source": [
    "print( case1 + case2)"
   ]
  },
  {
   "cell_type": "markdown",
   "metadata": {},
   "source": [
    "* 위의 경우에서는 70%의 정확도를 가지는 것을 3가지를 사용을 하였으나, 이것을 5개를 사용해서 처리하게 된다면 5개 모두 맞는 경우 + 4개 맞는 경우 + 3개 맞는 경우를 계산하면 된다. ---> 약 0.83% 로 향상이 됨!!!!!"
   ]
  },
  {
   "cell_type": "code",
   "execution_count": 14,
   "metadata": {
    "ExecuteTime": {
     "end_time": "2020-07-19T19:09:32.281865Z",
     "start_time": "2020-07-19T19:09:32.276096Z"
    }
   },
   "outputs": [],
   "source": [
    "import itertools\n",
    "import numpy as np\n",
    "\n",
    "# 조합에서는 모든 가능한 경우를 하고, 유니크한 경우를 추출하지 않아서 관련 함수를 만들어야 한다.\n",
    "def get_uniq_row(arr1):\n",
    "    y = np.ascontiguousarray(arr1).view(np.dtype((np.void, arr1.dtype.itemsize * arr1.shape[1])))\n",
    "    # _ 는 그 위치에 해당하는 값을 무시하고 싶을 때!!!!!!!!!\n",
    "    _,idx = np.unique(y, return_index=True)\n",
    "\n",
    "    unique_result = arr1[idx]\n",
    "    return unique_result\n",
    "\n",
    "def multiple_values(arr1):\n",
    "    temp = 0 # 최종 더하는 변수\n",
    "    for i in arr1:\n",
    "        temp1 = 1 # 각 경우마다의 원소의 곱을 처리하는 변수\n",
    "        for j in i:\n",
    "            temp1 *= j\n",
    "        temp += temp1\n",
    "    return temp"
   ]
  },
  {
   "cell_type": "code",
   "execution_count": 19,
   "metadata": {
    "ExecuteTime": {
     "end_time": "2020-07-19T19:09:39.601463Z",
     "start_time": "2020-07-19T19:09:39.594178Z"
    }
   },
   "outputs": [
    {
     "data": {
      "text/plain": [
       "0.16806999999999994"
      ]
     },
     "execution_count": 19,
     "metadata": {},
     "output_type": "execute_result"
    }
   ],
   "source": [
    "0.7*0.7*0.7*0.7*0.7"
   ]
  },
  {
   "cell_type": "code",
   "execution_count": 15,
   "metadata": {
    "ExecuteTime": {
     "end_time": "2020-07-19T19:09:46.053410Z",
     "start_time": "2020-07-19T19:09:46.046768Z"
    }
   },
   "outputs": [
    {
     "name": "stdout",
     "output_type": "stream",
     "text": [
      "[[0.7 0.7 0.7 0.7 0.7]]\n",
      "0.16806999999999994\n"
     ]
    }
   ],
   "source": [
    "# 모두 다 같은 경우\n",
    "mylist = [0.7,0.7,0.7,0.7,0.7]\n",
    "case1_list = [] # 곱으로 할 것이니!!!\n",
    "for i in itertools.permutations(mylist, 5):\n",
    "    case1_list.append(i)\n",
    "case1_uniq = get_uniq_row(np.array(case1_list))\n",
    "print (case1_uniq)\n",
    "case1 = multiple_values(case1_uniq)\n",
    "print (case1)"
   ]
  },
  {
   "cell_type": "code",
   "execution_count": 16,
   "metadata": {
    "ExecuteTime": {
     "end_time": "2020-07-19T19:09:51.821822Z",
     "start_time": "2020-07-19T19:09:51.817136Z"
    }
   },
   "outputs": [
    {
     "name": "stdout",
     "output_type": "stream",
     "text": [
      "[[0.3 0.7 0.7 0.7 0.7]\n",
      " [0.7 0.3 0.7 0.7 0.7]\n",
      " [0.7 0.7 0.3 0.7 0.7]\n",
      " [0.7 0.7 0.7 0.3 0.7]\n",
      " [0.7 0.7 0.7 0.7 0.3]]\n",
      "0.3601499999999999\n"
     ]
    }
   ],
   "source": [
    "# 4개 맞추고, 1개 틀리는 경우\n",
    "mylist = [0.3, 0.7, 0.7, 0.7, 0.7]\n",
    "case2_list = [] # 곱으로 할 것이니!!!\n",
    "for i in itertools.permutations(mylist, 5):\n",
    "    case2_list.append(i)\n",
    "case2_uniq = get_uniq_row(np.array(case2_list))\n",
    "print (case2_uniq)\n",
    "case2 = multiple_values(case2_uniq)\n",
    "print (case2)"
   ]
  },
  {
   "cell_type": "code",
   "execution_count": 17,
   "metadata": {
    "ExecuteTime": {
     "end_time": "2020-07-19T19:09:57.621073Z",
     "start_time": "2020-07-19T19:09:57.616474Z"
    }
   },
   "outputs": [
    {
     "name": "stdout",
     "output_type": "stream",
     "text": [
      "[[0.3 0.3 0.7 0.7 0.7]\n",
      " [0.3 0.7 0.3 0.7 0.7]\n",
      " [0.3 0.7 0.7 0.3 0.7]\n",
      " [0.3 0.7 0.7 0.7 0.3]\n",
      " [0.7 0.3 0.3 0.7 0.7]\n",
      " [0.7 0.3 0.7 0.3 0.7]\n",
      " [0.7 0.3 0.7 0.7 0.3]\n",
      " [0.7 0.7 0.3 0.3 0.7]\n",
      " [0.7 0.7 0.3 0.7 0.3]\n",
      " [0.7 0.7 0.7 0.3 0.3]]\n",
      "0.3087\n"
     ]
    }
   ],
   "source": [
    "# 3개 맞고, 2개 틀리는 경우 \n",
    "mylist = [0.3, 0.3, 0.7, 0.7, 0.7]\n",
    "case3_list = [] # 곱으로 할 것이니!!!\n",
    "for i in itertools.permutations(mylist, 5):\n",
    "    case3_list.append(i)\n",
    "case3_uniq = get_uniq_row(np.array(case3_list))\n",
    "print (case3_uniq)\n",
    "case3 = multiple_values(case3_uniq)\n",
    "print (case3)"
   ]
  },
  {
   "cell_type": "code",
   "execution_count": 18,
   "metadata": {
    "ExecuteTime": {
     "end_time": "2020-07-19T19:10:03.129908Z",
     "start_time": "2020-07-19T19:10:03.126795Z"
    }
   },
   "outputs": [
    {
     "name": "stdout",
     "output_type": "stream",
     "text": [
      "0.8369199999999999\n"
     ]
    }
   ],
   "source": [
    "# 5개의 경우에는 83까지 향상이 됨!!!!\n",
    "print (case1 + case2 + case3)"
   ]
  },
  {
   "cell_type": "markdown",
   "metadata": {},
   "source": [
    "### How "
   ]
  },
  {
   "cell_type": "markdown",
   "metadata": {},
   "source": [
    "그러면 어떠한 것들을 가지고 구성을 해야 좋을까? 초록이 동색? 아니면 다양한 의견을 가진 사람들을 모아서 하는 다양성의 관점??  \n",
    "--> 일반적으로 상관관계가 적은 것들을 모아야지, 잘못된 것들의 수정가능성이 커진다. 같은 것들은 다 같이 오류를발생하고, 잘못된 것을 수정될 기회가 없기 떄문에.."
   ]
  },
  {
   "cell_type": "markdown",
   "metadata": {},
   "source": [
    ">* case1) 유사한 것들로 구성  \n",
    "> 1 1 1 1 1 1 1 1 1 1  # 오리지널  \n",
    "\n",
    ">1 1 1 1 1 1 1 1 0 0  # 80퍼센트  \n",
    ">1 1 1 1 1 1 1 1 0 0 # 80퍼센트  \n",
    ">1 0 1 1 1 1 1 1 0 0 # 70처센트  \n",
    "\n",
    "> ---> 위의 것으로 다수결 수행 시  \n",
    ">1 1 1 1 1 1 1 1 0 0 # 여전히 80퍼센트로 오류가 수정이 안 됨!!!!!"
   ]
  },
  {
   "cell_type": "code",
   "execution_count": 20,
   "metadata": {
    "ExecuteTime": {
     "end_time": "2020-07-19T19:13:29.750252Z",
     "start_time": "2020-07-19T19:13:29.742561Z"
    },
    "scrolled": true
   },
   "outputs": [
    {
     "name": "stdout",
     "output_type": "stream",
     "text": [
      "[[1.         0.76376262]\n",
      " [0.76376262 1.        ]]\n",
      "[[ 1. nan]\n",
      " [nan nan]]\n"
     ]
    },
    {
     "name": "stderr",
     "output_type": "stream",
     "text": [
      "C:\\Users\\acorn-508\\anaconda3\\lib\\site-packages\\numpy\\lib\\function_base.py:2534: RuntimeWarning: invalid value encountered in true_divide\n",
      "  c /= stddev[:, None]\n",
      "C:\\Users\\acorn-508\\anaconda3\\lib\\site-packages\\numpy\\lib\\function_base.py:2535: RuntimeWarning: invalid value encountered in true_divide\n",
      "  c /= stddev[None, :]\n"
     ]
    }
   ],
   "source": [
    "a= np.array([1,1,1,1,1,1,1,1,1,1])\n",
    "b= np.array([1,1,1,1,1,1,1,1,0,0])\n",
    "c= np.array([1,1,1,1,1,1,1,1,0,0])\n",
    "d= np.array([1,0,1,1,1,1,1,1,0,0])\n",
    "\n",
    "# 위와 같이 하면 a 의 변화가 없으니 nan 이 나타나게 된다. --> 계산상 0으로 나눠서리;;\n",
    "# ref)https://stackoverflow.com/questions/7653993/encountered-invalid-value-when-i-use-pearsonr\n",
    "print (np.corrcoef(c,d))\n",
    "print (np.corrcoef(b,a))"
   ]
  },
  {
   "cell_type": "markdown",
   "metadata": {},
   "source": [
    "* 위와 같은 경우에는 t_test를 사용하는 것도 괜찮음!"
   ]
  },
  {
   "cell_type": "code",
   "execution_count": 18,
   "metadata": {
    "ExecuteTime": {
     "end_time": "2020-07-19T19:13:50.396422Z",
     "start_time": "2020-07-19T19:13:49.998424Z"
    }
   },
   "outputs": [
    {
     "name": "stdout",
     "output_type": "stream",
     "text": [
      "Ttest_indResult(statistic=1.4999999999999998, pvalue=0.1509504521842674)\n",
      "Ttest_indResult(statistic=1.9639610121239317, pvalue=0.06516948808048838)\n",
      "Ttest_indResult(statistic=0.0, pvalue=1.0)\n",
      "Ttest_indResult(statistic=0.49319696191607226, pvalue=0.6278365031702049)\n"
     ]
    }
   ],
   "source": [
    "from scipy import stats\n",
    "print (stats.ttest_ind(a, b))\n",
    "print (stats.ttest_ind(a, d))\n",
    "print (stats.ttest_ind(b,c))\n",
    "print (stats.ttest_ind(b,d))\n"
   ]
  },
  {
   "cell_type": "markdown",
   "metadata": {},
   "source": [
    "### 정리"
   ]
  },
  {
   "cell_type": "markdown",
   "metadata": {
    "ExecuteTime": {
     "end_time": "2020-07-19T19:14:34.538230Z",
     "start_time": "2020-07-19T19:14:34.534068Z"
    }
   },
   "source": [
    ">- 위의 경우에서보면 \"다수의 법칙\"은 분류의 경우가 다양하게 많은 문제에서 보다 적합하다. <br>\n",
    ">- 그러면 의사결정에서 모든 사람들이 동등하게 1표를 행사하는 경우도 있지만, 전문가나 의사 결정권이 높거나 잘 하는 사람들에게 가중치를 주는 경우도 있고, 아니면 스포츠에서처럼 최고점/최저점 등에서 처리를 하여서 극단의 값을 제외하고 처리하는 등 여러가지 방법이 있다.  "
   ]
  },
  {
   "cell_type": "markdown",
   "metadata": {},
   "source": [
    "* 아래 결과를 보면 여러가지의 분류기들을 하고, 이를 가지고 투표앙상블을 수행을 하는데, 모두 1표씩 하는 경우하고, 가중치를 두고 하는 경우하고 서로 다른 결과들을 보이는 것을 볼 수 있다. 그리고 이러한 것은 경진대회에서는 다만 얼마라도 향상시키기 위해서 사용하는 방법 중 하나가 되겠다!!!"
   ]
  },
  {
   "cell_type": "markdown",
   "metadata": {},
   "source": [
    "<img src=\"img/05.png\">"
   ]
  },
  {
   "cell_type": "markdown",
   "metadata": {
    "ExecuteTime": {
     "end_time": "2020-07-19T19:16:37.786376Z",
     "start_time": "2020-07-19T19:16:37.780708Z"
    }
   },
   "source": [
    "* 참고) 위에서 RF하고 Extra Trees 하고 2가지가 있는데 이 둘은 무엇이 다를까?  <br>\n",
    "* ref) https://www.reddit.com/r/MachineLearning/comments/29uwi1/why_are_extremely_randomized_trees_more_efficient/  \n",
    "* ref) http://www.montefiore.ulg.ac.be/~ernst/uploads/news/id63/extremely-randomized-trees.pdf.  \n",
    "\n",
    "위의 사항들을 참고를 하면, 일반적인 RF 보다는 내부적으로 ensemble을 이용하여 보다  스무스하게 처리를 하는 Extra Trees Classifie  가 보다 조금 더 성능이 좋은 것을 나타내고 있다!!!"
   ]
  },
  {
   "cell_type": "markdown",
   "metadata": {},
   "source": [
    "### 그럼 Regression 에서는?"
   ]
  },
  {
   "cell_type": "markdown",
   "metadata": {},
   "source": [
    ">- 평균!!!"
   ]
  },
  {
   "cell_type": "markdown",
   "metadata": {
    "ExecuteTime": {
     "end_time": "2020-07-19T19:17:57.864957Z",
     "start_time": "2020-07-19T19:17:57.861308Z"
    }
   },
   "source": [
    ">- 회귀\n",
    "<img src=\"img/06.png\">\n",
    ">- 분류\n",
    "<img src=\"img/07.png\">\n"
   ]
  },
  {
   "cell_type": "markdown",
   "metadata": {},
   "source": [
    "### Scikit Learn에서 활용법 :아래는 4가지 경우에 대해서 알아본다.     \n",
    "실은 직접 만들어서 사용해도 되고, 그래야 직접 확인하기에 편하기도 함!!"
   ]
  },
  {
   "cell_type": "markdown",
   "metadata": {},
   "source": [
    ">1.Hard & 균일   \n",
    ">2.Hard & 차등   \n",
    ">3.Soft & 균일   \n",
    ">4.Soft & 차등   "
   ]
  },
  {
   "cell_type": "code",
   "execution_count": 21,
   "metadata": {
    "ExecuteTime": {
     "end_time": "2020-07-19T19:19:16.694851Z",
     "start_time": "2020-07-19T19:19:16.056012Z"
    },
    "scrolled": true
   },
   "outputs": [
    {
     "data": {
      "text/html": [
       "<div>\n",
       "<style scoped>\n",
       "    .dataframe tbody tr th:only-of-type {\n",
       "        vertical-align: middle;\n",
       "    }\n",
       "\n",
       "    .dataframe tbody tr th {\n",
       "        vertical-align: top;\n",
       "    }\n",
       "\n",
       "    .dataframe thead th {\n",
       "        text-align: right;\n",
       "    }\n",
       "</style>\n",
       "<table border=\"1\" class=\"dataframe\">\n",
       "  <thead>\n",
       "    <tr style=\"text-align: right;\">\n",
       "      <th></th>\n",
       "      <th>mean radius</th>\n",
       "      <th>mean texture</th>\n",
       "      <th>mean perimeter</th>\n",
       "      <th>mean area</th>\n",
       "      <th>mean smoothness</th>\n",
       "      <th>mean compactness</th>\n",
       "      <th>mean concavity</th>\n",
       "      <th>mean concave points</th>\n",
       "      <th>mean symmetry</th>\n",
       "      <th>mean fractal dimension</th>\n",
       "      <th>...</th>\n",
       "      <th>worst radius</th>\n",
       "      <th>worst texture</th>\n",
       "      <th>worst perimeter</th>\n",
       "      <th>worst area</th>\n",
       "      <th>worst smoothness</th>\n",
       "      <th>worst compactness</th>\n",
       "      <th>worst concavity</th>\n",
       "      <th>worst concave points</th>\n",
       "      <th>worst symmetry</th>\n",
       "      <th>worst fractal dimension</th>\n",
       "    </tr>\n",
       "  </thead>\n",
       "  <tbody>\n",
       "    <tr>\n",
       "      <th>0</th>\n",
       "      <td>17.99</td>\n",
       "      <td>10.38</td>\n",
       "      <td>122.8</td>\n",
       "      <td>1001.0</td>\n",
       "      <td>0.11840</td>\n",
       "      <td>0.27760</td>\n",
       "      <td>0.3001</td>\n",
       "      <td>0.14710</td>\n",
       "      <td>0.2419</td>\n",
       "      <td>0.07871</td>\n",
       "      <td>...</td>\n",
       "      <td>25.38</td>\n",
       "      <td>17.33</td>\n",
       "      <td>184.6</td>\n",
       "      <td>2019.0</td>\n",
       "      <td>0.1622</td>\n",
       "      <td>0.6656</td>\n",
       "      <td>0.7119</td>\n",
       "      <td>0.2654</td>\n",
       "      <td>0.4601</td>\n",
       "      <td>0.11890</td>\n",
       "    </tr>\n",
       "    <tr>\n",
       "      <th>1</th>\n",
       "      <td>20.57</td>\n",
       "      <td>17.77</td>\n",
       "      <td>132.9</td>\n",
       "      <td>1326.0</td>\n",
       "      <td>0.08474</td>\n",
       "      <td>0.07864</td>\n",
       "      <td>0.0869</td>\n",
       "      <td>0.07017</td>\n",
       "      <td>0.1812</td>\n",
       "      <td>0.05667</td>\n",
       "      <td>...</td>\n",
       "      <td>24.99</td>\n",
       "      <td>23.41</td>\n",
       "      <td>158.8</td>\n",
       "      <td>1956.0</td>\n",
       "      <td>0.1238</td>\n",
       "      <td>0.1866</td>\n",
       "      <td>0.2416</td>\n",
       "      <td>0.1860</td>\n",
       "      <td>0.2750</td>\n",
       "      <td>0.08902</td>\n",
       "    </tr>\n",
       "    <tr>\n",
       "      <th>2</th>\n",
       "      <td>19.69</td>\n",
       "      <td>21.25</td>\n",
       "      <td>130.0</td>\n",
       "      <td>1203.0</td>\n",
       "      <td>0.10960</td>\n",
       "      <td>0.15990</td>\n",
       "      <td>0.1974</td>\n",
       "      <td>0.12790</td>\n",
       "      <td>0.2069</td>\n",
       "      <td>0.05999</td>\n",
       "      <td>...</td>\n",
       "      <td>23.57</td>\n",
       "      <td>25.53</td>\n",
       "      <td>152.5</td>\n",
       "      <td>1709.0</td>\n",
       "      <td>0.1444</td>\n",
       "      <td>0.4245</td>\n",
       "      <td>0.4504</td>\n",
       "      <td>0.2430</td>\n",
       "      <td>0.3613</td>\n",
       "      <td>0.08758</td>\n",
       "    </tr>\n",
       "  </tbody>\n",
       "</table>\n",
       "<p>3 rows × 30 columns</p>\n",
       "</div>"
      ],
      "text/plain": [
       "   mean radius  mean texture  mean perimeter  mean area  mean smoothness  \\\n",
       "0        17.99         10.38           122.8     1001.0          0.11840   \n",
       "1        20.57         17.77           132.9     1326.0          0.08474   \n",
       "2        19.69         21.25           130.0     1203.0          0.10960   \n",
       "\n",
       "   mean compactness  mean concavity  mean concave points  mean symmetry  \\\n",
       "0           0.27760          0.3001              0.14710         0.2419   \n",
       "1           0.07864          0.0869              0.07017         0.1812   \n",
       "2           0.15990          0.1974              0.12790         0.2069   \n",
       "\n",
       "   mean fractal dimension  ...  worst radius  worst texture  worst perimeter  \\\n",
       "0                 0.07871  ...         25.38          17.33            184.6   \n",
       "1                 0.05667  ...         24.99          23.41            158.8   \n",
       "2                 0.05999  ...         23.57          25.53            152.5   \n",
       "\n",
       "   worst area  worst smoothness  worst compactness  worst concavity  \\\n",
       "0      2019.0            0.1622             0.6656           0.7119   \n",
       "1      1956.0            0.1238             0.1866           0.2416   \n",
       "2      1709.0            0.1444             0.4245           0.4504   \n",
       "\n",
       "   worst concave points  worst symmetry  worst fractal dimension  \n",
       "0                0.2654          0.4601                  0.11890  \n",
       "1                0.1860          0.2750                  0.08902  \n",
       "2                0.2430          0.3613                  0.08758  \n",
       "\n",
       "[3 rows x 30 columns]"
      ]
     },
     "execution_count": 21,
     "metadata": {},
     "output_type": "execute_result"
    }
   ],
   "source": [
    "import pandas as pd\n",
    "\n",
    "from sklearn.ensemble import VotingClassifier\n",
    "from sklearn.linear_model import LogisticRegression\n",
    "from sklearn.neighbors import KNeighborsClassifier\n",
    "from sklearn.datasets import load_breast_cancer\n",
    "from sklearn.model_selection import train_test_split\n",
    "from sklearn.metrics import accuracy_score\n",
    "\n",
    "cancer = load_breast_cancer()\n",
    "\n",
    "data_df = pd.DataFrame(cancer.data, columns=cancer.feature_names)\n",
    "data_df.head(3)"
   ]
  },
  {
   "cell_type": "markdown",
   "metadata": {},
   "source": [
    "#### Hard & 균일"
   ]
  },
  {
   "cell_type": "code",
   "execution_count": 22,
   "metadata": {
    "ExecuteTime": {
     "end_time": "2020-07-19T19:25:42.708274Z",
     "start_time": "2020-07-19T19:25:41.773357Z"
    }
   },
   "outputs": [
    {
     "name": "stdout",
     "output_type": "stream",
     "text": [
      "Voting 분류기 정확도: 0.9474\n",
      "LogisticRegression 정확도: 0.9649\n",
      "KNeighborsClassifier 정확도: 0.9386\n"
     ]
    }
   ],
   "source": [
    "# 개별 모델은 로지스틱 회귀와 KNN 임. \n",
    "lr_clf = LogisticRegression(max_iter=100000)\n",
    "knn_clf = KNeighborsClassifier(n_neighbors=8)\n",
    "\n",
    "# 개별 모델을 소프트 보팅 기반의 앙상블 모델로 구현한 분류기 \n",
    "vo_clf = VotingClassifier(estimators=[(\"LR\",lr_clf),(\"KNN\",knn_clf)], voting=\"hard\")\n",
    "\n",
    "X_train, X_test, y_train, y_test = train_test_split(cancer.data, \n",
    "                                                    cancer.target, \n",
    "                                                    test_size=0.2 , \n",
    "                                                    random_state= 156)\n",
    "\n",
    "# VotingClassifier 학습/예측/평가. \n",
    "vo_clf.fit(X_train,y_train)\n",
    "pred = vo_clf.predict(X_test)\n",
    "print('Voting 분류기 정확도: {0:.4f}'.format(accuracy_score(y_test,pred)))\n",
    "\n",
    "# 개별 모델의 학습/예측/평가.\n",
    "classifiers = [lr_clf, knn_clf]\n",
    "for classifier in classifiers:\n",
    "    classifier.fit(X_train , y_train)\n",
    "    pred = classifier.predict(X_test)\n",
    "    class_name= classifier.__class__.__name__\n",
    "    print('{0} 정확도: {1:.4f}'.format(class_name, accuracy_score(y_test , pred)))"
   ]
  },
  {
   "cell_type": "markdown",
   "metadata": {},
   "source": [
    "#### Hard & 차등"
   ]
  },
  {
   "cell_type": "code",
   "execution_count": 25,
   "metadata": {
    "ExecuteTime": {
     "end_time": "2020-07-19T19:26:22.069633Z",
     "start_time": "2020-07-19T19:26:21.188753Z"
    }
   },
   "outputs": [
    {
     "name": "stdout",
     "output_type": "stream",
     "text": [
      "Voting 분류기 정확도: 0.9649\n",
      "LogisticRegression 정확도: 0.9649\n",
      "KNeighborsClassifier 정확도: 0.9386\n"
     ]
    }
   ],
   "source": [
    "# 개별 모델은 로지스틱 회귀와 KNN 임. \n",
    "lr_clf = LogisticRegression(max_iter=100000)\n",
    "knn_clf = KNeighborsClassifier(n_neighbors=8)\n",
    "\n",
    "# 개별 모델을 소프트 보팅 기반의 앙상블 모델로 구현한 분류기 \n",
    "vo_clf = VotingClassifier(estimators=[(\"LR\",lr_clf),(\"KNN\",knn_clf)], voting=\"hard\", weights=[4,1])\n",
    "\n",
    "X_train, X_test, y_train, y_test = train_test_split(cancer.data, cancer.target, test_size=0.2, random_state=156)\n",
    "\n",
    "# VotingClassifier 학습/예측/평가. \n",
    "vo_clf.fit(X_train, y_train)\n",
    "pred = vo_clf.predict(X_test)\n",
    "print('Voting 분류기 정확도: {0:.4f}'.format(accuracy_score(y_test,pred)))\n",
    "\n",
    "# 개별 모델의 학습/예측/평가.\n",
    "classifiers = [lr_clf, knn_clf]\n",
    "for classifier in classifiers:\n",
    "    classifier.fit(X_train , y_train)\n",
    "    pred = classifier.predict(X_test)\n",
    "    class_name= classifier.__class__.__name__\n",
    "    print('{0} 정확도: {1:.4f}'.format(class_name, accuracy_score(y_test , pred)))"
   ]
  },
  {
   "cell_type": "markdown",
   "metadata": {},
   "source": [
    "#### Soft & 균일 "
   ]
  },
  {
   "cell_type": "code",
   "execution_count": 26,
   "metadata": {
    "ExecuteTime": {
     "end_time": "2020-07-19T19:25:57.665671Z",
     "start_time": "2020-07-19T19:25:56.749841Z"
    }
   },
   "outputs": [
    {
     "name": "stdout",
     "output_type": "stream",
     "text": [
      "Voting 분류기 정확도: 0.9474\n",
      "LogisticRegression 정확도: 0.9649\n",
      "KNeighborsClassifier 정확도: 0.9386\n"
     ]
    }
   ],
   "source": [
    "# 개별 모델은 로지스틱 회귀와 KNN 임. \n",
    "lr_clf = LogisticRegression(max_iter=100000)\n",
    "knn_clf = KNeighborsClassifier(n_neighbors=8)\n",
    "\n",
    "# 개별 모델을 소프트 보팅 기반의 앙상블 모델로 구현한 분류기 \n",
    "vo_clf = VotingClassifier(estimators=[(\"LR\",lr_clf),(\"KNN\",knn_clf)], voting=\"soft\")\n",
    "\n",
    "X_train, X_test, y_train, y_test = train_test_split(cancer.data, cancer.target, test_size=0.2, random_state=156)\n",
    "\n",
    "# VotingClassifier 학습/예측/평가. \n",
    "vo_clf.fit(X_train,y_train)\n",
    "pred = vo_clf.predict(X_test)\n",
    "print('Voting 분류기 정확도: {0:.4f}'.format(accuracy_score(y_test,pred)))\n",
    "\n",
    "# 개별 모델의 학습/예측/평가.\n",
    "classifiers = [lr_clf, knn_clf]\n",
    "for classifier in classifiers:\n",
    "    classifier.fit(X_train , y_train)\n",
    "    pred = classifier.predict(X_test)\n",
    "    class_name= classifier.__class__.__name__\n",
    "    print('{0} 정확도: {1:.4f}'.format(class_name, accuracy_score(y_test , pred)))"
   ]
  },
  {
   "cell_type": "markdown",
   "metadata": {},
   "source": [
    "#### Soft & 차등"
   ]
  },
  {
   "cell_type": "code",
   "execution_count": 28,
   "metadata": {
    "ExecuteTime": {
     "end_time": "2020-07-19T19:27:26.398664Z",
     "start_time": "2020-07-19T19:27:25.537775Z"
    }
   },
   "outputs": [
    {
     "name": "stdout",
     "output_type": "stream",
     "text": [
      "Voting 분류기 정확도: 0.9561\n",
      "LogisticRegression 정확도: 0.9649\n",
      "KNeighborsClassifier 정확도: 0.9386\n"
     ]
    }
   ],
   "source": [
    "# 개별 모델은 로지스틱 회귀와 KNN 임. \n",
    "lr_clf = LogisticRegression(max_iter=100000)\n",
    "knn_clf = KNeighborsClassifier(n_neighbors=8)\n",
    "\n",
    "# 개별 모델을 소프트 보팅 기반의 앙상블 모델로 구현한 분류기 \n",
    "vo_clf = VotingClassifier(estimators=[(\"LR\",lr_clf),(\"KNN\",knn_clf)],voting=\"soft\", weights=[4,1])\n",
    "\n",
    "X_train, X_test, y_train, y_test = train_test_split(cancer.data, cancer.target, test_size=0.2, random_state=156)\n",
    "\n",
    "# VotingClassifier 학습/예측/평가. \n",
    "vo_clf.fit(X_train,y_train)\n",
    "pred = vo_clf.predict(X_test)\n",
    "print('Voting 분류기 정확도: {0:.4f}'.format(accuracy_score(y_test,pred)))\n",
    "\n",
    "# 개별 모델의 학습/예측/평가.\n",
    "classifiers = [lr_clf, knn_clf]\n",
    "for classifier in classifiers:\n",
    "    classifier.fit(X_train , y_train)\n",
    "    pred = classifier.predict(X_test)\n",
    "    class_name= classifier.__class__.__name__\n",
    "    print('{0} 정확도: {1:.4f}'.format(class_name, accuracy_score(y_test , pred)))"
   ]
  },
  {
   "cell_type": "markdown",
   "metadata": {},
   "source": [
    "## Bagging"
   ]
  },
  {
   "cell_type": "markdown",
   "metadata": {},
   "source": [
    "### 기본 개념"
   ]
  },
  {
   "cell_type": "markdown",
   "metadata": {},
   "source": [
    "<img src=\"img/10.png\">"
   ]
  },
  {
   "cell_type": "markdown",
   "metadata": {},
   "source": [
    "<img src=\"img/11.png\">"
   ]
  },
  {
   "cell_type": "markdown",
   "metadata": {},
   "source": [
    "단일 모델의 문제점 : 높은 bias로 인한 Underfitting, 높은 variance로 인한 Overfitting --> Bagging은 일종의 중간 값으로 회귀시기는 현상이 있기 때문에 Overfitting을 줄일 수 있는 장점이 있음."
   ]
  },
  {
   "cell_type": "markdown",
   "metadata": {},
   "source": [
    "### 대표적인 Random Forest"
   ]
  },
  {
   "cell_type": "markdown",
   "metadata": {},
   "source": [
    "* 중요한 사항은 Tree에 있는 것이 아니라 Ensemble에 들어가 있다!!!\n",
    "<img src=\"img/12.png\">"
   ]
  },
  {
   "cell_type": "code",
   "execution_count": 29,
   "metadata": {
    "ExecuteTime": {
     "end_time": "2020-07-19T19:37:47.016697Z",
     "start_time": "2020-07-19T19:37:47.014150Z"
    }
   },
   "outputs": [],
   "source": [
    "import pandas as pd"
   ]
  },
  {
   "cell_type": "code",
   "execution_count": 30,
   "metadata": {
    "ExecuteTime": {
     "end_time": "2020-07-19T19:37:47.493467Z",
     "start_time": "2020-07-19T19:37:47.488873Z"
    }
   },
   "outputs": [],
   "source": [
    "def get_new_feature_name_df(old_feature_name_df):\n",
    "    feature_dup_df = pd.DataFrame(data=old_feature_name_df.groupby('column_name').cumcount(),\n",
    "                                  columns=['dup_cnt'])\n",
    "    feature_dup_df = feature_dup_df.reset_index()\n",
    "    new_feature_name_df = pd.merge(old_feature_name_df.reset_index(), feature_dup_df, how='outer')\n",
    "    new_feature_name_df['column_name'] = new_feature_name_df[['column_name', 'dup_cnt']].apply(lambda x : x[0]+'_'+str(x[1]) \n",
    "                                                                                         if x[1] >0 else x[0] ,  axis=1)\n",
    "    new_feature_name_df = new_feature_name_df.drop(['index'], axis=1)\n",
    "    return new_feature_name_df"
   ]
  },
  {
   "cell_type": "code",
   "execution_count": 32,
   "metadata": {
    "ExecuteTime": {
     "end_time": "2020-07-19T19:40:08.444985Z",
     "start_time": "2020-07-19T19:40:04.816702Z"
    }
   },
   "outputs": [],
   "source": [
    "# ????본인들 경로에 맞추어서 확인하셔야 합니다!!!!\n",
    "# ????어제 한 예제 확인...\n",
    "\n",
    "feature_name_df = pd.read_csv('UCI HAR Dataset/features.txt',sep='\\s+',\n",
    "                        header=None,names=['column_index','column_name'])\n",
    "    \n",
    "# 중복된 피처명을 수정하는 get_new_feature_name_df()를 이용, 신규 피처명 DataFrame생성. \n",
    "new_feature_name_df = get_new_feature_name_df(feature_name_df)\n",
    "    \n",
    "# DataFrame에 피처명을 컬럼으로 부여하기 위해 리스트 객체로 다시 변환\n",
    "feature_name = new_feature_name_df.iloc[:, 1].values.tolist()\n",
    "    \n",
    "# 학습 피처 데이터 셋과 테스트 피처 데이터을 DataFrame으로 로딩. 컬럼명은 feature_name 적용\n",
    "X_train = pd.read_csv('UCI HAR Dataset/train/X_train.txt',sep='\\s+', names=feature_name )\n",
    "X_test = pd.read_csv('UCI HAR Dataset/test/X_test.txt',sep='\\s+', names=feature_name)\n",
    "    \n",
    "# 학습 레이블과 테스트 레이블 데이터을 DataFrame으로 로딩하고 컬럼명은 action으로 부여\n",
    "y_train = pd.read_csv('UCI HAR Dataset/train/y_train.txt',sep='\\s+',header=None,names=['action'])\n",
    "y_test = pd.read_csv('UCI HAR Dataset/test/y_test.txt',sep='\\s+',header=None,names=['action'])\n"
   ]
  },
  {
   "cell_type": "code",
   "execution_count": 33,
   "metadata": {
    "ExecuteTime": {
     "end_time": "2020-07-19T19:40:10.913762Z",
     "start_time": "2020-07-19T19:40:10.911217Z"
    }
   },
   "outputs": [],
   "source": [
    "from sklearn.ensemble import RandomForestClassifier\n",
    "from sklearn.metrics import accuracy_score"
   ]
  },
  {
   "cell_type": "markdown",
   "metadata": {},
   "source": [
    "* 참고)   \n",
    ".values : (n,1)    \n",
    ".ravel : (n, )    \n",
    "\n",
    "아래에서 rf_clf.fit(X_train , y_train) 할 때 에러가 발생할 경우에..."
   ]
  },
  {
   "cell_type": "code",
   "execution_count": 35,
   "metadata": {},
   "outputs": [
    {
     "data": {
      "text/plain": [
       "array([5, 5, 5, ..., 2, 2, 2], dtype=int64)"
      ]
     },
     "execution_count": 35,
     "metadata": {},
     "output_type": "execute_result"
    }
   ],
   "source": [
    "#1차원으로 바꾸기\n",
    "y_train.values.ravel()"
   ]
  },
  {
   "cell_type": "code",
   "execution_count": 36,
   "metadata": {
    "ExecuteTime": {
     "end_time": "2020-07-19T19:41:31.167087Z",
     "start_time": "2020-07-19T19:41:22.902635Z"
    }
   },
   "outputs": [
    {
     "name": "stdout",
     "output_type": "stream",
     "text": [
      "랜덤 포레스트 정확도: 0.9253\n"
     ]
    }
   ],
   "source": [
    "\n",
    "# 랜덤 포레스트 학습 및 별도의 테스트 셋으로 예측 성능 평가\n",
    "rf_clf = RandomForestClassifier(random_state=0)\n",
    "rf_clf.fit(X_train,y_train.values.ravel())\n",
    "pred = rf_clf.predict(X_test)\n",
    "accuracy = accuracy_score(y_test,pred)\n",
    "print('랜덤 포레스트 정확도: {0:.4f}'.format(accuracy))"
   ]
  },
  {
   "cell_type": "markdown",
   "metadata": {},
   "source": [
    "### RF의 주요 파라미터    \n",
    "아래의 경우에는 간략하게 gridsearchcv만 수행을 하고 넘어갈 것임"
   ]
  },
  {
   "cell_type": "markdown",
   "metadata": {},
   "source": [
    ">- n_estimators : 결정 트리의 교ㅐ수를 지정. 기본은 10, 수가 클 수록 좋은 성능을 기대할 수는 있디만, 무조건 증가하면서 성능이 증가하는 것은 아님! 그리고 수행 속도가 문제가 될수 있음!!<br>\n",
    ">- max_feature : 트리를 분할하는 피처를 참조할 때 전체 피처가 아니라 sqrt 수 만큼 참조한다. 전체 피처가 16개라면 4개를 참조.<br>\n",
    ">- max_depth, min)sample_leaf 등도 앞의 DT와 동일한 기능임"
   ]
  },
  {
   "cell_type": "code",
   "execution_count": 39,
   "metadata": {
    "ExecuteTime": {
     "end_time": "2020-07-19T19:51:26.829583Z",
     "start_time": "2020-07-19T19:50:51.534510Z"
    }
   },
   "outputs": [
    {
     "name": "stdout",
     "output_type": "stream",
     "text": [
      "최적 하이퍼 파라미터:\n",
      " {'max_depth': 10, 'min_samples_leaf': 8, 'min_samples_split': 8, 'n_estimators': 100}\n",
      "최고 예측 정확도: 0.9180\n"
     ]
    }
   ],
   "source": [
    "from sklearn.model_selection import GridSearchCV\n",
    "\n",
    "params = {\n",
    "    \"n_estimators\":[100],\n",
    "    \"max_depth\":[6.8,10,12],\n",
    "    \"min_samples_leaf\":[8,12,18],\n",
    "    \"min_samples_split\":[8,16,20]\n",
    "}\n",
    "# RandomForestClassifier 객체 생성 후 GridSearchCV 수행\n",
    "rf_clf = RandomForestClassifier(random_state=0, n_jobs=-1)\n",
    "grid_cv = GridSearchCV(rf_clf, param_grid=params, cv=2, n_jobs=-1)\n",
    "grid_cv.fit(X_train,y_train.values.ravel())\n",
    "\n",
    "print('최적 하이퍼 파라미터:\\n', grid_cv.best_params_)\n",
    "print('최고 예측 정확도: {0:.4f}'.format(grid_cv.best_score_))"
   ]
  },
  {
   "cell_type": "code",
   "execution_count": 40,
   "metadata": {
    "ExecuteTime": {
     "end_time": "2020-07-19T19:52:47.128131Z",
     "start_time": "2020-07-19T19:52:27.294572Z"
    }
   },
   "outputs": [
    {
     "name": "stdout",
     "output_type": "stream",
     "text": [
      "예측 정확도: 0.9196\n"
     ]
    }
   ],
   "source": [
    "\n",
    "rf_clf1 = RandomForestClassifier(n_estimators=100, max_depth=10, min_samples_leaf=8, min_samples_split=8, random_state=0)\n",
    "        # grid_cv.best_estimator_\n",
    "rf_clf1.fit(X_train, y_train.values.ravel())\n",
    "pred = rf_clf1.predict(X_test)\n",
    "print('예측 정확도: {0:.4f}'.format(accuracy_score(y_test,pred)))"
   ]
  },
  {
   "cell_type": "code",
   "execution_count": 43,
   "metadata": {},
   "outputs": [
    {
     "data": {
      "text/plain": [
       "0.9195792331184255"
      ]
     },
     "execution_count": 43,
     "metadata": {},
     "output_type": "execute_result"
    }
   ],
   "source": [
    "rf_clf2= grid_cv.best_estimator_\n",
    "pred2=rf_clf2.predict(X_test)\n",
    "accuracy_score(y_test,pred2)"
   ]
  },
  {
   "cell_type": "markdown",
   "metadata": {},
   "source": [
    "### 변수 중요도"
   ]
  },
  {
   "cell_type": "code",
   "execution_count": 45,
   "metadata": {
    "ExecuteTime": {
     "end_time": "2020-07-19T19:52:59.162660Z",
     "start_time": "2020-07-19T19:52:58.519881Z"
    }
   },
   "outputs": [
    {
     "data": {
      "image/png": "[encoded data removed]",
      "text/plain": [
       "<Figure size 576x432 with 1 Axes>"
      ]
     },
     "metadata": {
      "needs_background": "light"
     },
     "output_type": "display_data"
    }
   ],
   "source": [
    "import matplotlib.pyplot as plt\n",
    "import seaborn as sns\n",
    "%matplotlib inline\n",
    "\n",
    "# Top 20 중요 변수 선택\n",
    "ftr_importances_values = rf_clf2.feature_importances_\n",
    "ftr_importances = pd.Series(ftr_importances_values, index=X_train.columns)\n",
    "ftr_top20 = ftr_importances.sort_values(ascending=False)[:20]\n",
    "\n",
    "plt.figure(figsize=(8,6))\n",
    "plt.title('Feature importances Top 20')\n",
    "sns.barplot(x=ftr_top20, y=ftr_top20.index)\n",
    "plt.show()"
   ]
  },
  {
   "cell_type": "markdown",
   "metadata": {},
   "source": [
    "## Boosting"
   ]
  },
  {
   "cell_type": "markdown",
   "metadata": {},
   "source": [
    ">- 기본적으로 약한 분류기들을 결합하여 강한 분류기를 만드는 과정임<br>\n",
    ">- 즉, 기본적인 것은 각자 개인이 잘하는 부분을 가지고, 한 사람이 본인이 자신이 있는 문제들만 풀면서 못 푸는 것은 다음으로 패스하는 방식으로, 최종적으로는 여러 사람이 다 잘하는 고유의 영역을 풀어서 전체 성능이 올라가는 것<br>\n",
    "예 : 수능 수학 문제를 푸는데, A는 계산을 잘하고, B는 함수를 잘 하고, C는 기하를 잘 한다고 할 때, 시험 문제지를 받아서 A가 먼저 본인이 자신이 있는 연산 문제들을 해결을 하고, B 한테 패스를 하고, B는 이를 받아서 본인이 자신이 있는 함수 단원의 문제들을 해결을 하고, C한테 넘기면, C는 본인이 자신이 있는 기하를 풀어서, 전체적으로 시험을 잘 보자는 의미!!!"
   ]
  },
  {
   "cell_type": "markdown",
   "metadata": {
    "ExecuteTime": {
     "end_time": "2020-07-19T19:59:24.238036Z",
     "start_time": "2020-07-19T19:59:24.234477Z"
    }
   },
   "source": [
    "<img src=\"img/13.png\">\n",
    "<img src=\"img/14.png\">"
   ]
  },
  {
   "cell_type": "markdown",
   "metadata": {},
   "source": [
    "### GBM : Gradient Boosting Machine"
   ]
  },
  {
   "cell_type": "markdown",
   "metadata": {},
   "source": [
    "* 참고로 이 GBM은 병렬지원이 불가능 하다;;;속도가;;;ㅠ --> 그래서 xgboost가 대박남!!!  ---> 그래서 GBM은 잘 안사용하고,,,,xgboost로 그냥 넘어간다;;;  --> 기본적으로 느린데;;;거기에 HyperParameter 튜닝은 어찌;;;;ㅠㅠ"
   ]
  },
  {
   "cell_type": "code",
   "execution_count": 48,
   "metadata": {
    "ExecuteTime": {
     "end_time": "2020-07-19T20:23:36.345587Z",
     "start_time": "2020-07-19T20:14:02.568505Z"
    }
   },
   "outputs": [
    {
     "name": "stdout",
     "output_type": "stream",
     "text": [
      "GBM 정확도: 0.9382\n",
      "GBM 수행 시간: 455.4 초 \n"
     ]
    }
   ],
   "source": [
    "from sklearn.ensemble import GradientBoostingClassifier\n",
    "import time\n",
    "\n",
    "\n",
    "## 데이터는 아까 데이터 그대로 사용!!!!!!\n",
    "\n",
    "\n",
    "\n",
    "# GBM 수행 시간 측정을 위함. 시작 시간 설정.\n",
    "start_time = time.time()\n",
    "\n",
    "\n",
    "gb_clf = GradientBoostingClassifier(random_state=0)\n",
    "gb_clf.fit(X_train, y_train.values.ravel())\n",
    "gb_pred = gb_clf.predict(X_test)\n",
    "gb_accuracy = accuracy_score(y_test, gb_pred)\n",
    "\n",
    "print('GBM 정확도: {0:.4f}'.format(gb_accuracy))\n",
    "print(\"GBM 수행 시간: {0:.1f} 초 \".format(time.time() - start_time))"
   ]
  },
  {
   "cell_type": "markdown",
   "metadata": {},
   "source": [
    "* 어차피 잘 사용하지 않기에....아래는 그냥 PASS"
   ]
  },
  {
   "cell_type": "code",
   "execution_count": null,
   "metadata": {},
   "outputs": [],
   "source": [
    "????\n",
    "from sklearn.model_selection import GridSearchCV\n",
    "\n",
    "params = {\n",
    "    'n_estimators':[100, 500],\n",
    "    'learning_rate' : [ 0.05, 0.1]\n",
    "}\n",
    "grid_cv = GridSearchCV(gb_clf , param_grid=params , cv=2 ,verbose=1)\n",
    "grid_cv.fit(X_train , y_train.values.ravel())\n",
    "print('최적 하이퍼 파라미터:\\n', grid_cv.best_params_)\n",
    "print('최고 예측 정확도: {0:.4f}'.format(grid_cv.best_score_))\n",
    "\n",
    "# GridSearchCV를 이용하여 최적으로 학습된 estimator로 predict 수행. \n",
    "gb_pred = grid_cv.best_estimator_.predict(X_test)\n",
    "gb_accuracy = accuracy_score(y_test, gb_pred)\n",
    "print('GBM 정확도: {0:.4f}'.format(gb_accuracy))\n"
   ]
  },
  {
   "cell_type": "markdown",
   "metadata": {},
   "source": [
    "### XGBoost"
   ]
  },
  {
   "cell_type": "markdown",
   "metadata": {},
   "source": [
    ">- 설치 : 윈도우 터미널(관리자 권한으로)   \n",
    "> >conda install -c anaconda py-xgboost   "
   ]
  },
  {
   "cell_type": "code",
   "execution_count": 1,
   "metadata": {
    "ExecuteTime": {
     "end_time": "2020-07-19T20:27:54.545160Z",
     "start_time": "2020-07-19T20:27:53.671811Z"
    }
   },
   "outputs": [
    {
     "name": "stdout",
     "output_type": "stream",
     "text": [
      "0.90\n"
     ]
    }
   ],
   "source": [
    "import xgboost\n",
    "\n",
    "print(xgboost.__version__)"
   ]
  },
  {
   "cell_type": "markdown",
   "metadata": {},
   "source": [
    "#### 특징"
   ]
  },
  {
   "cell_type": "markdown",
   "metadata": {},
   "source": [
    "<img src=\"img/15.png\">"
   ]
  },
  {
   "cell_type": "markdown",
   "metadata": {},
   "source": [
    "#### 주요 파라미터"
   ]
  },
  {
   "cell_type": "markdown",
   "metadata": {},
   "source": [
    ">- 일반파라미터 : 구동 시 관련 시스템 설정 관련 -> 거의 변경하지 않음;;<br>\n",
    ">- 부스터 파라미터 : 트리 최적화, 부스팅, 제약 등 파라미터 설정<br>\n",
    ">- 학습 테스크 관련 파라미터 : 학습 수행 시의 객체 함수, 평가를 위한 지표 등 설정<br>"
   ]
  },
  {
   "cell_type": "markdown",
   "metadata": {},
   "source": [
    "> **일반파라미터**<br>\n",
    ">- booster : gbtree가 기본, gblinear 등이 있음<br>\n",
    ">- silent : 0이 기본값, 출력 메시지를 나타내고 싶지 않을 때 1로 설정<br>\n",
    ">- nthread : CPU의 실행 스레드를 조정한다. 기본값은 전체 다 사용!!!"
   ]
  },
  {
   "cell_type": "markdown",
   "metadata": {},
   "source": [
    "> **주요 부스터 파라미터**<br>\n",
    ">- eta / learning_rate : GBM의 학습률 관련 파라미터 0 ~ 1사이의 값 지정, 기본값은 0.3임. 보통은 0.01 ~ 0.2 정도를 선호한다고는 함;;<br>\n",
    ">- num_boost_rounds : GBM의 n_estimator와 같은 파라미터. 즉, 약분류기의 개수에 해당하는 것<br>\n",
    ">- min_child_weight : 기본1, 트리에서 추가적으로 가지를 나눌지를 결정하기 위한 필요한 데이터들의 weight총합. 이 값이 클수록 분할을 자제한다... overfitting을 조절하기 위해서 사용을 함!!!!!!<br>\n",
    ">- gamma / min_split_loss : 기본0. 트리의 리프 노드를 추가적으로 나눌지를 결정할 최소 손실 감소 값임. 해당 값 보다 큰 손실이 감소되는 경우에 리프 노드를 분리한다. 값이 클 수록 overfitting을 줄이는 효과가 있음!!!<br>\n",
    ">- max_depth : 기본 6. 앞에서와 같음.이 값이 높으면, overfitting의 위험성이 있음. 보통은 3~10으로 사용을 하기는 함.....<br>\n",
    ">- sub_sample : 기본값1. GBM의 subsample과 동일.과적합을 피하기 위해서 전체 데이터를 다 사용하지 않고, 특정 비율의 데이터만 사용하고자 할 때 비율지정. 일반적으로 0.5~1사이의 값을 사용<br>\n",
    ">- colsample_bytree : GBM의 Max_feature와 유사함. 기본값은 1. 트리 생성에 필요한 컬럼을 임의로 샘플링 하는데 사용됨. 매우 많은 피처가 있는 경우 overfitting을 조절하기 위해서 사용함.<br>\n",
    ">- lambda : L2 규제를 적용감. 피처의 수가 많을 경우 적용을 검토하여 값이 클수록 overfitting 감소 효과가 있다.<br>\n",
    ">- alpha : L1 규제 적용. 위와 유사<br>\n",
    ">- scale_pos_weight : 특정 값으로 치우친 비대칭한 클래스로 구성된 세트의 균형을 유지하기 위한 파라미터. 기본값은 1/\n"
   ]
  },
  {
   "cell_type": "markdown",
   "metadata": {},
   "source": [
    "> **학습 테스크 파라미터**<br>\n",
    ">- object : 최소값을 가져야 할 손실함수를 정의한다. xgboost는 많은 손실함수를 사용할 수 있음.<br>\n",
    ">- binary:logistic : 이진분류에서 사용 <br>\n",
    ">- multi:sofrmax : 다중 분류일 때 적용<br>\n",
    ">- multi:softprob : softmax와 유사하나 확률로 br>\n",
    ">- eval_metric  : 회귀 - rmse, 분류 - error <br>\n",
    "    rmse, mae, logloss, error, merror, mlogloss, auc\n"
   ]
  },
  {
   "cell_type": "markdown",
   "metadata": {},
   "source": [
    "> **Overfitting 일 때..**<br>\n",
    ">- eta 값을 낮춘다. 그리고 이 때에는 num_round/ n_estimator의 값을 크게<br>\n",
    ">- max_depth 값 줄이기<br>\n",
    ">- min_child_weight 값을 증가 <br>\n",
    ">- gamma 값 키우기<br>\n",
    ">- subsample/colsample_bytrss 조정도 가능하기는 함.."
   ]
  },
  {
   "cell_type": "markdown",
   "metadata": {},
   "source": [
    "#### 예제 : Orginal 방식"
   ]
  },
  {
   "cell_type": "code",
   "execution_count": 2,
   "metadata": {
    "ExecuteTime": {
     "end_time": "2020-07-19T20:49:30.185900Z",
     "start_time": "2020-07-19T20:49:30.101438Z"
    }
   },
   "outputs": [
    {
     "data": {
      "text/html": [
       "<div>\n",
       "<style scoped>\n",
       "    .dataframe tbody tr th:only-of-type {\n",
       "        vertical-align: middle;\n",
       "    }\n",
       "\n",
       "    .dataframe tbody tr th {\n",
       "        vertical-align: top;\n",
       "    }\n",
       "\n",
       "    .dataframe thead th {\n",
       "        text-align: right;\n",
       "    }\n",
       "</style>\n",
       "<table border=\"1\" class=\"dataframe\">\n",
       "  <thead>\n",
       "    <tr style=\"text-align: right;\">\n",
       "      <th></th>\n",
       "      <th>mean radius</th>\n",
       "      <th>mean texture</th>\n",
       "      <th>mean perimeter</th>\n",
       "      <th>mean area</th>\n",
       "      <th>mean smoothness</th>\n",
       "      <th>mean compactness</th>\n",
       "      <th>mean concavity</th>\n",
       "      <th>mean concave points</th>\n",
       "      <th>mean symmetry</th>\n",
       "      <th>mean fractal dimension</th>\n",
       "      <th>...</th>\n",
       "      <th>worst texture</th>\n",
       "      <th>worst perimeter</th>\n",
       "      <th>worst area</th>\n",
       "      <th>worst smoothness</th>\n",
       "      <th>worst compactness</th>\n",
       "      <th>worst concavity</th>\n",
       "      <th>worst concave points</th>\n",
       "      <th>worst symmetry</th>\n",
       "      <th>worst fractal dimension</th>\n",
       "      <th>target</th>\n",
       "    </tr>\n",
       "  </thead>\n",
       "  <tbody>\n",
       "    <tr>\n",
       "      <th>0</th>\n",
       "      <td>17.99</td>\n",
       "      <td>10.38</td>\n",
       "      <td>122.8</td>\n",
       "      <td>1001.0</td>\n",
       "      <td>0.11840</td>\n",
       "      <td>0.27760</td>\n",
       "      <td>0.3001</td>\n",
       "      <td>0.14710</td>\n",
       "      <td>0.2419</td>\n",
       "      <td>0.07871</td>\n",
       "      <td>...</td>\n",
       "      <td>17.33</td>\n",
       "      <td>184.6</td>\n",
       "      <td>2019.0</td>\n",
       "      <td>0.1622</td>\n",
       "      <td>0.6656</td>\n",
       "      <td>0.7119</td>\n",
       "      <td>0.2654</td>\n",
       "      <td>0.4601</td>\n",
       "      <td>0.11890</td>\n",
       "      <td>0</td>\n",
       "    </tr>\n",
       "    <tr>\n",
       "      <th>1</th>\n",
       "      <td>20.57</td>\n",
       "      <td>17.77</td>\n",
       "      <td>132.9</td>\n",
       "      <td>1326.0</td>\n",
       "      <td>0.08474</td>\n",
       "      <td>0.07864</td>\n",
       "      <td>0.0869</td>\n",
       "      <td>0.07017</td>\n",
       "      <td>0.1812</td>\n",
       "      <td>0.05667</td>\n",
       "      <td>...</td>\n",
       "      <td>23.41</td>\n",
       "      <td>158.8</td>\n",
       "      <td>1956.0</td>\n",
       "      <td>0.1238</td>\n",
       "      <td>0.1866</td>\n",
       "      <td>0.2416</td>\n",
       "      <td>0.1860</td>\n",
       "      <td>0.2750</td>\n",
       "      <td>0.08902</td>\n",
       "      <td>0</td>\n",
       "    </tr>\n",
       "    <tr>\n",
       "      <th>2</th>\n",
       "      <td>19.69</td>\n",
       "      <td>21.25</td>\n",
       "      <td>130.0</td>\n",
       "      <td>1203.0</td>\n",
       "      <td>0.10960</td>\n",
       "      <td>0.15990</td>\n",
       "      <td>0.1974</td>\n",
       "      <td>0.12790</td>\n",
       "      <td>0.2069</td>\n",
       "      <td>0.05999</td>\n",
       "      <td>...</td>\n",
       "      <td>25.53</td>\n",
       "      <td>152.5</td>\n",
       "      <td>1709.0</td>\n",
       "      <td>0.1444</td>\n",
       "      <td>0.4245</td>\n",
       "      <td>0.4504</td>\n",
       "      <td>0.2430</td>\n",
       "      <td>0.3613</td>\n",
       "      <td>0.08758</td>\n",
       "      <td>0</td>\n",
       "    </tr>\n",
       "  </tbody>\n",
       "</table>\n",
       "<p>3 rows × 31 columns</p>\n",
       "</div>"
      ],
      "text/plain": [
       "   mean radius  mean texture  mean perimeter  mean area  mean smoothness  \\\n",
       "0        17.99         10.38           122.8     1001.0          0.11840   \n",
       "1        20.57         17.77           132.9     1326.0          0.08474   \n",
       "2        19.69         21.25           130.0     1203.0          0.10960   \n",
       "\n",
       "   mean compactness  mean concavity  mean concave points  mean symmetry  \\\n",
       "0           0.27760          0.3001              0.14710         0.2419   \n",
       "1           0.07864          0.0869              0.07017         0.1812   \n",
       "2           0.15990          0.1974              0.12790         0.2069   \n",
       "\n",
       "   mean fractal dimension  ...  worst texture  worst perimeter  worst area  \\\n",
       "0                 0.07871  ...          17.33            184.6      2019.0   \n",
       "1                 0.05667  ...          23.41            158.8      1956.0   \n",
       "2                 0.05999  ...          25.53            152.5      1709.0   \n",
       "\n",
       "   worst smoothness  worst compactness  worst concavity  worst concave points  \\\n",
       "0            0.1622             0.6656           0.7119                0.2654   \n",
       "1            0.1238             0.1866           0.2416                0.1860   \n",
       "2            0.1444             0.4245           0.4504                0.2430   \n",
       "\n",
       "   worst symmetry  worst fractal dimension  target  \n",
       "0          0.4601                  0.11890       0  \n",
       "1          0.2750                  0.08902       0  \n",
       "2          0.3613                  0.08758       0  \n",
       "\n",
       "[3 rows x 31 columns]"
      ]
     },
     "execution_count": 2,
     "metadata": {},
     "output_type": "execute_result"
    }
   ],
   "source": [
    "import xgboost as xgb\n",
    "from xgboost import plot_importance\n",
    "import pandas as pd\n",
    "import numpy as np\n",
    "from sklearn.datasets import load_breast_cancer\n",
    "from sklearn.model_selection import train_test_split\n",
    "\n",
    "\n",
    "dataset = load_breast_cancer()\n",
    "X_features= dataset.data\n",
    "y_label = dataset.target\n",
    "\n",
    "cancer_df = pd.DataFrame(data=X_features, columns=dataset.feature_names)\n",
    "cancer_df['target']= y_label\n",
    "cancer_df.head(3)"
   ]
  },
  {
   "cell_type": "code",
   "execution_count": 3,
   "metadata": {
    "ExecuteTime": {
     "end_time": "2020-07-19T20:49:37.810026Z",
     "start_time": "2020-07-19T20:49:37.805920Z"
    }
   },
   "outputs": [
    {
     "name": "stdout",
     "output_type": "stream",
     "text": [
      "['malignant' 'benign']\n",
      "1    357\n",
      "0    212\n",
      "Name: target, dtype: int64\n"
     ]
    }
   ],
   "source": [
    "print(dataset.target_names)\n",
    "print(cancer_df['target'].value_counts())"
   ]
  },
  {
   "cell_type": "code",
   "execution_count": 4,
   "metadata": {
    "ExecuteTime": {
     "end_time": "2020-07-19T20:49:45.564107Z",
     "start_time": "2020-07-19T20:49:45.558441Z"
    }
   },
   "outputs": [
    {
     "name": "stdout",
     "output_type": "stream",
     "text": [
      "(455, 30) (114, 30)\n"
     ]
    }
   ],
   "source": [
    "# 전체 데이터 중 80%는 학습용 데이터, 20%는 테스트용 데이터 추출\n",
    "X_train, X_test, y_train, y_test=train_test_split(X_features, y_label,\n",
    "                                         test_size=0.2, random_state=156 )\n",
    "print(X_train.shape , X_test.shape)"
   ]
  },
  {
   "cell_type": "code",
   "execution_count": 5,
   "metadata": {
    "ExecuteTime": {
     "end_time": "2020-07-19T20:49:52.344093Z",
     "start_time": "2020-07-19T20:49:52.340403Z"
    }
   },
   "outputs": [],
   "source": [
    "dtrain = xgb.DMatrix(data=X_train , label=y_train)\n",
    "dtest = xgb.DMatrix(data=X_test , label=y_test)"
   ]
  },
  {
   "cell_type": "code",
   "execution_count": 6,
   "metadata": {
    "ExecuteTime": {
     "end_time": "2020-07-19T20:51:11.600832Z",
     "start_time": "2020-07-19T20:51:11.597735Z"
    }
   },
   "outputs": [],
   "source": [
    "params = { 'max_depth':3,\n",
    "           'eta': 0.1,\n",
    "           'objective':'binary:logistic',\n",
    "           'eval_metric':'logloss'\n",
    "        }\n",
    "num_rounds = 400"
   ]
  },
  {
   "cell_type": "code",
   "execution_count": 7,
   "metadata": {
    "ExecuteTime": {
     "end_time": "2020-07-19T20:51:53.249974Z",
     "start_time": "2020-07-19T20:51:52.584035Z"
    }
   },
   "outputs": [
    {
     "name": "stdout",
     "output_type": "stream",
     "text": [
      "[0]\ttrain-logloss:0.609688\teval-logloss:0.61352\n",
      "Multiple eval metrics have been passed: 'eval-logloss' will be used for early stopping.\n",
      "\n",
      "Will train until eval-logloss hasn't improved in 100 rounds.\n",
      "[1]\ttrain-logloss:0.540803\teval-logloss:0.547842\n",
      "[2]\ttrain-logloss:0.483753\teval-logloss:0.494248\n",
      "[3]\ttrain-logloss:0.434457\teval-logloss:0.447986\n",
      "[4]\ttrain-logloss:0.39055\teval-logloss:0.409109\n",
      "[5]\ttrain-logloss:0.354145\teval-logloss:0.374977\n",
      "[6]\ttrain-logloss:0.321221\teval-logloss:0.345714\n",
      "[7]\ttrain-logloss:0.292592\teval-logloss:0.320529\n",
      "[8]\ttrain-logloss:0.267467\teval-logloss:0.29721\n",
      "[9]\ttrain-logloss:0.245153\teval-logloss:0.277991\n",
      "[10]\ttrain-logloss:0.225694\teval-logloss:0.260302\n",
      "[11]\ttrain-logloss:0.207937\teval-logloss:0.246037\n",
      "[12]\ttrain-logloss:0.192184\teval-logloss:0.231556\n",
      "[13]\ttrain-logloss:0.177916\teval-logloss:0.22005\n",
      "[14]\ttrain-logloss:0.165222\teval-logloss:0.208572\n",
      "[15]\ttrain-logloss:0.153622\teval-logloss:0.199993\n",
      "[16]\ttrain-logloss:0.14333\teval-logloss:0.190118\n",
      "[17]\ttrain-logloss:0.133985\teval-logloss:0.181818\n",
      "[18]\ttrain-logloss:0.125599\teval-logloss:0.174729\n",
      "[19]\ttrain-logloss:0.117286\teval-logloss:0.167657\n",
      "[20]\ttrain-logloss:0.109688\teval-logloss:0.158202\n",
      "[21]\ttrain-logloss:0.102975\teval-logloss:0.154725\n",
      "[22]\ttrain-logloss:0.097067\teval-logloss:0.148947\n",
      "[23]\ttrain-logloss:0.091428\teval-logloss:0.143308\n",
      "[24]\ttrain-logloss:0.086335\teval-logloss:0.136344\n",
      "[25]\ttrain-logloss:0.081311\teval-logloss:0.132778\n",
      "[26]\ttrain-logloss:0.076857\teval-logloss:0.127912\n",
      "[27]\ttrain-logloss:0.072836\teval-logloss:0.125263\n",
      "[28]\ttrain-logloss:0.069248\teval-logloss:0.119978\n",
      "[29]\ttrain-logloss:0.065549\teval-logloss:0.116412\n",
      "[30]\ttrain-logloss:0.062414\teval-logloss:0.114502\n",
      "[31]\ttrain-logloss:0.059591\teval-logloss:0.112572\n",
      "[32]\ttrain-logloss:0.057096\teval-logloss:0.11154\n",
      "[33]\ttrain-logloss:0.054407\teval-logloss:0.108681\n",
      "[34]\ttrain-logloss:0.052036\teval-logloss:0.106681\n",
      "[35]\ttrain-logloss:0.049751\teval-logloss:0.104207\n",
      "[36]\ttrain-logloss:0.04775\teval-logloss:0.102962\n",
      "[37]\ttrain-logloss:0.045853\teval-logloss:0.100576\n",
      "[38]\ttrain-logloss:0.044015\teval-logloss:0.098683\n",
      "[39]\ttrain-logloss:0.042263\teval-logloss:0.096444\n",
      "[40]\ttrain-logloss:0.040649\teval-logloss:0.095869\n",
      "[41]\ttrain-logloss:0.039126\teval-logloss:0.094242\n",
      "[42]\ttrain-logloss:0.037377\teval-logloss:0.094715\n",
      "[43]\ttrain-logloss:0.036106\teval-logloss:0.094272\n",
      "[44]\ttrain-logloss:0.034941\teval-logloss:0.093894\n",
      "[45]\ttrain-logloss:0.033654\teval-logloss:0.094184\n",
      "[46]\ttrain-logloss:0.032528\teval-logloss:0.09402\n",
      "[47]\ttrain-logloss:0.031485\teval-logloss:0.09236\n",
      "[48]\ttrain-logloss:0.030389\teval-logloss:0.093012\n",
      "[49]\ttrain-logloss:0.029467\teval-logloss:0.091273\n",
      "[50]\ttrain-logloss:0.028545\teval-logloss:0.090051\n",
      "[51]\ttrain-logloss:0.027525\teval-logloss:0.089605\n",
      "[52]\ttrain-logloss:0.026555\teval-logloss:0.089577\n",
      "[53]\ttrain-logloss:0.025682\teval-logloss:0.090703\n",
      "[54]\ttrain-logloss:0.025004\teval-logloss:0.089579\n",
      "[55]\ttrain-logloss:0.024297\teval-logloss:0.090357\n",
      "[56]\ttrain-logloss:0.023574\teval-logloss:0.091587\n",
      "[57]\ttrain-logloss:0.022965\teval-logloss:0.091527\n",
      "[58]\ttrain-logloss:0.022488\teval-logloss:0.091986\n",
      "[59]\ttrain-logloss:0.021854\teval-logloss:0.091951\n",
      "[60]\ttrain-logloss:0.021316\teval-logloss:0.091939\n",
      "[61]\ttrain-logloss:0.020794\teval-logloss:0.091461\n",
      "[62]\ttrain-logloss:0.020218\teval-logloss:0.090311\n",
      "[63]\ttrain-logloss:0.019701\teval-logloss:0.089407\n",
      "[64]\ttrain-logloss:0.01918\teval-logloss:0.089719\n",
      "[65]\ttrain-logloss:0.018724\teval-logloss:0.089743\n",
      "[66]\ttrain-logloss:0.018325\teval-logloss:0.089622\n",
      "[67]\ttrain-logloss:0.017867\teval-logloss:0.088734\n",
      "[68]\ttrain-logloss:0.017598\teval-logloss:0.088621\n",
      "[69]\ttrain-logloss:0.017243\teval-logloss:0.089739\n",
      "[70]\ttrain-logloss:0.01688\teval-logloss:0.089981\n",
      "[71]\ttrain-logloss:0.016641\teval-logloss:0.089782\n",
      "[72]\ttrain-logloss:0.016287\teval-logloss:0.089584\n",
      "[73]\ttrain-logloss:0.015983\teval-logloss:0.089533\n",
      "[74]\ttrain-logloss:0.015658\teval-logloss:0.088748\n",
      "[75]\ttrain-logloss:0.015393\teval-logloss:0.088597\n",
      "[76]\ttrain-logloss:0.015151\teval-logloss:0.08812\n",
      "[77]\ttrain-logloss:0.01488\teval-logloss:0.088396\n",
      "[78]\ttrain-logloss:0.014637\teval-logloss:0.088736\n",
      "[79]\ttrain-logloss:0.014491\teval-logloss:0.088153\n",
      "[80]\ttrain-logloss:0.014185\teval-logloss:0.087577\n",
      "[81]\ttrain-logloss:0.014005\teval-logloss:0.087412\n",
      "[82]\ttrain-logloss:0.013772\teval-logloss:0.08849\n",
      "[83]\ttrain-logloss:0.013568\teval-logloss:0.088575\n",
      "[84]\ttrain-logloss:0.013414\teval-logloss:0.08807\n",
      "[85]\ttrain-logloss:0.013253\teval-logloss:0.087641\n",
      "[86]\ttrain-logloss:0.013109\teval-logloss:0.087416\n",
      "[87]\ttrain-logloss:0.012926\teval-logloss:0.087611\n",
      "[88]\ttrain-logloss:0.012714\teval-logloss:0.087065\n",
      "[89]\ttrain-logloss:0.012544\teval-logloss:0.08727\n",
      "[90]\ttrain-logloss:0.012353\teval-logloss:0.087161\n",
      "[91]\ttrain-logloss:0.012226\teval-logloss:0.086962\n",
      "[92]\ttrain-logloss:0.012065\teval-logloss:0.087166\n",
      "[93]\ttrain-logloss:0.011927\teval-logloss:0.087067\n",
      "[94]\ttrain-logloss:0.011821\teval-logloss:0.086592\n",
      "[95]\ttrain-logloss:0.011649\teval-logloss:0.086116\n",
      "[96]\ttrain-logloss:0.011482\teval-logloss:0.087139\n",
      "[97]\ttrain-logloss:0.01136\teval-logloss:0.086768\n",
      "[98]\ttrain-logloss:0.011239\teval-logloss:0.086694\n",
      "[99]\ttrain-logloss:0.011132\teval-logloss:0.086547\n",
      "[100]\ttrain-logloss:0.011002\teval-logloss:0.086498\n",
      "[101]\ttrain-logloss:0.010852\teval-logloss:0.08641\n",
      "[102]\ttrain-logloss:0.010755\teval-logloss:0.086288\n",
      "[103]\ttrain-logloss:0.010636\teval-logloss:0.086258\n",
      "[104]\ttrain-logloss:0.0105\teval-logloss:0.086835\n",
      "[105]\ttrain-logloss:0.010395\teval-logloss:0.086767\n",
      "[106]\ttrain-logloss:0.010305\teval-logloss:0.087321\n",
      "[107]\ttrain-logloss:0.010197\teval-logloss:0.087304\n",
      "[108]\ttrain-logloss:0.010072\teval-logloss:0.08728\n",
      "[109]\ttrain-logloss:0.01\teval-logloss:0.087298\n",
      "[110]\ttrain-logloss:0.009914\teval-logloss:0.087289\n",
      "[111]\ttrain-logloss:0.009798\teval-logloss:0.088002\n",
      "[112]\ttrain-logloss:0.00971\teval-logloss:0.087936\n",
      "[113]\ttrain-logloss:0.009628\teval-logloss:0.087843\n",
      "[114]\ttrain-logloss:0.009558\teval-logloss:0.088066\n",
      "[115]\ttrain-logloss:0.009483\teval-logloss:0.087649\n",
      "[116]\ttrain-logloss:0.009416\teval-logloss:0.087298\n",
      "[117]\ttrain-logloss:0.009306\teval-logloss:0.087799\n",
      "[118]\ttrain-logloss:0.009228\teval-logloss:0.087751\n",
      "[119]\ttrain-logloss:0.009154\teval-logloss:0.08768\n",
      "[120]\ttrain-logloss:0.009118\teval-logloss:0.087626\n",
      "[121]\ttrain-logloss:0.009016\teval-logloss:0.08757\n",
      "[122]\ttrain-logloss:0.008972\teval-logloss:0.087547\n",
      "[123]\ttrain-logloss:0.008904\teval-logloss:0.087156\n",
      "[124]\ttrain-logloss:0.008837\teval-logloss:0.08767\n",
      "[125]\ttrain-logloss:0.008803\teval-logloss:0.087737\n",
      "[126]\ttrain-logloss:0.008709\teval-logloss:0.088275\n",
      "[127]\ttrain-logloss:0.008645\teval-logloss:0.088309\n",
      "[128]\ttrain-logloss:0.008613\teval-logloss:0.088266\n",
      "[129]\ttrain-logloss:0.008555\teval-logloss:0.087886\n",
      "[130]\ttrain-logloss:0.008463\teval-logloss:0.088861\n",
      "[131]\ttrain-logloss:0.008416\teval-logloss:0.088675\n",
      "[132]\ttrain-logloss:0.008385\teval-logloss:0.088743\n",
      "[133]\ttrain-logloss:0.0083\teval-logloss:0.089218\n",
      "[134]\ttrain-logloss:0.00827\teval-logloss:0.089179\n",
      "[135]\ttrain-logloss:0.008218\teval-logloss:0.088821\n",
      "[136]\ttrain-logloss:0.008157\teval-logloss:0.088512\n",
      "[137]\ttrain-logloss:0.008076\teval-logloss:0.08848\n",
      "[138]\ttrain-logloss:0.008047\teval-logloss:0.088386\n",
      "[139]\ttrain-logloss:0.007973\teval-logloss:0.089145\n",
      "[140]\ttrain-logloss:0.007946\teval-logloss:0.08911\n",
      "[141]\ttrain-logloss:0.007898\teval-logloss:0.088765\n",
      "[142]\ttrain-logloss:0.007872\teval-logloss:0.088678\n",
      "[143]\ttrain-logloss:0.007847\teval-logloss:0.088389\n",
      "[144]\ttrain-logloss:0.007776\teval-logloss:0.089271\n",
      "[145]\ttrain-logloss:0.007752\teval-logloss:0.089238\n",
      "[146]\ttrain-logloss:0.007728\teval-logloss:0.089139\n",
      "[147]\ttrain-logloss:0.007689\teval-logloss:0.088907\n",
      "[148]\ttrain-logloss:0.007621\teval-logloss:0.089416\n",
      "[149]\ttrain-logloss:0.007598\teval-logloss:0.089388\n",
      "[150]\ttrain-logloss:0.007575\teval-logloss:0.089108\n",
      "[151]\ttrain-logloss:0.007521\teval-logloss:0.088735\n",
      "[152]\ttrain-logloss:0.007498\teval-logloss:0.088717\n",
      "[153]\ttrain-logloss:0.007464\teval-logloss:0.088484\n",
      "[154]\ttrain-logloss:0.00741\teval-logloss:0.088471\n",
      "[155]\ttrain-logloss:0.007389\teval-logloss:0.088545\n",
      "[156]\ttrain-logloss:0.007367\teval-logloss:0.088521\n",
      "[157]\ttrain-logloss:0.007345\teval-logloss:0.088547\n",
      "[158]\ttrain-logloss:0.007323\teval-logloss:0.088275\n",
      "[159]\ttrain-logloss:0.007303\teval-logloss:0.0883\n",
      "[160]\ttrain-logloss:0.007282\teval-logloss:0.08828\n"
     ]
    },
    {
     "name": "stdout",
     "output_type": "stream",
     "text": [
      "[161]\ttrain-logloss:0.007261\teval-logloss:0.088013\n",
      "[162]\ttrain-logloss:0.007241\teval-logloss:0.087758\n",
      "[163]\ttrain-logloss:0.007221\teval-logloss:0.087784\n",
      "[164]\ttrain-logloss:0.0072\teval-logloss:0.087777\n",
      "[165]\ttrain-logloss:0.00718\teval-logloss:0.087517\n",
      "[166]\ttrain-logloss:0.007161\teval-logloss:0.087542\n",
      "[167]\ttrain-logloss:0.007142\teval-logloss:0.087642\n",
      "[168]\ttrain-logloss:0.007122\teval-logloss:0.08739\n",
      "[169]\ttrain-logloss:0.007103\teval-logloss:0.087377\n",
      "[170]\ttrain-logloss:0.007084\teval-logloss:0.087298\n",
      "[171]\ttrain-logloss:0.007065\teval-logloss:0.087368\n",
      "[172]\ttrain-logloss:0.007047\teval-logloss:0.087395\n",
      "[173]\ttrain-logloss:0.007028\teval-logloss:0.087385\n",
      "[174]\ttrain-logloss:0.007009\teval-logloss:0.087132\n",
      "[175]\ttrain-logloss:0.006991\teval-logloss:0.087159\n",
      "[176]\ttrain-logloss:0.006973\teval-logloss:0.086955\n",
      "[177]\ttrain-logloss:0.006955\teval-logloss:0.087053\n",
      "[178]\ttrain-logloss:0.006937\teval-logloss:0.08697\n",
      "[179]\ttrain-logloss:0.00692\teval-logloss:0.086973\n",
      "[180]\ttrain-logloss:0.006901\teval-logloss:0.087038\n",
      "[181]\ttrain-logloss:0.006884\teval-logloss:0.086799\n",
      "[182]\ttrain-logloss:0.006866\teval-logloss:0.086826\n",
      "[183]\ttrain-logloss:0.006849\teval-logloss:0.086582\n",
      "[184]\ttrain-logloss:0.006831\teval-logloss:0.086588\n",
      "[185]\ttrain-logloss:0.006815\teval-logloss:0.086614\n",
      "[186]\ttrain-logloss:0.006798\teval-logloss:0.086372\n",
      "[187]\ttrain-logloss:0.006781\teval-logloss:0.086369\n",
      "[188]\ttrain-logloss:0.006764\teval-logloss:0.086297\n",
      "[189]\ttrain-logloss:0.006747\teval-logloss:0.086104\n",
      "[190]\ttrain-logloss:0.00673\teval-logloss:0.086023\n",
      "[191]\ttrain-logloss:0.006714\teval-logloss:0.08605\n",
      "[192]\ttrain-logloss:0.006698\teval-logloss:0.086149\n",
      "[193]\ttrain-logloss:0.006682\teval-logloss:0.085916\n",
      "[194]\ttrain-logloss:0.006666\teval-logloss:0.085915\n",
      "[195]\ttrain-logloss:0.00665\teval-logloss:0.085984\n",
      "[196]\ttrain-logloss:0.006634\teval-logloss:0.086012\n",
      "[197]\ttrain-logloss:0.006618\teval-logloss:0.085922\n",
      "[198]\ttrain-logloss:0.006603\teval-logloss:0.085853\n",
      "[199]\ttrain-logloss:0.006587\teval-logloss:0.085874\n",
      "[200]\ttrain-logloss:0.006572\teval-logloss:0.085888\n",
      "[201]\ttrain-logloss:0.006556\teval-logloss:0.08595\n",
      "[202]\ttrain-logloss:0.006542\teval-logloss:0.08573\n",
      "[203]\ttrain-logloss:0.006527\teval-logloss:0.08573\n",
      "[204]\ttrain-logloss:0.006512\teval-logloss:0.085753\n",
      "[205]\ttrain-logloss:0.006497\teval-logloss:0.085821\n",
      "[206]\ttrain-logloss:0.006483\teval-logloss:0.08584\n",
      "[207]\ttrain-logloss:0.006469\teval-logloss:0.085776\n",
      "[208]\ttrain-logloss:0.006455\teval-logloss:0.085686\n",
      "[209]\ttrain-logloss:0.00644\teval-logloss:0.08571\n",
      "[210]\ttrain-logloss:0.006427\teval-logloss:0.085806\n",
      "[211]\ttrain-logloss:0.006413\teval-logloss:0.085593\n",
      "[212]\ttrain-logloss:0.006399\teval-logloss:0.085801\n",
      "[213]\ttrain-logloss:0.006385\teval-logloss:0.085807\n",
      "[214]\ttrain-logloss:0.006372\teval-logloss:0.085744\n",
      "[215]\ttrain-logloss:0.006359\teval-logloss:0.085658\n",
      "[216]\ttrain-logloss:0.006345\teval-logloss:0.085843\n",
      "[217]\ttrain-logloss:0.006332\teval-logloss:0.085632\n",
      "[218]\ttrain-logloss:0.006319\teval-logloss:0.085726\n",
      "[219]\ttrain-logloss:0.006306\teval-logloss:0.085783\n",
      "[220]\ttrain-logloss:0.006293\teval-logloss:0.085791\n",
      "[221]\ttrain-logloss:0.00628\teval-logloss:0.085817\n",
      "[222]\ttrain-logloss:0.006268\teval-logloss:0.085757\n",
      "[223]\ttrain-logloss:0.006255\teval-logloss:0.085674\n",
      "[224]\ttrain-logloss:0.006242\teval-logloss:0.08586\n",
      "[225]\ttrain-logloss:0.00623\teval-logloss:0.085871\n",
      "[226]\ttrain-logloss:0.006218\teval-logloss:0.085927\n",
      "[227]\ttrain-logloss:0.006206\teval-logloss:0.085954\n",
      "[228]\ttrain-logloss:0.006194\teval-logloss:0.085874\n",
      "[229]\ttrain-logloss:0.006182\teval-logloss:0.086057\n",
      "[230]\ttrain-logloss:0.00617\teval-logloss:0.086002\n",
      "[231]\ttrain-logloss:0.006158\teval-logloss:0.085922\n",
      "[232]\ttrain-logloss:0.006147\teval-logloss:0.086102\n",
      "[233]\ttrain-logloss:0.006135\teval-logloss:0.086115\n",
      "[234]\ttrain-logloss:0.006124\teval-logloss:0.086169\n",
      "[235]\ttrain-logloss:0.006112\teval-logloss:0.086263\n",
      "[236]\ttrain-logloss:0.006101\teval-logloss:0.086291\n",
      "[237]\ttrain-logloss:0.00609\teval-logloss:0.086217\n",
      "[238]\ttrain-logloss:0.006079\teval-logloss:0.086395\n",
      "[239]\ttrain-logloss:0.006068\teval-logloss:0.086342\n",
      "[240]\ttrain-logloss:0.006057\teval-logloss:0.08618\n",
      "[241]\ttrain-logloss:0.006046\teval-logloss:0.086195\n",
      "[242]\ttrain-logloss:0.006036\teval-logloss:0.086248\n",
      "[243]\ttrain-logloss:0.006025\teval-logloss:0.086263\n",
      "[244]\ttrain-logloss:0.006014\teval-logloss:0.086293\n",
      "[245]\ttrain-logloss:0.006004\teval-logloss:0.086222\n",
      "[246]\ttrain-logloss:0.005993\teval-logloss:0.086398\n",
      "[247]\ttrain-logloss:0.005983\teval-logloss:0.086347\n",
      "[248]\ttrain-logloss:0.005972\teval-logloss:0.086276\n",
      "[249]\ttrain-logloss:0.005962\teval-logloss:0.086448\n",
      "[250]\ttrain-logloss:0.005952\teval-logloss:0.086294\n",
      "[251]\ttrain-logloss:0.005942\teval-logloss:0.086312\n",
      "[252]\ttrain-logloss:0.005932\teval-logloss:0.086364\n",
      "[253]\ttrain-logloss:0.005922\teval-logloss:0.086394\n",
      "[254]\ttrain-logloss:0.005912\teval-logloss:0.08649\n",
      "[255]\ttrain-logloss:0.005903\teval-logloss:0.086441\n",
      "[256]\ttrain-logloss:0.005893\teval-logloss:0.08629\n",
      "[257]\ttrain-logloss:0.005883\teval-logloss:0.086459\n",
      "[258]\ttrain-logloss:0.005874\teval-logloss:0.086391\n",
      "[259]\ttrain-logloss:0.005864\teval-logloss:0.086441\n",
      "[260]\ttrain-logloss:0.005855\teval-logloss:0.086461\n",
      "[261]\ttrain-logloss:0.005845\teval-logloss:0.086491\n",
      "[262]\ttrain-logloss:0.005836\teval-logloss:0.086445\n",
      "[263]\ttrain-logloss:0.005827\teval-logloss:0.086466\n",
      "[264]\ttrain-logloss:0.005818\teval-logloss:0.086319\n",
      "[265]\ttrain-logloss:0.005809\teval-logloss:0.086488\n",
      "[266]\ttrain-logloss:0.0058\teval-logloss:0.086538\n",
      "[267]\ttrain-logloss:0.005791\teval-logloss:0.086471\n",
      "[268]\ttrain-logloss:0.005782\teval-logloss:0.086501\n",
      "[269]\ttrain-logloss:0.005773\teval-logloss:0.086522\n",
      "[270]\ttrain-logloss:0.005764\teval-logloss:0.086689\n",
      "[271]\ttrain-logloss:0.005755\teval-logloss:0.086738\n",
      "[272]\ttrain-logloss:0.005747\teval-logloss:0.086829\n",
      "[273]\ttrain-logloss:0.005738\teval-logloss:0.086684\n",
      "[274]\ttrain-logloss:0.005729\teval-logloss:0.08664\n",
      "[275]\ttrain-logloss:0.005721\teval-logloss:0.086496\n",
      "[276]\ttrain-logloss:0.005712\teval-logloss:0.086355\n",
      "[277]\ttrain-logloss:0.005704\teval-logloss:0.086519\n",
      "[278]\ttrain-logloss:0.005696\teval-logloss:0.086567\n",
      "[279]\ttrain-logloss:0.005687\teval-logloss:0.08659\n",
      "[280]\ttrain-logloss:0.005679\teval-logloss:0.086679\n",
      "[281]\ttrain-logloss:0.005671\teval-logloss:0.086637\n",
      "[282]\ttrain-logloss:0.005663\teval-logloss:0.086499\n",
      "[283]\ttrain-logloss:0.005655\teval-logloss:0.086356\n",
      "[284]\ttrain-logloss:0.005646\teval-logloss:0.086405\n",
      "[285]\ttrain-logloss:0.005639\teval-logloss:0.086429\n",
      "[286]\ttrain-logloss:0.005631\teval-logloss:0.086456\n",
      "[287]\ttrain-logloss:0.005623\teval-logloss:0.086504\n",
      "[288]\ttrain-logloss:0.005615\teval-logloss:0.08637\n",
      "[289]\ttrain-logloss:0.005608\teval-logloss:0.086457\n",
      "[290]\ttrain-logloss:0.0056\teval-logloss:0.086453\n",
      "[291]\ttrain-logloss:0.005593\teval-logloss:0.086322\n",
      "[292]\ttrain-logloss:0.005585\teval-logloss:0.086284\n",
      "[293]\ttrain-logloss:0.005577\teval-logloss:0.086148\n",
      "[294]\ttrain-logloss:0.00557\teval-logloss:0.086196\n",
      "[295]\ttrain-logloss:0.005563\teval-logloss:0.086221\n",
      "[296]\ttrain-logloss:0.005556\teval-logloss:0.086308\n",
      "[297]\ttrain-logloss:0.005548\teval-logloss:0.086178\n",
      "[298]\ttrain-logloss:0.005541\teval-logloss:0.086263\n",
      "[299]\ttrain-logloss:0.005534\teval-logloss:0.086131\n",
      "[300]\ttrain-logloss:0.005526\teval-logloss:0.086179\n",
      "[301]\ttrain-logloss:0.005519\teval-logloss:0.086052\n",
      "[302]\ttrain-logloss:0.005512\teval-logloss:0.086016\n",
      "[303]\ttrain-logloss:0.005505\teval-logloss:0.086101\n",
      "[304]\ttrain-logloss:0.005498\teval-logloss:0.085977\n",
      "[305]\ttrain-logloss:0.005491\teval-logloss:0.086059\n",
      "[306]\ttrain-logloss:0.005484\teval-logloss:0.085971\n",
      "[307]\ttrain-logloss:0.005478\teval-logloss:0.085998\n",
      "[308]\ttrain-logloss:0.005471\teval-logloss:0.085998\n",
      "[309]\ttrain-logloss:0.005464\teval-logloss:0.085877\n",
      "[310]\ttrain-logloss:0.005457\teval-logloss:0.085923\n",
      "[311]\ttrain-logloss:0.00545\teval-logloss:0.085948\n",
      "Stopping. Best iteration:\n",
      "[211]\ttrain-logloss:0.006413\teval-logloss:0.085593\n",
      "\n"
     ]
    }
   ],
   "source": [
    "# train 데이터 셋은 ‘train’ , evaluation(test) 데이터 셋은 ‘eval’ 로 명기합니다. \n",
    "wlist = [(dtrain,'train'),(dtest,'eval') ]\n",
    "# 하이퍼 파라미터와 early stopping 파라미터를 train( ) 함수의 파라미터로 전달\n",
    "xgb_model = xgb.train(params = params , dtrain=dtrain , num_boost_round=num_rounds , \\\n",
    "                      early_stopping_rounds=100, evals=wlist )"
   ]
  },
  {
   "cell_type": "code",
   "execution_count": 8,
   "metadata": {
    "ExecuteTime": {
     "end_time": "2020-07-19T20:51:53.329271Z",
     "start_time": "2020-07-19T20:51:53.315345Z"
    }
   },
   "outputs": [
    {
     "name": "stdout",
     "output_type": "stream",
     "text": [
      "predict( ) 수행 결과값을 10개만 표시, 예측 확률 값으로 표시됨\n",
      "[0.934 0.003 0.91  0.094 0.993 1.    1.    0.999 0.997 0.   ]\n",
      "예측값 10개만 표시: [1, 0, 1, 0, 1, 1, 1, 1, 1, 0]\n"
     ]
    }
   ],
   "source": [
    "pred_probs = xgb_model.predict(dtest)\n",
    "print('predict( ) 수행 결과값을 10개만 표시, 예측 확률 값으로 표시됨')\n",
    "print(np.round(pred_probs[:10],3))\n",
    "\n",
    "# 예측 확률이 0.5 보다 크면 1 , 그렇지 않으면 0 으로 예측값 결정하여 List 객체인 preds에 저장 \n",
    "preds = [ 1 if x > 0.5 else 0 for x in pred_probs ]\n",
    "print('예측값 10개만 표시:',preds[:10])"
   ]
  },
  {
   "cell_type": "code",
   "execution_count": 9,
   "metadata": {
    "ExecuteTime": {
     "end_time": "2020-07-19T20:51:53.833349Z",
     "start_time": "2020-07-19T20:51:53.827039Z"
    }
   },
   "outputs": [],
   "source": [
    "\n",
    "\n",
    "from sklearn.metrics import confusion_matrix, accuracy_score\n",
    "from sklearn.metrics import precision_score, recall_score\n",
    "from sklearn.metrics import f1_score, roc_auc_score\n",
    "\n",
    "def get_clf_eval(y_test, pred=None, pred_proba=None):\n",
    "    confusion = confusion_matrix( y_test, pred)\n",
    "    accuracy = accuracy_score(y_test , pred)\n",
    "    precision = precision_score(y_test , pred)\n",
    "    recall = recall_score(y_test , pred)\n",
    "    f1 = f1_score(y_test,pred)\n",
    "    # ROC-AUC 추가 \n",
    "    roc_auc = roc_auc_score(y_test, pred_proba)\n",
    "    print('오차 행렬')\n",
    "    print(confusion)\n",
    "    # ROC-AUC print 추가\n",
    "    print('정확도: {0:.4f}, 정밀도: {1:.4f}, 재현율: {2:.4f},\\\n",
    "    F1: {3:.4f}, AUC:{4:.4f}'.format(accuracy, precision, recall, f1, roc_auc))\n",
    "\n"
   ]
  },
  {
   "cell_type": "code",
   "execution_count": 10,
   "metadata": {
    "ExecuteTime": {
     "end_time": "2020-07-19T20:51:54.530053Z",
     "start_time": "2020-07-19T20:51:54.511714Z"
    }
   },
   "outputs": [
    {
     "name": "stdout",
     "output_type": "stream",
     "text": [
      "오차 행렬\n",
      "[[35  2]\n",
      " [ 1 76]]\n",
      "정확도: 0.9737, 정밀도: 0.9744, 재현율: 0.9870,    F1: 0.9806, AUC:0.9951\n"
     ]
    }
   ],
   "source": [
    "get_clf_eval(y_test , preds, pred_probs)"
   ]
  },
  {
   "cell_type": "code",
   "execution_count": 11,
   "metadata": {
    "ExecuteTime": {
     "end_time": "2020-07-19T20:51:57.157490Z",
     "start_time": "2020-07-19T20:51:56.593991Z"
    }
   },
   "outputs": [
    {
     "data": {
      "text/plain": [
       "<matplotlib.axes._subplots.AxesSubplot at 0x2d38e08e348>"
      ]
     },
     "execution_count": 11,
     "metadata": {},
     "output_type": "execute_result"
    },
    {
     "data": {
      "image/png": "[encoded data removed]",
      "text/plain": [
       "<Figure size 720x864 with 1 Axes>"
      ]
     },
     "metadata": {
      "needs_background": "light"
     },
     "output_type": "display_data"
    }
   ],
   "source": [
    "import matplotlib.pyplot as plt\n",
    "%matplotlib inline\n",
    "\n",
    "fig, ax = plt.subplots(figsize=(10, 12))\n",
    "plot_importance(xgb_model, ax=ax)"
   ]
  },
  {
   "cell_type": "markdown",
   "metadata": {},
   "source": [
    "#### 예제 : Scikit Learn 방식"
   ]
  },
  {
   "cell_type": "code",
   "execution_count": 5,
   "metadata": {
    "ExecuteTime": {
     "end_time": "2020-07-19T20:52:36.472454Z",
     "start_time": "2020-07-19T20:52:36.292324Z"
    }
   },
   "outputs": [],
   "source": [
    "# 사이킷런 래퍼 XGBoost 클래스인 XGBClassifier 임포트\n",
    "from xgboost import XGBClassifier\n",
    "\n",
    "xgb_wrapper = XGBClassifier(n_estimators=400, learning_rate=0.1, max_depth=3)\n",
    "xgb_wrapper.fit(X_train,y_train)\n",
    "w_preds = xgb_wrapper.predict(X_test)\n",
    "w_pred_proba = xgb_wrapper.predict_proba(X_test)[:, 1]"
   ]
  },
  {
   "cell_type": "code",
   "execution_count": 6,
   "metadata": {},
   "outputs": [],
   "source": [
    "from sklearn.metrics import accuracy_score"
   ]
  },
  {
   "cell_type": "code",
   "execution_count": 7,
   "metadata": {},
   "outputs": [
    {
     "data": {
      "text/plain": [
       "0.9736842105263158"
      ]
     },
     "execution_count": 7,
     "metadata": {},
     "output_type": "execute_result"
    }
   ],
   "source": [
    "accuracy_score(y_test,w_preds)"
   ]
  },
  {
   "cell_type": "code",
   "execution_count": null,
   "metadata": {},
   "outputs": [],
   "source": []
  },
  {
   "cell_type": "code",
   "execution_count": null,
   "metadata": {},
   "outputs": [],
   "source": []
  },
  {
   "cell_type": "code",
   "execution_count": null,
   "metadata": {},
   "outputs": [],
   "source": []
  },
  {
   "cell_type": "code",
   "execution_count": 13,
   "metadata": {
    "ExecuteTime": {
     "end_time": "2020-07-19T20:52:43.825377Z",
     "start_time": "2020-07-19T20:52:43.818224Z"
    }
   },
   "outputs": [
    {
     "name": "stdout",
     "output_type": "stream",
     "text": [
      "오차 행렬\n",
      "[[35  2]\n",
      " [ 1 76]]\n",
      "정확도: 0.9737, 정밀도: 0.9744, 재현율: 0.9870,    F1: 0.9806, AUC:0.9951\n"
     ]
    }
   ],
   "source": [
    "get_clf_eval(y_test , w_preds, w_pred_proba)"
   ]
  },
  {
   "cell_type": "code",
   "execution_count": 14,
   "metadata": {
    "ExecuteTime": {
     "end_time": "2020-07-19T20:52:56.165490Z",
     "start_time": "2020-07-19T20:52:55.736242Z"
    }
   },
   "outputs": [
    {
     "name": "stdout",
     "output_type": "stream",
     "text": [
      "[0]\tvalidation_0-logloss:0.61352\n",
      "Will train until validation_0-logloss hasn't improved in 100 rounds.\n",
      "[1]\tvalidation_0-logloss:0.547842\n",
      "[2]\tvalidation_0-logloss:0.494247\n",
      "[3]\tvalidation_0-logloss:0.447986\n",
      "[4]\tvalidation_0-logloss:0.409109\n",
      "[5]\tvalidation_0-logloss:0.374977\n",
      "[6]\tvalidation_0-logloss:0.345714\n",
      "[7]\tvalidation_0-logloss:0.320529\n",
      "[8]\tvalidation_0-logloss:0.29721\n",
      "[9]\tvalidation_0-logloss:0.277991\n",
      "[10]\tvalidation_0-logloss:0.260302\n",
      "[11]\tvalidation_0-logloss:0.246037\n",
      "[12]\tvalidation_0-logloss:0.231556\n",
      "[13]\tvalidation_0-logloss:0.22005\n",
      "[14]\tvalidation_0-logloss:0.208572\n",
      "[15]\tvalidation_0-logloss:0.199993\n",
      "[16]\tvalidation_0-logloss:0.190118\n",
      "[17]\tvalidation_0-logloss:0.181818\n",
      "[18]\tvalidation_0-logloss:0.174729\n",
      "[19]\tvalidation_0-logloss:0.167657\n",
      "[20]\tvalidation_0-logloss:0.158202\n",
      "[21]\tvalidation_0-logloss:0.154725\n",
      "[22]\tvalidation_0-logloss:0.148947\n",
      "[23]\tvalidation_0-logloss:0.143308\n",
      "[24]\tvalidation_0-logloss:0.136344\n",
      "[25]\tvalidation_0-logloss:0.132778\n",
      "[26]\tvalidation_0-logloss:0.127912\n",
      "[27]\tvalidation_0-logloss:0.125263\n",
      "[28]\tvalidation_0-logloss:0.119978\n",
      "[29]\tvalidation_0-logloss:0.116412\n",
      "[30]\tvalidation_0-logloss:0.114502\n",
      "[31]\tvalidation_0-logloss:0.112572\n",
      "[32]\tvalidation_0-logloss:0.11154\n",
      "[33]\tvalidation_0-logloss:0.108681\n",
      "[34]\tvalidation_0-logloss:0.106681\n",
      "[35]\tvalidation_0-logloss:0.104207\n",
      "[36]\tvalidation_0-logloss:0.102962\n",
      "[37]\tvalidation_0-logloss:0.100576\n",
      "[38]\tvalidation_0-logloss:0.098683\n",
      "[39]\tvalidation_0-logloss:0.096444\n",
      "[40]\tvalidation_0-logloss:0.095869\n",
      "[41]\tvalidation_0-logloss:0.094242\n",
      "[42]\tvalidation_0-logloss:0.094715\n",
      "[43]\tvalidation_0-logloss:0.094272\n",
      "[44]\tvalidation_0-logloss:0.093894\n",
      "[45]\tvalidation_0-logloss:0.094184\n",
      "[46]\tvalidation_0-logloss:0.09402\n",
      "[47]\tvalidation_0-logloss:0.09236\n",
      "[48]\tvalidation_0-logloss:0.093012\n",
      "[49]\tvalidation_0-logloss:0.091272\n",
      "[50]\tvalidation_0-logloss:0.090051\n",
      "[51]\tvalidation_0-logloss:0.089605\n",
      "[52]\tvalidation_0-logloss:0.089577\n",
      "[53]\tvalidation_0-logloss:0.090703\n",
      "[54]\tvalidation_0-logloss:0.089579\n",
      "[55]\tvalidation_0-logloss:0.090357\n",
      "[56]\tvalidation_0-logloss:0.091587\n",
      "[57]\tvalidation_0-logloss:0.091527\n",
      "[58]\tvalidation_0-logloss:0.091986\n",
      "[59]\tvalidation_0-logloss:0.091951\n",
      "[60]\tvalidation_0-logloss:0.091939\n",
      "[61]\tvalidation_0-logloss:0.091461\n",
      "[62]\tvalidation_0-logloss:0.090311\n",
      "[63]\tvalidation_0-logloss:0.089407\n",
      "[64]\tvalidation_0-logloss:0.089719\n",
      "[65]\tvalidation_0-logloss:0.089743\n",
      "[66]\tvalidation_0-logloss:0.089622\n",
      "[67]\tvalidation_0-logloss:0.088734\n",
      "[68]\tvalidation_0-logloss:0.088621\n",
      "[69]\tvalidation_0-logloss:0.089739\n",
      "[70]\tvalidation_0-logloss:0.089981\n",
      "[71]\tvalidation_0-logloss:0.089782\n",
      "[72]\tvalidation_0-logloss:0.089584\n",
      "[73]\tvalidation_0-logloss:0.089533\n",
      "[74]\tvalidation_0-logloss:0.088748\n",
      "[75]\tvalidation_0-logloss:0.088597\n",
      "[76]\tvalidation_0-logloss:0.08812\n",
      "[77]\tvalidation_0-logloss:0.088396\n",
      "[78]\tvalidation_0-logloss:0.088736\n",
      "[79]\tvalidation_0-logloss:0.088153\n",
      "[80]\tvalidation_0-logloss:0.087577\n",
      "[81]\tvalidation_0-logloss:0.087412\n",
      "[82]\tvalidation_0-logloss:0.08849\n",
      "[83]\tvalidation_0-logloss:0.088575\n",
      "[84]\tvalidation_0-logloss:0.08807\n",
      "[85]\tvalidation_0-logloss:0.087641\n",
      "[86]\tvalidation_0-logloss:0.087416\n",
      "[87]\tvalidation_0-logloss:0.087611\n",
      "[88]\tvalidation_0-logloss:0.087065\n",
      "[89]\tvalidation_0-logloss:0.08727\n",
      "[90]\tvalidation_0-logloss:0.087161\n",
      "[91]\tvalidation_0-logloss:0.086962\n",
      "[92]\tvalidation_0-logloss:0.087166\n",
      "[93]\tvalidation_0-logloss:0.087067\n",
      "[94]\tvalidation_0-logloss:0.086592\n",
      "[95]\tvalidation_0-logloss:0.086116\n",
      "[96]\tvalidation_0-logloss:0.087139\n",
      "[97]\tvalidation_0-logloss:0.086768\n",
      "[98]\tvalidation_0-logloss:0.086694\n",
      "[99]\tvalidation_0-logloss:0.086547\n",
      "[100]\tvalidation_0-logloss:0.086498\n",
      "[101]\tvalidation_0-logloss:0.08641\n",
      "[102]\tvalidation_0-logloss:0.086288\n",
      "[103]\tvalidation_0-logloss:0.086258\n",
      "[104]\tvalidation_0-logloss:0.086835\n",
      "[105]\tvalidation_0-logloss:0.086767\n",
      "[106]\tvalidation_0-logloss:0.087321\n",
      "[107]\tvalidation_0-logloss:0.087304\n",
      "[108]\tvalidation_0-logloss:0.08728\n",
      "[109]\tvalidation_0-logloss:0.087298\n",
      "[110]\tvalidation_0-logloss:0.087289\n",
      "[111]\tvalidation_0-logloss:0.088002\n",
      "[112]\tvalidation_0-logloss:0.087936\n",
      "[113]\tvalidation_0-logloss:0.087843\n",
      "[114]\tvalidation_0-logloss:0.088066\n",
      "[115]\tvalidation_0-logloss:0.087649\n",
      "[116]\tvalidation_0-logloss:0.087298\n",
      "[117]\tvalidation_0-logloss:0.087799\n",
      "[118]\tvalidation_0-logloss:0.087751\n",
      "[119]\tvalidation_0-logloss:0.08768\n",
      "[120]\tvalidation_0-logloss:0.087626\n",
      "[121]\tvalidation_0-logloss:0.08757\n",
      "[122]\tvalidation_0-logloss:0.087547\n",
      "[123]\tvalidation_0-logloss:0.087156\n",
      "[124]\tvalidation_0-logloss:0.08767\n",
      "[125]\tvalidation_0-logloss:0.087737\n",
      "[126]\tvalidation_0-logloss:0.088275\n",
      "[127]\tvalidation_0-logloss:0.088309\n",
      "[128]\tvalidation_0-logloss:0.088266\n",
      "[129]\tvalidation_0-logloss:0.087886\n",
      "[130]\tvalidation_0-logloss:0.088861\n",
      "[131]\tvalidation_0-logloss:0.088675\n",
      "[132]\tvalidation_0-logloss:0.088743\n",
      "[133]\tvalidation_0-logloss:0.089218\n",
      "[134]\tvalidation_0-logloss:0.089179\n",
      "[135]\tvalidation_0-logloss:0.088821\n",
      "[136]\tvalidation_0-logloss:0.088512\n",
      "[137]\tvalidation_0-logloss:0.08848\n",
      "[138]\tvalidation_0-logloss:0.088386\n",
      "[139]\tvalidation_0-logloss:0.089145\n",
      "[140]\tvalidation_0-logloss:0.08911\n",
      "[141]\tvalidation_0-logloss:0.088765\n",
      "[142]\tvalidation_0-logloss:0.088678\n",
      "[143]\tvalidation_0-logloss:0.088389\n",
      "[144]\tvalidation_0-logloss:0.089271\n",
      "[145]\tvalidation_0-logloss:0.089238\n",
      "[146]\tvalidation_0-logloss:0.089139\n",
      "[147]\tvalidation_0-logloss:0.088907\n",
      "[148]\tvalidation_0-logloss:0.089416\n",
      "[149]\tvalidation_0-logloss:0.089388\n",
      "[150]\tvalidation_0-logloss:0.089108\n",
      "[151]\tvalidation_0-logloss:0.088735\n",
      "[152]\tvalidation_0-logloss:0.088717\n",
      "[153]\tvalidation_0-logloss:0.088484\n",
      "[154]\tvalidation_0-logloss:0.088471\n",
      "[155]\tvalidation_0-logloss:0.088545\n",
      "[156]\tvalidation_0-logloss:0.088521\n",
      "[157]\tvalidation_0-logloss:0.088547\n",
      "[158]\tvalidation_0-logloss:0.088275\n",
      "[159]\tvalidation_0-logloss:0.0883\n",
      "[160]\tvalidation_0-logloss:0.08828\n",
      "[161]\tvalidation_0-logloss:0.088013\n",
      "[162]\tvalidation_0-logloss:0.087758\n",
      "[163]\tvalidation_0-logloss:0.087784\n",
      "[164]\tvalidation_0-logloss:0.087777\n",
      "[165]\tvalidation_0-logloss:0.087517\n",
      "[166]\tvalidation_0-logloss:0.087542\n",
      "[167]\tvalidation_0-logloss:0.087642\n",
      "[168]\tvalidation_0-logloss:0.08739\n",
      "[169]\tvalidation_0-logloss:0.087377\n",
      "[170]\tvalidation_0-logloss:0.087298\n",
      "[171]\tvalidation_0-logloss:0.087368\n",
      "[172]\tvalidation_0-logloss:0.087395\n",
      "[173]\tvalidation_0-logloss:0.087385\n",
      "[174]\tvalidation_0-logloss:0.087132\n",
      "[175]\tvalidation_0-logloss:0.087159\n",
      "[176]\tvalidation_0-logloss:0.086955\n",
      "[177]\tvalidation_0-logloss:0.087053\n",
      "[178]\tvalidation_0-logloss:0.08697\n",
      "[179]\tvalidation_0-logloss:0.086973\n",
      "[180]\tvalidation_0-logloss:0.087038\n",
      "[181]\tvalidation_0-logloss:0.086799\n",
      "[182]\tvalidation_0-logloss:0.086826\n",
      "[183]\tvalidation_0-logloss:0.086582\n",
      "[184]\tvalidation_0-logloss:0.086588\n",
      "[185]\tvalidation_0-logloss:0.086614\n",
      "[186]\tvalidation_0-logloss:0.086372\n",
      "[187]\tvalidation_0-logloss:0.086369\n",
      "[188]\tvalidation_0-logloss:0.086297\n",
      "[189]\tvalidation_0-logloss:0.086104\n",
      "[190]\tvalidation_0-logloss:0.086023\n",
      "[191]\tvalidation_0-logloss:0.08605\n",
      "[192]\tvalidation_0-logloss:0.086149\n",
      "[193]\tvalidation_0-logloss:0.085916\n",
      "[194]\tvalidation_0-logloss:0.085915\n",
      "[195]\tvalidation_0-logloss:0.085984\n",
      "[196]\tvalidation_0-logloss:0.086012\n",
      "[197]\tvalidation_0-logloss:0.085922\n",
      "[198]\tvalidation_0-logloss:0.085853\n",
      "[199]\tvalidation_0-logloss:0.085874\n",
      "[200]\tvalidation_0-logloss:0.085888\n",
      "[201]\tvalidation_0-logloss:0.08595\n",
      "[202]\tvalidation_0-logloss:0.08573\n",
      "[203]\tvalidation_0-logloss:0.08573\n",
      "[204]\tvalidation_0-logloss:0.085753\n",
      "[205]\tvalidation_0-logloss:0.085821\n",
      "[206]\tvalidation_0-logloss:0.08584\n",
      "[207]\tvalidation_0-logloss:0.085776\n",
      "[208]\tvalidation_0-logloss:0.085686\n",
      "[209]\tvalidation_0-logloss:0.08571\n",
      "[210]\tvalidation_0-logloss:0.085806\n",
      "[211]\tvalidation_0-logloss:0.085593\n",
      "[212]\tvalidation_0-logloss:0.085801\n",
      "[213]\tvalidation_0-logloss:0.085806\n",
      "[214]\tvalidation_0-logloss:0.085744\n",
      "[215]\tvalidation_0-logloss:0.085658\n",
      "[216]\tvalidation_0-logloss:0.085843\n",
      "[217]\tvalidation_0-logloss:0.085632\n",
      "[218]\tvalidation_0-logloss:0.085726\n",
      "[219]\tvalidation_0-logloss:0.085783\n",
      "[220]\tvalidation_0-logloss:0.085791\n",
      "[221]\tvalidation_0-logloss:0.085817\n",
      "[222]\tvalidation_0-logloss:0.085757\n",
      "[223]\tvalidation_0-logloss:0.085674\n",
      "[224]\tvalidation_0-logloss:0.08586\n",
      "[225]\tvalidation_0-logloss:0.085871\n",
      "[226]\tvalidation_0-logloss:0.085927\n",
      "[227]\tvalidation_0-logloss:0.085954\n",
      "[228]\tvalidation_0-logloss:0.085874\n",
      "[229]\tvalidation_0-logloss:0.086057\n"
     ]
    },
    {
     "name": "stdout",
     "output_type": "stream",
     "text": [
      "[230]\tvalidation_0-logloss:0.086002\n",
      "[231]\tvalidation_0-logloss:0.085922\n",
      "[232]\tvalidation_0-logloss:0.086102\n",
      "[233]\tvalidation_0-logloss:0.086115\n",
      "[234]\tvalidation_0-logloss:0.086169\n",
      "[235]\tvalidation_0-logloss:0.086263\n",
      "[236]\tvalidation_0-logloss:0.086292\n",
      "[237]\tvalidation_0-logloss:0.086217\n",
      "[238]\tvalidation_0-logloss:0.086395\n",
      "[239]\tvalidation_0-logloss:0.086342\n",
      "[240]\tvalidation_0-logloss:0.08618\n",
      "[241]\tvalidation_0-logloss:0.086195\n",
      "[242]\tvalidation_0-logloss:0.086248\n",
      "[243]\tvalidation_0-logloss:0.086263\n",
      "[244]\tvalidation_0-logloss:0.086293\n",
      "[245]\tvalidation_0-logloss:0.086222\n",
      "[246]\tvalidation_0-logloss:0.086398\n",
      "[247]\tvalidation_0-logloss:0.086347\n",
      "[248]\tvalidation_0-logloss:0.086276\n",
      "[249]\tvalidation_0-logloss:0.086448\n",
      "[250]\tvalidation_0-logloss:0.086294\n",
      "[251]\tvalidation_0-logloss:0.086312\n",
      "[252]\tvalidation_0-logloss:0.086364\n",
      "[253]\tvalidation_0-logloss:0.086394\n",
      "[254]\tvalidation_0-logloss:0.08649\n",
      "[255]\tvalidation_0-logloss:0.086441\n",
      "[256]\tvalidation_0-logloss:0.08629\n",
      "[257]\tvalidation_0-logloss:0.08646\n",
      "[258]\tvalidation_0-logloss:0.086391\n",
      "[259]\tvalidation_0-logloss:0.086441\n",
      "[260]\tvalidation_0-logloss:0.086461\n",
      "[261]\tvalidation_0-logloss:0.086491\n",
      "[262]\tvalidation_0-logloss:0.086445\n",
      "[263]\tvalidation_0-logloss:0.086466\n",
      "[264]\tvalidation_0-logloss:0.086319\n",
      "[265]\tvalidation_0-logloss:0.086488\n",
      "[266]\tvalidation_0-logloss:0.086538\n",
      "[267]\tvalidation_0-logloss:0.086471\n",
      "[268]\tvalidation_0-logloss:0.086501\n",
      "[269]\tvalidation_0-logloss:0.086522\n",
      "[270]\tvalidation_0-logloss:0.086689\n",
      "[271]\tvalidation_0-logloss:0.086738\n",
      "[272]\tvalidation_0-logloss:0.08683\n",
      "[273]\tvalidation_0-logloss:0.086684\n",
      "[274]\tvalidation_0-logloss:0.08664\n",
      "[275]\tvalidation_0-logloss:0.086496\n",
      "[276]\tvalidation_0-logloss:0.086355\n",
      "[277]\tvalidation_0-logloss:0.086519\n",
      "[278]\tvalidation_0-logloss:0.086567\n",
      "[279]\tvalidation_0-logloss:0.08659\n",
      "[280]\tvalidation_0-logloss:0.086679\n",
      "[281]\tvalidation_0-logloss:0.086637\n",
      "[282]\tvalidation_0-logloss:0.086499\n",
      "[283]\tvalidation_0-logloss:0.086356\n",
      "[284]\tvalidation_0-logloss:0.086405\n",
      "[285]\tvalidation_0-logloss:0.086429\n",
      "[286]\tvalidation_0-logloss:0.086456\n",
      "[287]\tvalidation_0-logloss:0.086504\n",
      "[288]\tvalidation_0-logloss:0.08637\n",
      "[289]\tvalidation_0-logloss:0.086457\n",
      "[290]\tvalidation_0-logloss:0.086453\n",
      "[291]\tvalidation_0-logloss:0.086322\n",
      "[292]\tvalidation_0-logloss:0.086284\n",
      "[293]\tvalidation_0-logloss:0.086148\n",
      "[294]\tvalidation_0-logloss:0.086196\n",
      "[295]\tvalidation_0-logloss:0.086221\n",
      "[296]\tvalidation_0-logloss:0.086308\n",
      "[297]\tvalidation_0-logloss:0.086178\n",
      "[298]\tvalidation_0-logloss:0.086263\n",
      "[299]\tvalidation_0-logloss:0.086131\n",
      "[300]\tvalidation_0-logloss:0.086179\n",
      "[301]\tvalidation_0-logloss:0.086052\n",
      "[302]\tvalidation_0-logloss:0.086016\n",
      "[303]\tvalidation_0-logloss:0.086101\n",
      "[304]\tvalidation_0-logloss:0.085977\n",
      "[305]\tvalidation_0-logloss:0.086059\n",
      "[306]\tvalidation_0-logloss:0.085971\n",
      "[307]\tvalidation_0-logloss:0.085998\n",
      "[308]\tvalidation_0-logloss:0.085999\n",
      "[309]\tvalidation_0-logloss:0.085877\n",
      "[310]\tvalidation_0-logloss:0.085923\n",
      "[311]\tvalidation_0-logloss:0.085948\n",
      "Stopping. Best iteration:\n",
      "[211]\tvalidation_0-logloss:0.085593\n",
      "\n"
     ]
    }
   ],
   "source": [
    "from xgboost import XGBClassifier\n",
    "\n",
    "xgb_wrapper = XGBClassifier(~~~)\n",
    "evals = [(X_test, y_test)]\n",
    "xgb_wrapper.fit(X_train, y_train, \n",
    "                early_stopping_rounds=100, \n",
    "                eval_metric=\"logloss\", \n",
    "                eval_set=evals, verbose=True)\n",
    "\n",
    "ws100_preds = xgb_wrapper.predict(X_test)\n",
    "ws100_pred_proba = xgb_wrapper.predict_proba(X_test)[:, 1]"
   ]
  },
  {
   "cell_type": "code",
   "execution_count": 15,
   "metadata": {
    "ExecuteTime": {
     "end_time": "2020-07-19T20:53:10.655275Z",
     "start_time": "2020-07-19T20:53:10.648127Z"
    }
   },
   "outputs": [
    {
     "name": "stdout",
     "output_type": "stream",
     "text": [
      "오차 행렬\n",
      "[[34  3]\n",
      " [ 1 76]]\n",
      "정확도: 0.9649, 정밀도: 0.9620, 재현율: 0.9870,    F1: 0.9744, AUC:0.9954\n"
     ]
    }
   ],
   "source": [
    "get_clf_eval(y_test , ws100_preds, ws100_pred_proba)"
   ]
  },
  {
   "cell_type": "code",
   "execution_count": 16,
   "metadata": {
    "ExecuteTime": {
     "end_time": "2020-07-19T20:53:10.959317Z",
     "start_time": "2020-07-19T20:53:10.847960Z"
    }
   },
   "outputs": [
    {
     "name": "stdout",
     "output_type": "stream",
     "text": [
      "[0]\tvalidation_0-logloss:0.61352\n",
      "Will train until validation_0-logloss hasn't improved in 10 rounds.\n",
      "[1]\tvalidation_0-logloss:0.547842\n",
      "[2]\tvalidation_0-logloss:0.494247\n",
      "[3]\tvalidation_0-logloss:0.447986\n",
      "[4]\tvalidation_0-logloss:0.409109\n",
      "[5]\tvalidation_0-logloss:0.374977\n",
      "[6]\tvalidation_0-logloss:0.345714\n",
      "[7]\tvalidation_0-logloss:0.320529\n",
      "[8]\tvalidation_0-logloss:0.29721\n",
      "[9]\tvalidation_0-logloss:0.277991\n",
      "[10]\tvalidation_0-logloss:0.260302\n",
      "[11]\tvalidation_0-logloss:0.246037\n",
      "[12]\tvalidation_0-logloss:0.231556\n",
      "[13]\tvalidation_0-logloss:0.22005\n",
      "[14]\tvalidation_0-logloss:0.208572\n",
      "[15]\tvalidation_0-logloss:0.199993\n",
      "[16]\tvalidation_0-logloss:0.190118\n",
      "[17]\tvalidation_0-logloss:0.181818\n",
      "[18]\tvalidation_0-logloss:0.174729\n",
      "[19]\tvalidation_0-logloss:0.167657\n",
      "[20]\tvalidation_0-logloss:0.158202\n",
      "[21]\tvalidation_0-logloss:0.154725\n",
      "[22]\tvalidation_0-logloss:0.148947\n",
      "[23]\tvalidation_0-logloss:0.143308\n",
      "[24]\tvalidation_0-logloss:0.136344\n",
      "[25]\tvalidation_0-logloss:0.132778\n",
      "[26]\tvalidation_0-logloss:0.127912\n",
      "[27]\tvalidation_0-logloss:0.125263\n",
      "[28]\tvalidation_0-logloss:0.119978\n",
      "[29]\tvalidation_0-logloss:0.116412\n",
      "[30]\tvalidation_0-logloss:0.114502\n",
      "[31]\tvalidation_0-logloss:0.112572\n",
      "[32]\tvalidation_0-logloss:0.11154\n",
      "[33]\tvalidation_0-logloss:0.108681\n",
      "[34]\tvalidation_0-logloss:0.106681\n",
      "[35]\tvalidation_0-logloss:0.104207\n",
      "[36]\tvalidation_0-logloss:0.102962\n",
      "[37]\tvalidation_0-logloss:0.100576\n",
      "[38]\tvalidation_0-logloss:0.098683\n",
      "[39]\tvalidation_0-logloss:0.096444\n",
      "[40]\tvalidation_0-logloss:0.095869\n",
      "[41]\tvalidation_0-logloss:0.094242\n",
      "[42]\tvalidation_0-logloss:0.094715\n",
      "[43]\tvalidation_0-logloss:0.094272\n",
      "[44]\tvalidation_0-logloss:0.093894\n",
      "[45]\tvalidation_0-logloss:0.094184\n",
      "[46]\tvalidation_0-logloss:0.09402\n",
      "[47]\tvalidation_0-logloss:0.09236\n",
      "[48]\tvalidation_0-logloss:0.093012\n",
      "[49]\tvalidation_0-logloss:0.091272\n",
      "[50]\tvalidation_0-logloss:0.090051\n",
      "[51]\tvalidation_0-logloss:0.089605\n",
      "[52]\tvalidation_0-logloss:0.089577\n",
      "[53]\tvalidation_0-logloss:0.090703\n",
      "[54]\tvalidation_0-logloss:0.089579\n",
      "[55]\tvalidation_0-logloss:0.090357\n",
      "[56]\tvalidation_0-logloss:0.091587\n",
      "[57]\tvalidation_0-logloss:0.091527\n",
      "[58]\tvalidation_0-logloss:0.091986\n",
      "[59]\tvalidation_0-logloss:0.091951\n",
      "[60]\tvalidation_0-logloss:0.091939\n",
      "[61]\tvalidation_0-logloss:0.091461\n",
      "[62]\tvalidation_0-logloss:0.090311\n",
      "Stopping. Best iteration:\n",
      "[52]\tvalidation_0-logloss:0.089577\n",
      "\n",
      "오차 행렬\n",
      "[[34  3]\n",
      " [ 2 75]]\n",
      "정확도: 0.9561, 정밀도: 0.9615, 재현율: 0.9740,    F1: 0.9677, AUC:0.9947\n"
     ]
    }
   ],
   "source": [
    "# early_stopping_rounds를 10으로 설정하고 재 학습. \n",
    "xgb_wrapper.fit(X_train, y_train, early_stopping_rounds=10, \n",
    "                eval_metric=\"logloss\", eval_set=evals,verbose=True)\n",
    "\n",
    "ws10_preds = xgb_wrapper.predict(X_test)\n",
    "ws10_pred_proba = xgb_wrapper.predict_proba(X_test)[:, 1]\n",
    "get_clf_eval(y_test , ws10_preds, ws10_pred_proba)"
   ]
  },
  {
   "cell_type": "code",
   "execution_count": 17,
   "metadata": {
    "ExecuteTime": {
     "end_time": "2020-07-19T20:53:19.917883Z",
     "start_time": "2020-07-19T20:53:19.651061Z"
    }
   },
   "outputs": [
    {
     "data": {
      "text/plain": [
       "<matplotlib.axes._subplots.AxesSubplot at 0x2d38ec95448>"
      ]
     },
     "execution_count": 17,
     "metadata": {},
     "output_type": "execute_result"
    },
    {
     "data": {
      "image/png": "[encoded data removed]",
      "text/plain": [
       "<Figure size 720x864 with 1 Axes>"
      ]
     },
     "metadata": {
      "needs_background": "light"
     },
     "output_type": "display_data"
    }
   ],
   "source": [
    "from xgboost import plot_importance\n",
    "import matplotlib.pyplot as plt\n",
    "%matplotlib inline\n",
    "\n",
    "fig, ax = plt.subplots(figsize=(10, 12))\n",
    "# 사이킷런 래퍼 클래스를 입력해도 무방. \n",
    "plot_importance(xgb_wrapper, ax=ax)"
   ]
  },
  {
   "cell_type": "markdown",
   "metadata": {},
   "source": [
    "### LightGBM"
   ]
  },
  {
   "cell_type": "markdown",
   "metadata": {},
   "source": [
    "<img src=\"img/16.png\">"
   ]
  },
  {
   "cell_type": "markdown",
   "metadata": {},
   "source": [
    "> **특징**<br>\n",
    ">- 일반적인 트리들이 트리 깊이를 효과적으로 줄이기 위해서 균형트리 방식 사용 --> 그러면 균형이 잡힌 트리의 경우에는 overfitting에 보다 강건하다.But 시간이 오래 걸린다;;;;;<br>\n",
    ">- LightGBM : 오랜 연산이 걸리는 균형을 포기하면서, 최대 손실값을 가지는 리프 노드를 지속적으로 분할하면서 트리이ㅡ 깊이가 깊어지고 비대칭적인 트리가 생성된다. 결국 예측 오류를 줄일 수 있는 것이 장점으로 된다. --> max_depth 가 매우 크게 가지게 된다!!"
   ]
  },
  {
   "cell_type": "markdown",
   "metadata": {},
   "source": [
    "> **설치**<br>\n",
    "> >conda install -c conda-forge lightgbm\n",
    "<img src=\"img/17.png\">\n"
   ]
  },
  {
   "cell_type": "code",
   "execution_count": 1,
   "metadata": {
    "ExecuteTime": {
     "end_time": "2020-07-19T21:00:32.168416Z",
     "start_time": "2020-07-19T21:00:31.304340Z"
    }
   },
   "outputs": [
    {
     "name": "stdout",
     "output_type": "stream",
     "text": [
      "2.3.1\n"
     ]
    }
   ],
   "source": [
    "import lightgbm\n",
    "\n",
    "print(lightgbm.__version__)"
   ]
  },
  {
   "cell_type": "markdown",
   "metadata": {},
   "source": [
    "#### 주요 파라미터"
   ]
  },
  {
   "cell_type": "markdown",
   "metadata": {},
   "source": [
    "> **주요 파라미터**<br>\n",
    ">- num_iteration : 기본 100<br>\n",
    ">- learning)rate : 기본 0.1<br>\n",
    ">- max_depth : 기본 -1 / 0보다 작게 설정하면 깊이에 제한을두지 않겠다는 의미임.<br>\n",
    ">- min_data_in_leaf : 기본 20, min_samples_leaf 와 같은 파라미터 <br>\n",
    ">- num_leaves : 기본 3. 하나의 트리가 가질 수 있는 최대 리프의 개수 <br>\n",
    ">- boosting : 기본 gbdt, rf 도 설정 가능함. <br>\n",
    ">- bagging_fraction : 기본 1. 앞에서의 subsample과 유사함. <br>\n",
    ">- feature)fraction : 기본 1. colsample)bytree와 같음. <br>\n",
    ">- lambda_l2 : L2제약<br>\n",
    ">- lambda_l1 : L1제약<br>\n",
    "\n",
    ">-objective : 손싨함수 정의. xgboost 와 동일."
   ]
  },
  {
   "cell_type": "markdown",
   "metadata": {},
   "source": [
    "> **Overfitting을 피해보자..**<br>\n",
    ">- num_leaves : 제일 주욯나 파라미터임. 크기가 커지면 정확도는 높아지지만, 트리의 깊이가 깊어지게 되어서 overfitting이 일어날 위험성이 있다.<br>\n",
    ">- min_data_in_leaf :  큰 값으로 설정하면 overfitting 방지하게 된다. <br>\n",
    ">- max_depth / num_leaves / min_data_in_leaf와 함께 조절하면서..<br>\n",
    "\n",
    "> **기본적인 튜닝 방법** <br>\n",
    ">- learning rate를 작게하면서, n_estimator를 크게 하는 것들..<br>\n",
    ">- 위의 경우에 대해서 하면서 그러면 n_estimator이 큰 경우에는 L1, L2 규약을 사용하는 것을 추천"
   ]
  },
  {
   "cell_type": "markdown",
   "metadata": {},
   "source": [
    "<img src=\"img/18.png\">"
   ]
  },
  {
   "cell_type": "markdown",
   "metadata": {},
   "source": [
    "#### 예제"
   ]
  },
  {
   "cell_type": "code",
   "execution_count": 2,
   "metadata": {
    "ExecuteTime": {
     "end_time": "2020-07-19T21:00:44.037266Z",
     "start_time": "2020-07-19T21:00:43.825744Z"
    }
   },
   "outputs": [
    {
     "name": "stdout",
     "output_type": "stream",
     "text": [
      "[1]\tvalid_0's binary_logloss: 0.565079\n",
      "Training until validation scores don't improve for 100 rounds\n",
      "[2]\tvalid_0's binary_logloss: 0.507451\n",
      "[3]\tvalid_0's binary_logloss: 0.458489\n",
      "[4]\tvalid_0's binary_logloss: 0.417481\n",
      "[5]\tvalid_0's binary_logloss: 0.385507\n",
      "[6]\tvalid_0's binary_logloss: 0.355846\n",
      "[7]\tvalid_0's binary_logloss: 0.330897\n",
      "[8]\tvalid_0's binary_logloss: 0.306923\n",
      "[9]\tvalid_0's binary_logloss: 0.28776\n",
      "[10]\tvalid_0's binary_logloss: 0.26917\n",
      "[11]\tvalid_0's binary_logloss: 0.250954\n",
      "[12]\tvalid_0's binary_logloss: 0.23847\n",
      "[13]\tvalid_0's binary_logloss: 0.225865\n",
      "[14]\tvalid_0's binary_logloss: 0.215076\n",
      "[15]\tvalid_0's binary_logloss: 0.205996\n",
      "[16]\tvalid_0's binary_logloss: 0.196091\n",
      "[17]\tvalid_0's binary_logloss: 0.186395\n",
      "[18]\tvalid_0's binary_logloss: 0.17942\n",
      "[19]\tvalid_0's binary_logloss: 0.174727\n",
      "[20]\tvalid_0's binary_logloss: 0.168563\n",
      "[21]\tvalid_0's binary_logloss: 0.165432\n",
      "[22]\tvalid_0's binary_logloss: 0.160356\n",
      "[23]\tvalid_0's binary_logloss: 0.155508\n",
      "[24]\tvalid_0's binary_logloss: 0.151598\n",
      "[25]\tvalid_0's binary_logloss: 0.149861\n",
      "[26]\tvalid_0's binary_logloss: 0.149873\n",
      "[27]\tvalid_0's binary_logloss: 0.147032\n",
      "[28]\tvalid_0's binary_logloss: 0.145077\n",
      "[29]\tvalid_0's binary_logloss: 0.139891\n",
      "[30]\tvalid_0's binary_logloss: 0.137416\n",
      "[31]\tvalid_0's binary_logloss: 0.138393\n",
      "[32]\tvalid_0's binary_logloss: 0.135948\n",
      "[33]\tvalid_0's binary_logloss: 0.132968\n",
      "[34]\tvalid_0's binary_logloss: 0.129697\n",
      "[35]\tvalid_0's binary_logloss: 0.131102\n",
      "[36]\tvalid_0's binary_logloss: 0.129382\n",
      "[37]\tvalid_0's binary_logloss: 0.128044\n",
      "[38]\tvalid_0's binary_logloss: 0.127325\n",
      "[39]\tvalid_0's binary_logloss: 0.128091\n",
      "[40]\tvalid_0's binary_logloss: 0.129045\n",
      "[41]\tvalid_0's binary_logloss: 0.127023\n",
      "[42]\tvalid_0's binary_logloss: 0.129314\n",
      "[43]\tvalid_0's binary_logloss: 0.129175\n",
      "[44]\tvalid_0's binary_logloss: 0.128212\n",
      "[45]\tvalid_0's binary_logloss: 0.126664\n",
      "[46]\tvalid_0's binary_logloss: 0.127662\n",
      "[47]\tvalid_0's binary_logloss: 0.126108\n",
      "[48]\tvalid_0's binary_logloss: 0.129371\n",
      "[49]\tvalid_0's binary_logloss: 0.129573\n",
      "[50]\tvalid_0's binary_logloss: 0.130876\n",
      "[51]\tvalid_0's binary_logloss: 0.131366\n",
      "[52]\tvalid_0's binary_logloss: 0.131336\n",
      "[53]\tvalid_0's binary_logloss: 0.13208\n",
      "[54]\tvalid_0's binary_logloss: 0.13306\n",
      "[55]\tvalid_0's binary_logloss: 0.132342\n",
      "[56]\tvalid_0's binary_logloss: 0.134836\n",
      "[57]\tvalid_0's binary_logloss: 0.135208\n",
      "[58]\tvalid_0's binary_logloss: 0.13328\n",
      "[59]\tvalid_0's binary_logloss: 0.134147\n",
      "[60]\tvalid_0's binary_logloss: 0.134549\n",
      "[61]\tvalid_0's binary_logloss: 0.133202\n",
      "[62]\tvalid_0's binary_logloss: 0.135726\n",
      "[63]\tvalid_0's binary_logloss: 0.134011\n",
      "[64]\tvalid_0's binary_logloss: 0.131493\n",
      "[65]\tvalid_0's binary_logloss: 0.134114\n",
      "[66]\tvalid_0's binary_logloss: 0.134525\n",
      "[67]\tvalid_0's binary_logloss: 0.131412\n",
      "[68]\tvalid_0's binary_logloss: 0.12878\n",
      "[69]\tvalid_0's binary_logloss: 0.129571\n",
      "[70]\tvalid_0's binary_logloss: 0.129671\n",
      "[71]\tvalid_0's binary_logloss: 0.129935\n",
      "[72]\tvalid_0's binary_logloss: 0.128951\n",
      "[73]\tvalid_0's binary_logloss: 0.128977\n",
      "[74]\tvalid_0's binary_logloss: 0.127121\n",
      "[75]\tvalid_0's binary_logloss: 0.128107\n",
      "[76]\tvalid_0's binary_logloss: 0.129796\n",
      "[77]\tvalid_0's binary_logloss: 0.131663\n",
      "[78]\tvalid_0's binary_logloss: 0.132483\n",
      "[79]\tvalid_0's binary_logloss: 0.131578\n",
      "[80]\tvalid_0's binary_logloss: 0.130352\n",
      "[81]\tvalid_0's binary_logloss: 0.129895\n",
      "[82]\tvalid_0's binary_logloss: 0.131587\n",
      "[83]\tvalid_0's binary_logloss: 0.132763\n",
      "[84]\tvalid_0's binary_logloss: 0.133677\n",
      "[85]\tvalid_0's binary_logloss: 0.137552\n",
      "[86]\tvalid_0's binary_logloss: 0.136055\n",
      "[87]\tvalid_0's binary_logloss: 0.137904\n",
      "[88]\tvalid_0's binary_logloss: 0.139524\n",
      "[89]\tvalid_0's binary_logloss: 0.138434\n",
      "[90]\tvalid_0's binary_logloss: 0.138402\n",
      "[91]\tvalid_0's binary_logloss: 0.139384\n",
      "[92]\tvalid_0's binary_logloss: 0.139642\n",
      "[93]\tvalid_0's binary_logloss: 0.138006\n",
      "[94]\tvalid_0's binary_logloss: 0.141612\n",
      "[95]\tvalid_0's binary_logloss: 0.142319\n",
      "[96]\tvalid_0's binary_logloss: 0.145095\n",
      "[97]\tvalid_0's binary_logloss: 0.141542\n",
      "[98]\tvalid_0's binary_logloss: 0.144993\n",
      "[99]\tvalid_0's binary_logloss: 0.147936\n",
      "[100]\tvalid_0's binary_logloss: 0.147432\n",
      "[101]\tvalid_0's binary_logloss: 0.149689\n",
      "[102]\tvalid_0's binary_logloss: 0.153542\n",
      "[103]\tvalid_0's binary_logloss: 0.154556\n",
      "[104]\tvalid_0's binary_logloss: 0.155458\n",
      "[105]\tvalid_0's binary_logloss: 0.159357\n",
      "[106]\tvalid_0's binary_logloss: 0.160176\n",
      "[107]\tvalid_0's binary_logloss: 0.163369\n",
      "[108]\tvalid_0's binary_logloss: 0.163494\n",
      "[109]\tvalid_0's binary_logloss: 0.161111\n",
      "[110]\tvalid_0's binary_logloss: 0.16332\n",
      "[111]\tvalid_0's binary_logloss: 0.1663\n",
      "[112]\tvalid_0's binary_logloss: 0.166363\n",
      "[113]\tvalid_0's binary_logloss: 0.169834\n",
      "[114]\tvalid_0's binary_logloss: 0.166509\n",
      "[115]\tvalid_0's binary_logloss: 0.165823\n",
      "[116]\tvalid_0's binary_logloss: 0.167059\n",
      "[117]\tvalid_0's binary_logloss: 0.169086\n",
      "[118]\tvalid_0's binary_logloss: 0.170012\n",
      "[119]\tvalid_0's binary_logloss: 0.168639\n",
      "[120]\tvalid_0's binary_logloss: 0.16907\n",
      "[121]\tvalid_0's binary_logloss: 0.16918\n",
      "[122]\tvalid_0's binary_logloss: 0.170233\n",
      "[123]\tvalid_0's binary_logloss: 0.165655\n",
      "[124]\tvalid_0's binary_logloss: 0.16695\n",
      "[125]\tvalid_0's binary_logloss: 0.170955\n",
      "[126]\tvalid_0's binary_logloss: 0.168916\n",
      "[127]\tvalid_0's binary_logloss: 0.172316\n",
      "[128]\tvalid_0's binary_logloss: 0.173734\n",
      "[129]\tvalid_0's binary_logloss: 0.174309\n",
      "[130]\tvalid_0's binary_logloss: 0.176719\n",
      "[131]\tvalid_0's binary_logloss: 0.176591\n",
      "[132]\tvalid_0's binary_logloss: 0.180168\n",
      "[133]\tvalid_0's binary_logloss: 0.179856\n",
      "[134]\tvalid_0's binary_logloss: 0.179251\n",
      "[135]\tvalid_0's binary_logloss: 0.18315\n",
      "[136]\tvalid_0's binary_logloss: 0.184656\n",
      "[137]\tvalid_0's binary_logloss: 0.187475\n",
      "[138]\tvalid_0's binary_logloss: 0.188721\n",
      "[139]\tvalid_0's binary_logloss: 0.188542\n",
      "[140]\tvalid_0's binary_logloss: 0.18817\n",
      "[141]\tvalid_0's binary_logloss: 0.185899\n",
      "[142]\tvalid_0's binary_logloss: 0.185452\n",
      "[143]\tvalid_0's binary_logloss: 0.186084\n",
      "[144]\tvalid_0's binary_logloss: 0.185302\n",
      "[145]\tvalid_0's binary_logloss: 0.187856\n",
      "[146]\tvalid_0's binary_logloss: 0.190334\n",
      "[147]\tvalid_0's binary_logloss: 0.192769\n",
      "Early stopping, best iteration is:\n",
      "[47]\tvalid_0's binary_logloss: 0.126108\n"
     ]
    }
   ],
   "source": [
    "from lightgbm import ~~~\n",
    "\n",
    "import pandas as pd\n",
    "import numpy as np\n",
    "from sklearn.datasets import load_breast_cancer\n",
    "from sklearn.model_selection import train_test_split\n",
    "\n",
    "dataset = load_breast_cancer()\n",
    "ftr = dataset.data\n",
    "target = dataset.target\n",
    "\n",
    "# 전체 데이터 중 80%는 학습용 데이터, 20%는 테스트용 데이터 추출\n",
    "X_train, X_test, y_train, y_test=train_test_split(ftr, \n",
    "                                                  target,\n",
    "                                                  test_size=0.2, \n",
    "                                                  random_state=156 )\n",
    "\n",
    "# 앞서 XGBoost와 동일하게 n_estimators는 400 설정. \n",
    "lgbm_wrapper = LGBMClassifier(~~~)\n",
    "\n",
    "# LightGBM도 XGBoost와 동일하게 조기 중단 수행 가능. \n",
    "evals = [(X_test, y_test)]\n",
    "lgbm_wrapper.fit(X_train, y_train, early_stopping_rounds=100, eval_metric=\"logloss\", \n",
    "                 eval_set=evals, verbose=True)\n",
    "preds = lgbm_wrapper.predict(X_test)\n",
    "pred_proba = lgbm_wrapper.predict_proba(X_test)[:, 1]"
   ]
  },
  {
   "cell_type": "code",
   "execution_count": 3,
   "metadata": {
    "ExecuteTime": {
     "end_time": "2020-07-19T21:01:27.545001Z",
     "start_time": "2020-07-19T21:01:27.538704Z"
    }
   },
   "outputs": [],
   "source": [
    "from sklearn.metrics import confusion_matrix, accuracy_score\n",
    "from sklearn.metrics import precision_score, recall_score\n",
    "from sklearn.metrics import f1_score, roc_auc_score\n",
    "\n",
    "def get_clf_eval(y_test, pred=None, pred_proba=None):\n",
    "    confusion = confusion_matrix( y_test, pred)\n",
    "    accuracy = accuracy_score(y_test , pred)\n",
    "    precision = precision_score(y_test , pred)\n",
    "    recall = recall_score(y_test , pred)\n",
    "    f1 = f1_score(y_test,pred)\n",
    "    # ROC-AUC 추가 \n",
    "    roc_auc = roc_auc_score(y_test, pred_proba)\n",
    "    print('오차 행렬')\n",
    "    print(confusion)\n",
    "    # ROC-AUC print 추가\n",
    "    print('정확도: {0:.4f}, 정밀도: {1:.4f}, 재현율: {2:.4f},\\\n",
    "    F1: {3:.4f}, AUC:{4:.4f}'.format(accuracy, precision, recall, f1, roc_auc))"
   ]
  },
  {
   "cell_type": "code",
   "execution_count": 4,
   "metadata": {
    "ExecuteTime": {
     "end_time": "2020-07-19T21:01:27.886732Z",
     "start_time": "2020-07-19T21:01:27.872946Z"
    }
   },
   "outputs": [
    {
     "name": "stdout",
     "output_type": "stream",
     "text": [
      "오차 행렬\n",
      "[[33  4]\n",
      " [ 2 75]]\n",
      "정확도: 0.9474, 정밀도: 0.9494, 재현율: 0.9740,    F1: 0.9615, AUC:0.9926\n"
     ]
    }
   ],
   "source": [
    "get_clf_eval(y_test, preds, pred_proba)"
   ]
  },
  {
   "cell_type": "code",
   "execution_count": 5,
   "metadata": {
    "ExecuteTime": {
     "end_time": "2020-07-19T21:01:28.628840Z",
     "start_time": "2020-07-19T21:01:28.074479Z"
    }
   },
   "outputs": [
    {
     "data": {
      "text/plain": [
       "<matplotlib.axes._subplots.AxesSubplot at 0x1bfb094a988>"
      ]
     },
     "execution_count": 5,
     "metadata": {},
     "output_type": "execute_result"
    },
    {
     "data": {
      "image/png": "[encoded data removed]",
      "text/plain": [
       "<Figure size 720x864 with 1 Axes>"
      ]
     },
     "metadata": {
      "needs_background": "light"
     },
     "output_type": "display_data"
    }
   ],
   "source": [
    "# plot_importance( )를 이용하여 feature 중요도 시각화\n",
    "from lightgbm import plot_importance\n",
    "import matplotlib.pyplot as plt\n",
    "%matplotlib inline\n",
    "\n",
    "fig, ax = plt.subplots(figsize=(10, 12))\n",
    "plot_importance(lgbm_wrapper, ax=ax)"
   ]
  },
  {
   "cell_type": "markdown",
   "metadata": {},
   "source": [
    "## Stacking"
   ]
  },
  {
   "cell_type": "markdown",
   "metadata": {},
   "source": [
    "> **특징**<br>\n",
    ">- 개별 알고리즘으로 예측한 데이터를 기반으로 다시 예측을 수행한다는 점 -> 2가지의 모델이 필요함(개별적인 모델, 이 개별 모델의 결과를 기반으로 다시 학습할 최종 메타 모델)<br>\n",
    ">- 핵심 포인트 : 여러 개별 모델의 예측 데이터를 각각 스태킹 형ㅊ태로 결합해 최종 메타 모델의 학습용 피처 데이터 세트와 테스트용 피처 데이터 세트를 만드는 것임!!!!<br>\n",
    ">- But 현실에서는 거의 사용하지 않음;;; 다만, 경진대회에서는 조금이라도 올리기 위해서 사용함!!!!!! & 많은 개별 모델이 필요함!!!!!!!!<br>\n",
    "<img src=\"img/19.png\">\n",
    "\n"
   ]
  },
  {
   "cell_type": "markdown",
   "metadata": {},
   "source": [
    "#### 1번 해보기 \n",
    "<img src=\"img/20.png\">"
   ]
  },
  {
   "cell_type": "code",
   "execution_count": 6,
   "metadata": {
    "ExecuteTime": {
     "end_time": "2020-07-19T21:19:14.906134Z",
     "start_time": "2020-07-19T21:19:14.778040Z"
    }
   },
   "outputs": [],
   "source": [
    "import numpy as np\n",
    "\n",
    "from sklearn.neighbors import KNeighborsClassifier\n",
    "from sklearn.ensemble import RandomForestClassifier\n",
    "from sklearn.ensemble import AdaBoostClassifier\n",
    "from sklearn.tree import DecisionTreeClassifier\n",
    "from sklearn.linear_model import LogisticRegression\n",
    "\n",
    "from sklearn.datasets import load_breast_cancer\n",
    "from sklearn.model_selection import train_test_split\n",
    "from sklearn.metrics import accuracy_score\n",
    "\n",
    "cancer_data = load_breast_cancer()\n",
    "\n",
    "X_data = cancer_data.data\n",
    "y_label = cancer_data.target\n",
    "\n",
    "X_train , X_test , y_train , y_test = train_test_split(X_data , y_label , test_size=0.2 , random_state=0)"
   ]
  },
  {
   "cell_type": "code",
   "execution_count": 7,
   "metadata": {
    "ExecuteTime": {
     "end_time": "2020-07-19T21:19:25.830001Z",
     "start_time": "2020-07-19T21:19:25.826432Z"
    }
   },
   "outputs": [],
   "source": [
    "# 개별 ML 모델을 위한 Classifier 생성.\n",
    "knn_clf  = ~~~\n",
    "rf_clf = ~~~\n",
    "dt_clf = ~~~\n",
    "ada_clf = ~~~\n",
    "\n",
    "# 최종 Stacking 모델을 위한 Classifier생성. \n",
    "lr_final = ~~~"
   ]
  },
  {
   "cell_type": "code",
   "execution_count": 8,
   "metadata": {
    "ExecuteTime": {
     "end_time": "2020-07-19T21:19:32.265164Z",
     "start_time": "2020-07-19T21:19:31.899383Z"
    }
   },
   "outputs": [
    {
     "data": {
      "text/plain": [
       "AdaBoostClassifier(algorithm='SAMME.R', base_estimator=None, learning_rate=1.0,\n",
       "                   n_estimators=100, random_state=None)"
      ]
     },
     "execution_count": 8,
     "metadata": {},
     "output_type": "execute_result"
    }
   ],
   "source": [
    "# 개별 모델들을 학습. \n",
    "knn_clf.~~~\n",
    "rf_clf.~~~\n",
    "dt_clf.~~~\n",
    "ada_clf.~~~"
   ]
  },
  {
   "cell_type": "code",
   "execution_count": 9,
   "metadata": {
    "ExecuteTime": {
     "end_time": "2020-07-19T21:19:57.975149Z",
     "start_time": "2020-07-19T21:19:57.945772Z"
    }
   },
   "outputs": [
    {
     "name": "stdout",
     "output_type": "stream",
     "text": [
      "KNN 정확도: 0.9211\n",
      "랜덤 포레스트 정확도: 0.9649\n",
      "결정 트리 정확도: 0.9035\n",
      "에이다부스트 정확도: 0.9561 :\n"
     ]
    }
   ],
   "source": [
    "# 학습된 개별 모델들이 각자 반환하는 예측 데이터 셋을 생성하고 개별 모델의 정확도 측정. \n",
    "knn_pred = knn_clf.~~~\n",
    "rf_pred = rf_clf.~~~\n",
    "dt_pred = dt_clf.~~~\n",
    "ada_pred = ada_clf.~~~\n",
    "\n",
    "print('KNN 정확도: {0:.4f}'.format(accuracy_score(y_test, knn_pred)))\n",
    "print('랜덤 포레스트 정확도: {0:.4f}'.format(accuracy_score(y_test, rf_pred)))\n",
    "print('결정 트리 정확도: {0:.4f}'.format(accuracy_score(y_test, dt_pred)))\n",
    "print('에이다부스트 정확도: {0:.4f} :'.format(accuracy_score(y_test, ada_pred)))"
   ]
  },
  {
   "cell_type": "code",
   "execution_count": 10,
   "metadata": {
    "ExecuteTime": {
     "end_time": "2020-07-19T21:20:13.805063Z",
     "start_time": "2020-07-19T21:20:13.801999Z"
    }
   },
   "outputs": [
    {
     "name": "stdout",
     "output_type": "stream",
     "text": [
      "(4, 114)\n",
      "(114, 4)\n"
     ]
    }
   ],
   "source": [
    "pred = np.array([~~~])\n",
    "print(pred.shape)\n",
    "\n",
    "# transpose를 이용해 행과 열의 위치 교환. 컬럼 레벨로 각 알고리즘의 예측 결과를 피처로 만듦. \n",
    "pred = np.transpose(pred)\n",
    "print(pred.shape)"
   ]
  },
  {
   "cell_type": "code",
   "execution_count": 11,
   "metadata": {
    "ExecuteTime": {
     "end_time": "2020-07-19T21:20:14.000649Z",
     "start_time": "2020-07-19T21:20:13.994024Z"
    }
   },
   "outputs": [
    {
     "name": "stdout",
     "output_type": "stream",
     "text": [
      "최종 메타 모델의 예측 정확도: 0.9737\n"
     ]
    }
   ],
   "source": [
    "lr_final.~~~\n",
    "final = lr_final.~~~\n",
    "\n",
    "print('최종 메타 모델의 예측 정확도: {0:.4f}'.format(accuracy_score(y_test , final)))"
   ]
  },
  {
   "cell_type": "markdown",
   "metadata": {},
   "source": [
    "#### CV기반으로 해보자"
   ]
  },
  {
   "cell_type": "markdown",
   "metadata": {
    "ExecuteTime": {
     "end_time": "2020-07-19T21:22:51.259262Z",
     "start_time": "2020-07-19T21:22:51.256163Z"
    }
   },
   "source": [
    "<img src=\"img/21.png\">\n",
    "<img src=\"img/22.png\">\n",
    "<img src=\"img/23.png\">\n",
    "<img src=\"img/24.png\">\n"
   ]
  },
  {
   "cell_type": "code",
   "execution_count": 13,
   "metadata": {
    "ExecuteTime": {
     "end_time": "2020-07-19T21:23:10.888892Z",
     "start_time": "2020-07-19T21:23:10.882786Z"
    }
   },
   "outputs": [],
   "source": [
    "from sklearn.model_selection import KFold\n",
    "from sklearn.metrics import mean_absolute_error\n",
    "\n",
    "# 개별 기반 모델에서 최종 메타 모델이 사용할 학습 및 테스트용 데이터를 생성하기 위한 함수. \n",
    "def get_stacking_base_datasets(model, X_train_n, y_train_n, X_test_n, n_folds ):\n",
    "    # 지정된 n_folds값으로 KFold 생성.\n",
    "    kf = KFold(n_splits=n_folds, shuffle=False, random_state=0)\n",
    "    #추후에 메타 모델이 사용할 학습 데이터 반환을 위한 넘파이 배열 초기화 \n",
    "    train_fold_pred = np.zeros((X_train_n.shape[0] ,1 ))\n",
    "    test_pred = np.zeros((X_test_n.shape[0],n_folds))\n",
    "    print(model.__class__.__name__ , ' model 시작 ')\n",
    "    \n",
    "    for folder_counter , (train_index, valid_index) in enumerate(kf.split(X_train_n)):\n",
    "        #입력된 학습 데이터에서 기반 모델이 학습/예측할 폴드 데이터 셋 추출 \n",
    "        print('\\t 폴드 세트: ',folder_counter,' 시작 ')\n",
    "        X_tr = X_train_n[train_index] \n",
    "        y_tr = y_train_n[train_index] \n",
    "        X_te = X_train_n[valid_index]  \n",
    "        \n",
    "        #폴드 세트 내부에서 다시 만들어진 학습 데이터로 기반 모델의 학습 수행.\n",
    "        model.fit(X_tr , y_tr)       \n",
    "        #폴드 세트 내부에서 다시 만들어진 검증 데이터로 기반 모델 예측 후 데이터 저장.\n",
    "        train_fold_pred[valid_index, :] = model.predict(X_te).reshape(-1,1)\n",
    "        #입력된 원본 테스트 데이터를 폴드 세트내 학습된 기반 모델에서 예측 후 데이터 저장. \n",
    "        test_pred[:, folder_counter] = model.predict(X_test_n)\n",
    "            \n",
    "    # 폴드 세트 내에서 원본 테스트 데이터를 예측한 데이터를 평균하여 테스트 데이터로 생성 \n",
    "    test_pred_mean = np.mean(test_pred, axis=1).reshape(-1,1)    \n",
    "    \n",
    "    #train_fold_pred는 최종 메타 모델이 사용하는 학습 데이터, test_pred_mean은 테스트 데이터\n",
    "    return train_fold_pred , test_pred_mean"
   ]
  },
  {
   "cell_type": "code",
   "execution_count": 14,
   "metadata": {
    "ExecuteTime": {
     "end_time": "2020-07-19T21:23:22.542018Z",
     "start_time": "2020-07-19T21:23:19.961709Z"
    }
   },
   "outputs": [
    {
     "name": "stderr",
     "output_type": "stream",
     "text": [
      "C:\\ProgramData\\Anaconda3\\lib\\site-packages\\sklearn\\model_selection\\_split.py:296: FutureWarning: Setting a random_state has no effect since shuffle is False. This will raise an error in 0.24. You should leave random_state to its default (None), or set shuffle=True.\n",
      "  FutureWarning\n",
      "C:\\ProgramData\\Anaconda3\\lib\\site-packages\\sklearn\\model_selection\\_split.py:296: FutureWarning: Setting a random_state has no effect since shuffle is False. This will raise an error in 0.24. You should leave random_state to its default (None), or set shuffle=True.\n",
      "  FutureWarning\n"
     ]
    },
    {
     "name": "stdout",
     "output_type": "stream",
     "text": [
      "KNeighborsClassifier  model 시작 \n",
      "\t 폴드 세트:  0  시작 \n",
      "\t 폴드 세트:  1  시작 \n",
      "\t 폴드 세트:  2  시작 \n",
      "\t 폴드 세트:  3  시작 \n",
      "\t 폴드 세트:  4  시작 \n",
      "\t 폴드 세트:  5  시작 \n",
      "\t 폴드 세트:  6  시작 \n",
      "RandomForestClassifier  model 시작 \n",
      "\t 폴드 세트:  0  시작 \n",
      "\t 폴드 세트:  1  시작 \n",
      "\t 폴드 세트:  2  시작 \n",
      "\t 폴드 세트:  3  시작 \n",
      "\t 폴드 세트:  4  시작 \n",
      "\t 폴드 세트:  5  시작 \n",
      "\t 폴드 세트:  6  시작 \n"
     ]
    },
    {
     "name": "stderr",
     "output_type": "stream",
     "text": [
      "C:\\ProgramData\\Anaconda3\\lib\\site-packages\\sklearn\\model_selection\\_split.py:296: FutureWarning: Setting a random_state has no effect since shuffle is False. This will raise an error in 0.24. You should leave random_state to its default (None), or set shuffle=True.\n",
      "  FutureWarning\n",
      "C:\\ProgramData\\Anaconda3\\lib\\site-packages\\sklearn\\model_selection\\_split.py:296: FutureWarning: Setting a random_state has no effect since shuffle is False. This will raise an error in 0.24. You should leave random_state to its default (None), or set shuffle=True.\n",
      "  FutureWarning\n"
     ]
    },
    {
     "name": "stdout",
     "output_type": "stream",
     "text": [
      "DecisionTreeClassifier  model 시작 \n",
      "\t 폴드 세트:  0  시작 \n",
      "\t 폴드 세트:  1  시작 \n",
      "\t 폴드 세트:  2  시작 \n",
      "\t 폴드 세트:  3  시작 \n",
      "\t 폴드 세트:  4  시작 \n",
      "\t 폴드 세트:  5  시작 \n",
      "\t 폴드 세트:  6  시작 \n",
      "AdaBoostClassifier  model 시작 \n",
      "\t 폴드 세트:  0  시작 \n",
      "\t 폴드 세트:  1  시작 \n",
      "\t 폴드 세트:  2  시작 \n",
      "\t 폴드 세트:  3  시작 \n",
      "\t 폴드 세트:  4  시작 \n",
      "\t 폴드 세트:  5  시작 \n",
      "\t 폴드 세트:  6  시작 \n"
     ]
    }
   ],
   "source": [
    "knn_train, knn_test = get_stacking_base_datasets(knn_clf, X_train, y_train, X_test, 7)\n",
    "rf_train, rf_test = get_stacking_base_datasets(rf_clf, X_train, y_train, X_test, 7)\n",
    "dt_train, dt_test = get_stacking_base_datasets(dt_clf, X_train, y_train, X_test,  7)    \n",
    "ada_train, ada_test = get_stacking_base_datasets(ada_clf, X_train, y_train, X_test, 7)"
   ]
  },
  {
   "cell_type": "code",
   "execution_count": 15,
   "metadata": {
    "ExecuteTime": {
     "end_time": "2020-07-19T21:23:32.898910Z",
     "start_time": "2020-07-19T21:23:32.893192Z"
    }
   },
   "outputs": [
    {
     "name": "stdout",
     "output_type": "stream",
     "text": [
      "원본 학습 피처 데이터 Shape: (455, 30) 원본 테스트 피처 Shape: (114, 30)\n",
      "스태킹 학습 피처 데이터 Shape: (455, 4) 스태킹 테스트 피처 데이터 Shape: (114, 4)\n"
     ]
    }
   ],
   "source": [
    "Stack_final_X_train = np.concatenate((knn_train, rf_train, dt_train, ada_train), axis=1)\n",
    "Stack_final_X_test = np.concatenate((knn_test, rf_test, dt_test, ada_test), axis=1)\n",
    "print('원본 학습 피처 데이터 Shape:',X_train.shape, '원본 테스트 피처 Shape:',X_test.shape)\n",
    "print('스태킹 학습 피처 데이터 Shape:', Stack_final_X_train.shape,\n",
    "      '스태킹 테스트 피처 데이터 Shape:',Stack_final_X_test.shape)"
   ]
  },
  {
   "cell_type": "code",
   "execution_count": 16,
   "metadata": {
    "ExecuteTime": {
     "end_time": "2020-07-19T21:23:39.322892Z",
     "start_time": "2020-07-19T21:23:39.315214Z"
    }
   },
   "outputs": [
    {
     "name": "stdout",
     "output_type": "stream",
     "text": [
      "최종 메타 모델의 예측 정확도: 0.9737\n"
     ]
    }
   ],
   "source": [
    "lr_final.fit(Stack_final_X_train, y_train)\n",
    "stack_final = lr_final.predict(Stack_final_X_test)\n",
    "\n",
    "print('최종 메타 모델의 예측 정확도: {0:.4f}'.format(accuracy_score(y_test, stack_final)))"
   ]
  },
  {
   "cell_type": "markdown",
   "metadata": {},
   "source": [
    "#### mlxtend 패키지 활용해보자!!!"
   ]
  },
  {
   "cell_type": "markdown",
   "metadata": {},
   "source": [
    "###### 설치"
   ]
  },
  {
   "cell_type": "markdown",
   "metadata": {},
   "source": [
    "<img src=\"img/25.png\">"
   ]
  },
  {
   "cell_type": "code",
   "execution_count": 1,
   "metadata": {},
   "outputs": [],
   "source": [
    "from mlxtend.classifier import StackingClassifier"
   ]
  },
  {
   "cell_type": "markdown",
   "metadata": {},
   "source": [
    "###### 기본 사용"
   ]
  },
  {
   "cell_type": "code",
   "execution_count": 17,
   "metadata": {
    "ExecuteTime": {
     "end_time": "2020-07-19T21:31:15.131475Z",
     "start_time": "2020-07-19T21:31:14.395934Z"
    }
   },
   "outputs": [
    {
     "name": "stdout",
     "output_type": "stream",
     "text": [
      "3-fold cross validation:\n",
      "\n",
      "Accuracy: 0.91 (+/- 0.01) [KNN]\n",
      "Accuracy: 0.95 (+/- 0.01) [Random Forest]\n",
      "Accuracy: 0.91 (+/- 0.02) [Naive Bayes]\n",
      "Accuracy: 0.95 (+/- 0.02) [StackingClassifier]\n"
     ]
    }
   ],
   "source": [
    "from sklearn import datasets\n",
    "\n",
    "\n",
    "from sklearn import model_selection\n",
    "from sklearn.linear_model import LogisticRegression\n",
    "from sklearn.neighbors import KNeighborsClassifier\n",
    "from sklearn.naive_bayes import GaussianNB \n",
    "from sklearn.ensemble import RandomForestClassifier\n",
    "from mlxtend.classifier import ~~~\n",
    "import numpy as np\n",
    "import warnings\n",
    "\n",
    "\n",
    "\n",
    "iris = datasets.load_iris()\n",
    "X, y = iris.data[:, 1:3], iris.target\n",
    "\n",
    "\n",
    "warnings.simplefilter('ignore')\n",
    "\n",
    "clf1 = ~~~\n",
    "clf2 = ~~~\n",
    "clf3 = ~~~\n",
    "\n",
    "lr = ~~~\n",
    "sclf = StackingClassifier(~~~)\n",
    "\n",
    "print('3-fold cross validation:\\n')\n",
    "\n",
    "for clf, label in zip(~~~, \n",
    "                      ~~~):\n",
    "\n",
    "    scores = model_selection.cross_val_score(clf, X, y, \n",
    "                                              cv=3, scoring='accuracy')\n",
    "    print(\"Accuracy: %0.2f (+/- %0.2f) [%s]\" \n",
    "          % (scores.mean(), scores.std(), label))\n",
    "    "
   ]
  },
  {
   "cell_type": "code",
   "execution_count": 18,
   "metadata": {
    "ExecuteTime": {
     "end_time": "2020-07-19T21:31:39.499133Z",
     "start_time": "2020-07-19T21:31:17.450144Z"
    }
   },
   "outputs": [
    {
     "data": {
      "image/png": "[encoded data removed]",
      "text/plain": [
       "<Figure size 720x576 with 4 Axes>"
      ]
     },
     "metadata": {
      "needs_background": "light"
     },
     "output_type": "display_data"
    }
   ],
   "source": [
    "import matplotlib.pyplot as plt\n",
    "from mlxtend.plotting import plot_decision_regions\n",
    "import matplotlib.gridspec as gridspec\n",
    "import itertools\n",
    "\n",
    "gs = gridspec.GridSpec(2, 2)\n",
    "\n",
    "fig = plt.figure(figsize=(10,8))\n",
    "\n",
    "for clf, lab, grd in zip([clf1, clf2, clf3, sclf], \n",
    "                         ['KNN', \n",
    "                          'Random Forest', \n",
    "                          'Naive Bayes',\n",
    "                          'StackingClassifier'],\n",
    "                          itertools.product([0, 1], repeat=2)):\n",
    "\n",
    "    clf.fit(X, y)\n",
    "    ax = plt.subplot(gs[grd[0], grd[1]])\n",
    "    fig = plot_decision_regions(X=X, y=y, clf=clf)\n",
    "    plt.title(lab)"
   ]
  },
  {
   "cell_type": "markdown",
   "metadata": {},
   "source": [
    "###### gridsearch와 함께 사용하자!!   --> 파라미터 이름에 대한 지정을 주의해야한다!!!!!!"
   ]
  },
  {
   "cell_type": "code",
   "execution_count": 19,
   "metadata": {
    "ExecuteTime": {
     "end_time": "2020-07-19T21:32:20.842241Z",
     "start_time": "2020-07-19T21:32:20.838657Z"
    }
   },
   "outputs": [],
   "source": [
    "from sklearn.linear_model import LogisticRegression\n",
    "from sklearn.neighbors import KNeighborsClassifier\n",
    "from sklearn.naive_bayes import GaussianNB \n",
    "from sklearn.ensemble import RandomForestClassifier\n",
    "from sklearn.model_selection import GridSearchCV\n",
    "from mlxtend.classifier import StackingClassifier\n"
   ]
  },
  {
   "cell_type": "code",
   "execution_count": 20,
   "metadata": {
    "ExecuteTime": {
     "end_time": "2020-07-19T21:32:29.680337Z",
     "start_time": "2020-07-19T21:32:27.811656Z"
    }
   },
   "outputs": [
    {
     "name": "stdout",
     "output_type": "stream",
     "text": [
      "0.933 +/- 0.03 {'kneighborsclassifier__n_neighbors': 1, 'meta_classifier__C': 0.1, 'randomforestclassifier__n_estimators': 10}\n",
      "0.940 +/- 0.02 {'kneighborsclassifier__n_neighbors': 1, 'meta_classifier__C': 0.1, 'randomforestclassifier__n_estimators': 50}\n",
      "0.927 +/- 0.03 {'kneighborsclassifier__n_neighbors': 1, 'meta_classifier__C': 10.0, 'randomforestclassifier__n_estimators': 10}\n",
      "0.947 +/- 0.02 {'kneighborsclassifier__n_neighbors': 1, 'meta_classifier__C': 10.0, 'randomforestclassifier__n_estimators': 50}\n",
      "0.947 +/- 0.02 {'kneighborsclassifier__n_neighbors': 5, 'meta_classifier__C': 0.1, 'randomforestclassifier__n_estimators': 10}\n",
      "0.947 +/- 0.02 {'kneighborsclassifier__n_neighbors': 5, 'meta_classifier__C': 0.1, 'randomforestclassifier__n_estimators': 50}\n",
      "0.933 +/- 0.02 {'kneighborsclassifier__n_neighbors': 5, 'meta_classifier__C': 10.0, 'randomforestclassifier__n_estimators': 10}\n",
      "0.940 +/- 0.02 {'kneighborsclassifier__n_neighbors': 5, 'meta_classifier__C': 10.0, 'randomforestclassifier__n_estimators': 50}\n",
      "Best parameters: {'kneighborsclassifier__n_neighbors': 1, 'meta_classifier__C': 10.0, 'randomforestclassifier__n_estimators': 50}\n",
      "Accuracy: 0.95\n"
     ]
    }
   ],
   "source": [
    "# Initializing models\n",
    "\n",
    "clf1 = ~~~\n",
    "clf2 = ~~~~\n",
    "clf3 = ~~~~\n",
    "lr = ~~~\n",
    "\n",
    "sclf = ~~~~\n",
    "\n",
    "params = {~~~}\n",
    "\n",
    "grid = GridSearchCV(estimator=~~~, \n",
    "                    param_grid=~~~, \n",
    "                    cv=5,\n",
    "                    refit=True)\n",
    "grid.fit(X, y)\n",
    "\n",
    "cv_keys = ('mean_test_score', 'std_test_score', 'params')\n",
    "\n",
    "for r, _ in enumerate(grid.cv_results_['mean_test_score']):\n",
    "    print(\"%0.3f +/- %0.2f %r\"\n",
    "          % (grid.cv_results_[cv_keys[0]][r],\n",
    "             grid.cv_results_[cv_keys[1]][r] / 2.0,\n",
    "             grid.cv_results_[cv_keys[2]][r]))\n",
    "\n",
    "print('Best parameters: %s' % grid.best_params_)\n",
    "print('Accuracy: %.2f' % grid.best_score_)"
   ]
  },
  {
   "cell_type": "markdown",
   "metadata": {},
   "source": [
    "* knn을 2개, random 1개"
   ]
  },
  {
   "cell_type": "code",
   "execution_count": 21,
   "metadata": {
    "ExecuteTime": {
     "end_time": "2020-07-19T21:34:33.513924Z",
     "start_time": "2020-07-19T21:34:29.488382Z"
    }
   },
   "outputs": [
    {
     "name": "stdout",
     "output_type": "stream",
     "text": [
      "0.933 +/- 0.03 {'kneighborsclassifier-1__n_neighbors': 1, 'kneighborsclassifier-2__n_neighbors': 1, 'meta_classifier__C': 0.1, 'randomforestclassifier__n_estimators': 10}\n",
      "0.940 +/- 0.02 {'kneighborsclassifier-1__n_neighbors': 1, 'kneighborsclassifier-2__n_neighbors': 1, 'meta_classifier__C': 0.1, 'randomforestclassifier__n_estimators': 50}\n",
      "0.927 +/- 0.03 {'kneighborsclassifier-1__n_neighbors': 1, 'kneighborsclassifier-2__n_neighbors': 1, 'meta_classifier__C': 10.0, 'randomforestclassifier__n_estimators': 10}\n",
      "0.947 +/- 0.02 {'kneighborsclassifier-1__n_neighbors': 1, 'kneighborsclassifier-2__n_neighbors': 1, 'meta_classifier__C': 10.0, 'randomforestclassifier__n_estimators': 50}\n",
      "0.940 +/- 0.02 {'kneighborsclassifier-1__n_neighbors': 1, 'kneighborsclassifier-2__n_neighbors': 5, 'meta_classifier__C': 0.1, 'randomforestclassifier__n_estimators': 10}\n",
      "0.947 +/- 0.02 {'kneighborsclassifier-1__n_neighbors': 1, 'kneighborsclassifier-2__n_neighbors': 5, 'meta_classifier__C': 0.1, 'randomforestclassifier__n_estimators': 50}\n",
      "0.933 +/- 0.03 {'kneighborsclassifier-1__n_neighbors': 1, 'kneighborsclassifier-2__n_neighbors': 5, 'meta_classifier__C': 10.0, 'randomforestclassifier__n_estimators': 10}\n",
      "0.953 +/- 0.02 {'kneighborsclassifier-1__n_neighbors': 1, 'kneighborsclassifier-2__n_neighbors': 5, 'meta_classifier__C': 10.0, 'randomforestclassifier__n_estimators': 50}\n",
      "0.940 +/- 0.02 {'kneighborsclassifier-1__n_neighbors': 5, 'kneighborsclassifier-2__n_neighbors': 1, 'meta_classifier__C': 0.1, 'randomforestclassifier__n_estimators': 10}\n",
      "0.947 +/- 0.02 {'kneighborsclassifier-1__n_neighbors': 5, 'kneighborsclassifier-2__n_neighbors': 1, 'meta_classifier__C': 0.1, 'randomforestclassifier__n_estimators': 50}\n",
      "0.933 +/- 0.03 {'kneighborsclassifier-1__n_neighbors': 5, 'kneighborsclassifier-2__n_neighbors': 1, 'meta_classifier__C': 10.0, 'randomforestclassifier__n_estimators': 10}\n",
      "0.953 +/- 0.02 {'kneighborsclassifier-1__n_neighbors': 5, 'kneighborsclassifier-2__n_neighbors': 1, 'meta_classifier__C': 10.0, 'randomforestclassifier__n_estimators': 50}\n",
      "0.953 +/- 0.02 {'kneighborsclassifier-1__n_neighbors': 5, 'kneighborsclassifier-2__n_neighbors': 5, 'meta_classifier__C': 0.1, 'randomforestclassifier__n_estimators': 10}\n",
      "0.953 +/- 0.02 {'kneighborsclassifier-1__n_neighbors': 5, 'kneighborsclassifier-2__n_neighbors': 5, 'meta_classifier__C': 0.1, 'randomforestclassifier__n_estimators': 50}\n",
      "0.933 +/- 0.02 {'kneighborsclassifier-1__n_neighbors': 5, 'kneighborsclassifier-2__n_neighbors': 5, 'meta_classifier__C': 10.0, 'randomforestclassifier__n_estimators': 10}\n",
      "0.940 +/- 0.02 {'kneighborsclassifier-1__n_neighbors': 5, 'kneighborsclassifier-2__n_neighbors': 5, 'meta_classifier__C': 10.0, 'randomforestclassifier__n_estimators': 50}\n",
      "Best parameters: {'kneighborsclassifier-1__n_neighbors': 1, 'kneighborsclassifier-2__n_neighbors': 5, 'meta_classifier__C': 10.0, 'randomforestclassifier__n_estimators': 50}\n",
      "Accuracy: 0.95\n"
     ]
    }
   ],
   "source": [
    "from sklearn.model_selection import GridSearchCV\n",
    "\n",
    "# Initializing models\n",
    "\n",
    "clf1 = ~~~\n",
    "clf2 = ~~~\n",
    "clf3 = ~~~\n",
    "lr = ~~~\n",
    "sclf = ~~~\n",
    "\n",
    "\n",
    "params = {~~~}\n",
    "\n",
    "grid = GridSearchCV(estimator=sclf, \n",
    "                    param_grid=params, \n",
    "                    cv=5,\n",
    "                    refit=True)\n",
    "grid.fit(X, y)\n",
    "\n",
    "cv_keys = ('mean_test_score', 'std_test_score', 'params')\n",
    "\n",
    "for r, _ in enumerate(grid.cv_results_['mean_test_score']):\n",
    "    print(\"%0.3f +/- %0.2f %r\"\n",
    "          % (grid.cv_results_[cv_keys[0]][r],\n",
    "             grid.cv_results_[cv_keys[1]][r] / 2.0,\n",
    "             grid.cv_results_[cv_keys[2]][r]))\n",
    "\n",
    "print('Best parameters: %s' % grid.best_params_)\n",
    "print('Accuracy: %.2f' % grid.best_score_)"
   ]
  },
  {
   "cell_type": "code",
   "execution_count": null,
   "metadata": {},
   "outputs": [],
   "source": []
  }
 ],
 "metadata": {
  "kernelspec": {
   "display_name": "Python 3",
   "language": "python",
   "name": "python3"
  },
  "language_info": {
   "codemirror_mode": {
    "name": "ipython",
    "version": 3
   },
   "file_extension": ".py",
   "mimetype": "text/x-python",
   "name": "python",
   "nbconvert_exporter": "python",
   "pygments_lexer": "ipython3",
   "version": "3.7.6"
  },
  "toc": {
   "base_numbering": 1,
   "nav_menu": {},
   "number_sections": true,
   "sideBar": true,
   "skip_h1_title": false,
   "title_cell": "Table of Contents",
   "title_sidebar": "Contents",
   "toc_cell": false,
   "toc_position": {},
   "toc_section_display": true,
   "toc_window_display": true
  },
  "varInspector": {
   "cols": {
    "lenName": 16,
    "lenType": 16,
    "lenVar": 40
   },
   "kernels_config": {
    "python": {
     "delete_cmd_postfix": "",
     "delete_cmd_prefix": "del ",
     "library": "var_list.py",
     "varRefreshCmd": "print(var_dic_list())"
    },
    "r": {
     "delete_cmd_postfix": ") ",
     "delete_cmd_prefix": "rm(",
     "library": "var_list.r",
     "varRefreshCmd": "cat(var_dic_list()) "
    }
   },
   "types_to_exclude": [
    "module",
    "function",
    "builtin_function_or_method",
    "instance",
    "_Feature"
   ],
   "window_display": false
  }
 },
 "nbformat": 4,
 "nbformat_minor": 4
}
